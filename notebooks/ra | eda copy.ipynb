{
 "cells": [
  {
   "cell_type": "markdown",
   "metadata": {},
   "source": [
    "# **MediSure**\n"
   ]
  },
  {
   "cell_type": "markdown",
   "metadata": {},
   "source": [
    "OR"
   ]
  },
  {
   "cell_type": "markdown",
   "metadata": {},
   "source": [
    "# **SafeRx**"
   ]
  },
  {
   "cell_type": "markdown",
   "metadata": {},
   "source": [
    "$$PROPOSAL$$\n",
    "\n",
    "\n",
    "\n",
    "### **Objective:**  \n",
    "\n",
    "The primary objective of this project is to develop a predictive model that evaluates the safety of medications for individual users by analyzing their medical profiles, current medicines, and allergies. The model will provide recommendations for both chemical and herbal alternatives to prescribed medicines, while cross-checking potential allergic reactions between medications. Additionally, it will offer guidance on foods that should be avoided while taking specific medications, ensuring users make informed decisions on medicine safety, alternatives, and dietary considerations.\n",
    "\n",
    "\n",
    "$$ ~~~~~~~ $$\n",
    "\n",
    "\n",
    "\n",
    "### **Tools:**\n",
    "\n",
    "- **Pandas** for data cleaning and manipulation.\n",
    "\n",
    "- **Scikit-learn** for building and training predictive models (Logistic Regression, Random Forest).\n",
    "\n",
    "- **XGBoost** for efficient and scalable gradient boosting.\n",
    "\n",
    "- **NLP libraries** (spaCy/Transformers) for processing unstructured data related to medical profiles and symptoms.\n",
    "\n",
    "- **Flask/Django** to build the web interface and REST API for user interaction.\n",
    "\n",
    "- **PostgreSQL/MongoDB** for storing user profiles, medicine information, and interactions.\n",
    "\n",
    "\n",
    "\n",
    "\n",
    "$$ ~~~~~~~ $$\n",
    "\n",
    "\n",
    "\n",
    "\n",
    "### **Expected Outcomes:**\n",
    "\n",
    "- A user-friendly application that allows individuals to input their medical profiles and receive immediate feedback on medication safety.\n",
    "- Recommendations for both chemical and herbal alternative medicines, along with safe food options based on allergies and current medications.\n",
    "- A comprehensive report on potential side effects and safety considerations, offering users insights into their medications and health.\n"
   ]
  },
  {
   "cell_type": "markdown",
   "metadata": {},
   "source": [
    "____"
   ]
  },
  {
   "cell_type": "markdown",
   "metadata": {},
   "source": [
    "# EDA"
   ]
  },
  {
   "cell_type": "code",
   "execution_count": 10,
   "metadata": {},
   "outputs": [],
   "source": [
    "import pandas as pd\n",
    "import numpy as np\n",
    "\n",
    "import seaborn as sns\n",
    "import matplotlib.pyplot as plt\n"
   ]
  },
  {
   "cell_type": "markdown",
   "metadata": {},
   "source": [
    "# 1"
   ]
  },
  {
   "cell_type": "code",
   "execution_count": 8,
   "metadata": {},
   "outputs": [
    {
     "name": "stderr",
     "output_type": "stream",
     "text": [
      "/var/folders/qx/yrwdfm5j0jz1gmhp0x2tvjy80000gn/T/ipykernel_39620/4101473200.py:3: DtypeWarning: Columns (42,43,44,45,46,47,48) have mixed types. Specify dtype option on import or set low_memory=False.\n",
      "  df = pd.read_csv('/Users/raynasser/Downloads/DSproj/medicine_dataset.csv')\n"
     ]
    },
    {
     "data": {
      "text/plain": [
       "(248218, 58)"
      ]
     },
     "execution_count": 8,
     "metadata": {},
     "output_type": "execute_result"
    }
   ],
   "source": [
    "# url = https://www.kaggle.com/datasets/shudhanshusingh/250k-medicines-usage-side-effects-and-substitutes/data\n",
    "\n",
    "df = pd.read_csv('/Users/raynasser/Downloads/DSproj/medicine_dataset.csv')\n",
    "\n",
    "df.shape"
   ]
  },
  {
   "cell_type": "code",
   "execution_count": 9,
   "metadata": {},
   "outputs": [
    {
     "data": {
      "text/plain": [
       "Index(['id', 'name', 'substitute0', 'substitute1', 'substitute2',\n",
       "       'substitute3', 'substitute4', 'sideEffect0', 'sideEffect1',\n",
       "       'sideEffect2', 'sideEffect3', 'sideEffect4', 'sideEffect5',\n",
       "       'sideEffect6', 'sideEffect7', 'sideEffect8', 'sideEffect9',\n",
       "       'sideEffect10', 'sideEffect11', 'sideEffect12', 'sideEffect13',\n",
       "       'sideEffect14', 'sideEffect15', 'sideEffect16', 'sideEffect17',\n",
       "       'sideEffect18', 'sideEffect19', 'sideEffect20', 'sideEffect21',\n",
       "       'sideEffect22', 'sideEffect23', 'sideEffect24', 'sideEffect25',\n",
       "       'sideEffect26', 'sideEffect27', 'sideEffect28', 'sideEffect29',\n",
       "       'sideEffect30', 'sideEffect31', 'sideEffect32', 'sideEffect33',\n",
       "       'sideEffect34', 'sideEffect35', 'sideEffect36', 'sideEffect37',\n",
       "       'sideEffect38', 'sideEffect39', 'sideEffect40', 'sideEffect41', 'use0',\n",
       "       'use1', 'use2', 'use3', 'use4', 'Chemical Class', 'Habit Forming',\n",
       "       'Therapeutic Class', 'Action Class'],\n",
       "      dtype='object')"
      ]
     },
     "execution_count": 9,
     "metadata": {},
     "output_type": "execute_result"
    }
   ],
   "source": [
    "# df.info()\n",
    "\n",
    "df.columns"
   ]
  },
  {
   "cell_type": "code",
   "execution_count": 12,
   "metadata": {},
   "outputs": [
    {
     "data": {
      "text/plain": [
       "array([dtype('int64'), dtype('O')], dtype=object)"
      ]
     },
     "execution_count": 12,
     "metadata": {},
     "output_type": "execute_result"
    }
   ],
   "source": [
    "df.dtypes.unique()"
   ]
  },
  {
   "cell_type": "code",
   "execution_count": 13,
   "metadata": {},
   "outputs": [
    {
     "data": {
      "text/plain": [
       "object    57\n",
       "int64      1\n",
       "dtype: int64"
      ]
     },
     "execution_count": 13,
     "metadata": {},
     "output_type": "execute_result"
    }
   ],
   "source": [
    "df.dtypes.value_counts()\n"
   ]
  },
  {
   "cell_type": "code",
   "execution_count": 17,
   "metadata": {},
   "outputs": [
    {
     "data": {
      "text/html": [
       "<div>\n",
       "<style scoped>\n",
       "    .dataframe tbody tr th:only-of-type {\n",
       "        vertical-align: middle;\n",
       "    }\n",
       "\n",
       "    .dataframe tbody tr th {\n",
       "        vertical-align: top;\n",
       "    }\n",
       "\n",
       "    .dataframe thead th {\n",
       "        text-align: right;\n",
       "    }\n",
       "</style>\n",
       "<table border=\"1\" class=\"dataframe\">\n",
       "  <thead>\n",
       "    <tr style=\"text-align: right;\">\n",
       "      <th></th>\n",
       "      <th>id</th>\n",
       "      <th>name</th>\n",
       "      <th>substitute0</th>\n",
       "      <th>substitute1</th>\n",
       "      <th>substitute2</th>\n",
       "      <th>substitute3</th>\n",
       "      <th>substitute4</th>\n",
       "      <th>sideEffect0</th>\n",
       "      <th>sideEffect1</th>\n",
       "      <th>sideEffect2</th>\n",
       "      <th>...</th>\n",
       "      <th>sideEffect41</th>\n",
       "      <th>use0</th>\n",
       "      <th>use1</th>\n",
       "      <th>use2</th>\n",
       "      <th>use3</th>\n",
       "      <th>use4</th>\n",
       "      <th>Chemical Class</th>\n",
       "      <th>Habit Forming</th>\n",
       "      <th>Therapeutic Class</th>\n",
       "      <th>Action Class</th>\n",
       "    </tr>\n",
       "  </thead>\n",
       "  <tbody>\n",
       "    <tr>\n",
       "      <th>0</th>\n",
       "      <td>1</td>\n",
       "      <td>augmentin 625 duo tablet</td>\n",
       "      <td>Penciclav 500 mg/125 mg Tablet</td>\n",
       "      <td>Moxikind-CV 625 Tablet</td>\n",
       "      <td>Moxiforce-CV 625 Tablet</td>\n",
       "      <td>Fightox 625 Tablet</td>\n",
       "      <td>Novamox CV 625mg Tablet</td>\n",
       "      <td>Vomiting</td>\n",
       "      <td>Nausea</td>\n",
       "      <td>Diarrhea</td>\n",
       "      <td>...</td>\n",
       "      <td>NaN</td>\n",
       "      <td>Treatment of Bacterial infections</td>\n",
       "      <td>NaN</td>\n",
       "      <td>NaN</td>\n",
       "      <td>NaN</td>\n",
       "      <td>NaN</td>\n",
       "      <td>NaN</td>\n",
       "      <td>No</td>\n",
       "      <td>ANTI INFECTIVES</td>\n",
       "      <td>NaN</td>\n",
       "    </tr>\n",
       "    <tr>\n",
       "      <th>1</th>\n",
       "      <td>2</td>\n",
       "      <td>azithral 500 tablet</td>\n",
       "      <td>Zithrocare 500mg Tablet</td>\n",
       "      <td>Azax 500 Tablet</td>\n",
       "      <td>Zady 500 Tablet</td>\n",
       "      <td>Cazithro 500mg Tablet</td>\n",
       "      <td>Trulimax 500mg Tablet</td>\n",
       "      <td>Vomiting</td>\n",
       "      <td>Nausea</td>\n",
       "      <td>Abdominal pain</td>\n",
       "      <td>...</td>\n",
       "      <td>NaN</td>\n",
       "      <td>Treatment of Bacterial infections</td>\n",
       "      <td>NaN</td>\n",
       "      <td>NaN</td>\n",
       "      <td>NaN</td>\n",
       "      <td>NaN</td>\n",
       "      <td>Macrolides</td>\n",
       "      <td>No</td>\n",
       "      <td>ANTI INFECTIVES</td>\n",
       "      <td>Macrolides</td>\n",
       "    </tr>\n",
       "    <tr>\n",
       "      <th>2</th>\n",
       "      <td>3</td>\n",
       "      <td>ascoril ls syrup</td>\n",
       "      <td>Solvin LS Syrup</td>\n",
       "      <td>Ambrodil-LX Syrup</td>\n",
       "      <td>Zerotuss XP Syrup</td>\n",
       "      <td>Capex LS Syrup</td>\n",
       "      <td>Broxum LS Syrup</td>\n",
       "      <td>Nausea</td>\n",
       "      <td>Vomiting</td>\n",
       "      <td>Diarrhea</td>\n",
       "      <td>...</td>\n",
       "      <td>NaN</td>\n",
       "      <td>Treatment of Cough with mucus</td>\n",
       "      <td>NaN</td>\n",
       "      <td>NaN</td>\n",
       "      <td>NaN</td>\n",
       "      <td>NaN</td>\n",
       "      <td>NaN</td>\n",
       "      <td>No</td>\n",
       "      <td>RESPIRATORY</td>\n",
       "      <td>NaN</td>\n",
       "    </tr>\n",
       "    <tr>\n",
       "      <th>3</th>\n",
       "      <td>4</td>\n",
       "      <td>allegra 120mg tablet</td>\n",
       "      <td>Lcfex Tablet</td>\n",
       "      <td>Etofex 120mg Tablet</td>\n",
       "      <td>Nexofex 120mg Tablet</td>\n",
       "      <td>Fexise 120mg Tablet</td>\n",
       "      <td>Histafree 120 Tablet</td>\n",
       "      <td>Headache</td>\n",
       "      <td>Drowsiness</td>\n",
       "      <td>Dizziness</td>\n",
       "      <td>...</td>\n",
       "      <td>NaN</td>\n",
       "      <td>Treatment of Sneezing and runny nose due to al...</td>\n",
       "      <td>Treatment of Allergic conditions</td>\n",
       "      <td>NaN</td>\n",
       "      <td>NaN</td>\n",
       "      <td>NaN</td>\n",
       "      <td>Diphenylmethane Derivative</td>\n",
       "      <td>No</td>\n",
       "      <td>RESPIRATORY</td>\n",
       "      <td>H1 Antihistaminics (second Generation)</td>\n",
       "    </tr>\n",
       "    <tr>\n",
       "      <th>4</th>\n",
       "      <td>5</td>\n",
       "      <td>avil 25 tablet</td>\n",
       "      <td>Eralet 25mg Tablet</td>\n",
       "      <td>NaN</td>\n",
       "      <td>NaN</td>\n",
       "      <td>NaN</td>\n",
       "      <td>NaN</td>\n",
       "      <td>Sleepiness</td>\n",
       "      <td>Dryness in mouth</td>\n",
       "      <td>NaN</td>\n",
       "      <td>...</td>\n",
       "      <td>NaN</td>\n",
       "      <td>Treatment of Allergic conditions</td>\n",
       "      <td>NaN</td>\n",
       "      <td>NaN</td>\n",
       "      <td>NaN</td>\n",
       "      <td>NaN</td>\n",
       "      <td>Pyridines Derivatives</td>\n",
       "      <td>No</td>\n",
       "      <td>RESPIRATORY</td>\n",
       "      <td>H1 Antihistaminics (First Generation)</td>\n",
       "    </tr>\n",
       "    <tr>\n",
       "      <th>...</th>\n",
       "      <td>...</td>\n",
       "      <td>...</td>\n",
       "      <td>...</td>\n",
       "      <td>...</td>\n",
       "      <td>...</td>\n",
       "      <td>...</td>\n",
       "      <td>...</td>\n",
       "      <td>...</td>\n",
       "      <td>...</td>\n",
       "      <td>...</td>\n",
       "      <td>...</td>\n",
       "      <td>...</td>\n",
       "      <td>...</td>\n",
       "      <td>...</td>\n",
       "      <td>...</td>\n",
       "      <td>...</td>\n",
       "      <td>...</td>\n",
       "      <td>...</td>\n",
       "      <td>...</td>\n",
       "      <td>...</td>\n",
       "      <td>...</td>\n",
       "    </tr>\n",
       "    <tr>\n",
       "      <th>248213</th>\n",
       "      <td>248214</td>\n",
       "      <td>zestrain 100mg/325mg/250mg tablet mr</td>\n",
       "      <td>Aclotec MR 100mg/325mg/250mg Tablet</td>\n",
       "      <td>SAMONEC MR TABLET</td>\n",
       "      <td>Uniclof 100mg/325mg/250mg Tablet MR</td>\n",
       "      <td>Macito 100mg/325mg/250mg Tablet MR</td>\n",
       "      <td>Rumatin 100mg/325mg/250mg Tablet MR</td>\n",
       "      <td>Nausea</td>\n",
       "      <td>Vomiting</td>\n",
       "      <td>Heartburn</td>\n",
       "      <td>...</td>\n",
       "      <td>NaN</td>\n",
       "      <td>Treatment of Muscular pain</td>\n",
       "      <td>NaN</td>\n",
       "      <td>NaN</td>\n",
       "      <td>NaN</td>\n",
       "      <td>NaN</td>\n",
       "      <td>NaN</td>\n",
       "      <td>No</td>\n",
       "      <td>PAIN ANALGESICS</td>\n",
       "      <td>NaN</td>\n",
       "    </tr>\n",
       "    <tr>\n",
       "      <th>248214</th>\n",
       "      <td>248215</td>\n",
       "      <td>zoxinace 200mg tablet sr</td>\n",
       "      <td>Algic 200mg Tablet SR</td>\n",
       "      <td>Topnac 200mg Tablet SR</td>\n",
       "      <td>Kindac 200mg Tablet SR</td>\n",
       "      <td>Ultranac 200mg Tablet SR</td>\n",
       "      <td>Bignac 200mg Tablet SR</td>\n",
       "      <td>Dizziness</td>\n",
       "      <td>Indigestion</td>\n",
       "      <td>Nausea</td>\n",
       "      <td>...</td>\n",
       "      <td>NaN</td>\n",
       "      <td>Pain relief</td>\n",
       "      <td>NaN</td>\n",
       "      <td>NaN</td>\n",
       "      <td>NaN</td>\n",
       "      <td>NaN</td>\n",
       "      <td>Dichlorobenzenes Derivative</td>\n",
       "      <td>No</td>\n",
       "      <td>PAIN ANALGESICS</td>\n",
       "      <td>NSAID's- Non-Selective COX 1&amp;2 Inhibitors (ace...</td>\n",
       "    </tr>\n",
       "    <tr>\n",
       "      <th>248215</th>\n",
       "      <td>248216</td>\n",
       "      <td>zivex 25mg tablet</td>\n",
       "      <td>HD Zine 25mg Tablet</td>\n",
       "      <td>Hydrocas 25mg Tablet</td>\n",
       "      <td>Hyzox 25 Tablet</td>\n",
       "      <td>Hydil 25mg Tablet</td>\n",
       "      <td>Zyzine 25mg Tablet</td>\n",
       "      <td>Sedation</td>\n",
       "      <td>Nausea</td>\n",
       "      <td>Vomiting</td>\n",
       "      <td>...</td>\n",
       "      <td>NaN</td>\n",
       "      <td>Treatment of Anxiety</td>\n",
       "      <td>Treatment of Skin conditions with inflammation...</td>\n",
       "      <td>NaN</td>\n",
       "      <td>NaN</td>\n",
       "      <td>NaN</td>\n",
       "      <td>Piperazine Derivative</td>\n",
       "      <td>No</td>\n",
       "      <td>RESPIRATORY</td>\n",
       "      <td>H1 Antihistaminics (First Generation)</td>\n",
       "    </tr>\n",
       "    <tr>\n",
       "      <th>248216</th>\n",
       "      <td>248217</td>\n",
       "      <td>zi fast 500mg injection</td>\n",
       "      <td>Zycin 500mg Injection</td>\n",
       "      <td>Aziwok 500mg Injection</td>\n",
       "      <td>Azirow 500mg Injection</td>\n",
       "      <td>Toracin 500mg Injection</td>\n",
       "      <td>Azymed 500mg Injection</td>\n",
       "      <td>Injection site reactions (pain, swelling, redn...</td>\n",
       "      <td>Vomiting</td>\n",
       "      <td>Nausea</td>\n",
       "      <td>...</td>\n",
       "      <td>NaN</td>\n",
       "      <td>Treatment of Bacterial infections</td>\n",
       "      <td>NaN</td>\n",
       "      <td>NaN</td>\n",
       "      <td>NaN</td>\n",
       "      <td>NaN</td>\n",
       "      <td>Macrolides</td>\n",
       "      <td>No</td>\n",
       "      <td>ANTI INFECTIVES</td>\n",
       "      <td>Macrolides</td>\n",
       "    </tr>\n",
       "    <tr>\n",
       "      <th>248217</th>\n",
       "      <td>248218</td>\n",
       "      <td>zyvocol 1% dusting powder</td>\n",
       "      <td>Canazole Dusting Powder</td>\n",
       "      <td>Clotrex Dusting Powder</td>\n",
       "      <td>AF -C Dusting Powder</td>\n",
       "      <td>Klo-Aid Dusting Powder</td>\n",
       "      <td>Nuforce Dusting Powder</td>\n",
       "      <td>Blisters</td>\n",
       "      <td>Skin peeling</td>\n",
       "      <td>Swelling</td>\n",
       "      <td>...</td>\n",
       "      <td>NaN</td>\n",
       "      <td>Treatment of Fungal skin infections</td>\n",
       "      <td>NaN</td>\n",
       "      <td>NaN</td>\n",
       "      <td>NaN</td>\n",
       "      <td>NaN</td>\n",
       "      <td>Azole derivatives {Imidazoles}</td>\n",
       "      <td>No</td>\n",
       "      <td>DERMA</td>\n",
       "      <td>Fungal ergosterol synthesis inhibitor</td>\n",
       "    </tr>\n",
       "  </tbody>\n",
       "</table>\n",
       "<p>248218 rows × 58 columns</p>\n",
       "</div>"
      ],
      "text/plain": [
       "            id                                  name  \\\n",
       "0            1              augmentin 625 duo tablet   \n",
       "1            2                   azithral 500 tablet   \n",
       "2            3                      ascoril ls syrup   \n",
       "3            4                  allegra 120mg tablet   \n",
       "4            5                        avil 25 tablet   \n",
       "...        ...                                   ...   \n",
       "248213  248214  zestrain 100mg/325mg/250mg tablet mr   \n",
       "248214  248215              zoxinace 200mg tablet sr   \n",
       "248215  248216                     zivex 25mg tablet   \n",
       "248216  248217               zi fast 500mg injection   \n",
       "248217  248218             zyvocol 1% dusting powder   \n",
       "\n",
       "                                substitute0             substitute1  \\\n",
       "0            Penciclav 500 mg/125 mg Tablet  Moxikind-CV 625 Tablet   \n",
       "1                   Zithrocare 500mg Tablet         Azax 500 Tablet   \n",
       "2                           Solvin LS Syrup       Ambrodil-LX Syrup   \n",
       "3                              Lcfex Tablet     Etofex 120mg Tablet   \n",
       "4                        Eralet 25mg Tablet                     NaN   \n",
       "...                                     ...                     ...   \n",
       "248213  Aclotec MR 100mg/325mg/250mg Tablet       SAMONEC MR TABLET   \n",
       "248214                Algic 200mg Tablet SR  Topnac 200mg Tablet SR   \n",
       "248215                  HD Zine 25mg Tablet    Hydrocas 25mg Tablet   \n",
       "248216                Zycin 500mg Injection  Aziwok 500mg Injection   \n",
       "248217              Canazole Dusting Powder  Clotrex Dusting Powder   \n",
       "\n",
       "                                substitute2  \\\n",
       "0                   Moxiforce-CV 625 Tablet   \n",
       "1                           Zady 500 Tablet   \n",
       "2                         Zerotuss XP Syrup   \n",
       "3                      Nexofex 120mg Tablet   \n",
       "4                                       NaN   \n",
       "...                                     ...   \n",
       "248213  Uniclof 100mg/325mg/250mg Tablet MR   \n",
       "248214               Kindac 200mg Tablet SR   \n",
       "248215                      Hyzox 25 Tablet   \n",
       "248216               Azirow 500mg Injection   \n",
       "248217                 AF -C Dusting Powder   \n",
       "\n",
       "                               substitute3  \\\n",
       "0                       Fightox 625 Tablet   \n",
       "1                    Cazithro 500mg Tablet   \n",
       "2                           Capex LS Syrup   \n",
       "3                      Fexise 120mg Tablet   \n",
       "4                                      NaN   \n",
       "...                                    ...   \n",
       "248213  Macito 100mg/325mg/250mg Tablet MR   \n",
       "248214            Ultranac 200mg Tablet SR   \n",
       "248215                   Hydil 25mg Tablet   \n",
       "248216             Toracin 500mg Injection   \n",
       "248217              Klo-Aid Dusting Powder   \n",
       "\n",
       "                                substitute4  \\\n",
       "0                   Novamox CV 625mg Tablet   \n",
       "1                     Trulimax 500mg Tablet   \n",
       "2                           Broxum LS Syrup   \n",
       "3                      Histafree 120 Tablet   \n",
       "4                                       NaN   \n",
       "...                                     ...   \n",
       "248213  Rumatin 100mg/325mg/250mg Tablet MR   \n",
       "248214               Bignac 200mg Tablet SR   \n",
       "248215                   Zyzine 25mg Tablet   \n",
       "248216               Azymed 500mg Injection   \n",
       "248217               Nuforce Dusting Powder   \n",
       "\n",
       "                                              sideEffect0       sideEffect1  \\\n",
       "0                                                Vomiting            Nausea   \n",
       "1                                                Vomiting            Nausea   \n",
       "2                                                  Nausea          Vomiting   \n",
       "3                                                Headache        Drowsiness   \n",
       "4                                              Sleepiness  Dryness in mouth   \n",
       "...                                                   ...               ...   \n",
       "248213                                             Nausea          Vomiting   \n",
       "248214                                          Dizziness       Indigestion   \n",
       "248215                                           Sedation            Nausea   \n",
       "248216  Injection site reactions (pain, swelling, redn...          Vomiting   \n",
       "248217                                           Blisters      Skin peeling   \n",
       "\n",
       "           sideEffect2  ... sideEffect41  \\\n",
       "0             Diarrhea  ...          NaN   \n",
       "1       Abdominal pain  ...          NaN   \n",
       "2             Diarrhea  ...          NaN   \n",
       "3            Dizziness  ...          NaN   \n",
       "4                  NaN  ...          NaN   \n",
       "...                ...  ...          ...   \n",
       "248213       Heartburn  ...          NaN   \n",
       "248214          Nausea  ...          NaN   \n",
       "248215        Vomiting  ...          NaN   \n",
       "248216          Nausea  ...          NaN   \n",
       "248217        Swelling  ...          NaN   \n",
       "\n",
       "                                                     use0  \\\n",
       "0                       Treatment of Bacterial infections   \n",
       "1                       Treatment of Bacterial infections   \n",
       "2                           Treatment of Cough with mucus   \n",
       "3       Treatment of Sneezing and runny nose due to al...   \n",
       "4                        Treatment of Allergic conditions   \n",
       "...                                                   ...   \n",
       "248213                         Treatment of Muscular pain   \n",
       "248214                                        Pain relief   \n",
       "248215                               Treatment of Anxiety   \n",
       "248216                  Treatment of Bacterial infections   \n",
       "248217                Treatment of Fungal skin infections   \n",
       "\n",
       "                                                     use1 use2 use3 use4  \\\n",
       "0                                                     NaN  NaN  NaN  NaN   \n",
       "1                                                     NaN  NaN  NaN  NaN   \n",
       "2                                                     NaN  NaN  NaN  NaN   \n",
       "3                        Treatment of Allergic conditions  NaN  NaN  NaN   \n",
       "4                                                     NaN  NaN  NaN  NaN   \n",
       "...                                                   ...  ...  ...  ...   \n",
       "248213                                                NaN  NaN  NaN  NaN   \n",
       "248214                                                NaN  NaN  NaN  NaN   \n",
       "248215  Treatment of Skin conditions with inflammation...  NaN  NaN  NaN   \n",
       "248216                                                NaN  NaN  NaN  NaN   \n",
       "248217                                                NaN  NaN  NaN  NaN   \n",
       "\n",
       "                        Chemical Class Habit Forming Therapeutic Class  \\\n",
       "0                                  NaN            No   ANTI INFECTIVES   \n",
       "1                           Macrolides            No   ANTI INFECTIVES   \n",
       "2                                  NaN            No       RESPIRATORY   \n",
       "3           Diphenylmethane Derivative            No       RESPIRATORY   \n",
       "4                Pyridines Derivatives            No       RESPIRATORY   \n",
       "...                                ...           ...               ...   \n",
       "248213                             NaN            No   PAIN ANALGESICS   \n",
       "248214     Dichlorobenzenes Derivative            No   PAIN ANALGESICS   \n",
       "248215           Piperazine Derivative            No       RESPIRATORY   \n",
       "248216                      Macrolides            No   ANTI INFECTIVES   \n",
       "248217  Azole derivatives {Imidazoles}            No             DERMA   \n",
       "\n",
       "                                             Action Class  \n",
       "0                                                     NaN  \n",
       "1                                              Macrolides  \n",
       "2                                                     NaN  \n",
       "3                  H1 Antihistaminics (second Generation)  \n",
       "4                   H1 Antihistaminics (First Generation)  \n",
       "...                                                   ...  \n",
       "248213                                                NaN  \n",
       "248214  NSAID's- Non-Selective COX 1&2 Inhibitors (ace...  \n",
       "248215              H1 Antihistaminics (First Generation)  \n",
       "248216                                         Macrolides  \n",
       "248217              Fungal ergosterol synthesis inhibitor  \n",
       "\n",
       "[248218 rows x 58 columns]"
      ]
     },
     "execution_count": 17,
     "metadata": {},
     "output_type": "execute_result"
    }
   ],
   "source": [
    "# df.describe(include=['O'])\n",
    "\n",
    "df"
   ]
  },
  {
   "cell_type": "code",
   "execution_count": 15,
   "metadata": {},
   "outputs": [
    {
     "data": {
      "text/plain": [
       "0"
      ]
     },
     "execution_count": 15,
     "metadata": {},
     "output_type": "execute_result"
    }
   ],
   "source": [
    "df.duplicated().sum()"
   ]
  },
  {
   "cell_type": "code",
   "execution_count": 16,
   "metadata": {},
   "outputs": [
    {
     "data": {
      "text/html": [
       "<div>\n",
       "<style scoped>\n",
       "    .dataframe tbody tr th:only-of-type {\n",
       "        vertical-align: middle;\n",
       "    }\n",
       "\n",
       "    .dataframe tbody tr th {\n",
       "        vertical-align: top;\n",
       "    }\n",
       "\n",
       "    .dataframe thead th {\n",
       "        text-align: right;\n",
       "    }\n",
       "</style>\n",
       "<table border=\"1\" class=\"dataframe\">\n",
       "  <thead>\n",
       "    <tr style=\"text-align: right;\">\n",
       "      <th></th>\n",
       "      <th>0</th>\n",
       "    </tr>\n",
       "  </thead>\n",
       "  <tbody>\n",
       "    <tr>\n",
       "      <th>id</th>\n",
       "      <td>0</td>\n",
       "    </tr>\n",
       "    <tr>\n",
       "      <th>name</th>\n",
       "      <td>0</td>\n",
       "    </tr>\n",
       "    <tr>\n",
       "      <th>substitute0</th>\n",
       "      <td>9597</td>\n",
       "    </tr>\n",
       "    <tr>\n",
       "      <th>substitute1</th>\n",
       "      <td>14351</td>\n",
       "    </tr>\n",
       "    <tr>\n",
       "      <th>substitute2</th>\n",
       "      <td>17985</td>\n",
       "    </tr>\n",
       "    <tr>\n",
       "      <th>substitute3</th>\n",
       "      <td>21362</td>\n",
       "    </tr>\n",
       "    <tr>\n",
       "      <th>substitute4</th>\n",
       "      <td>24256</td>\n",
       "    </tr>\n",
       "    <tr>\n",
       "      <th>sideEffect0</th>\n",
       "      <td>0</td>\n",
       "    </tr>\n",
       "    <tr>\n",
       "      <th>sideEffect1</th>\n",
       "      <td>9802</td>\n",
       "    </tr>\n",
       "    <tr>\n",
       "      <th>sideEffect2</th>\n",
       "      <td>18718</td>\n",
       "    </tr>\n",
       "    <tr>\n",
       "      <th>sideEffect3</th>\n",
       "      <td>40580</td>\n",
       "    </tr>\n",
       "    <tr>\n",
       "      <th>sideEffect4</th>\n",
       "      <td>84658</td>\n",
       "    </tr>\n",
       "    <tr>\n",
       "      <th>sideEffect5</th>\n",
       "      <td>116960</td>\n",
       "    </tr>\n",
       "    <tr>\n",
       "      <th>sideEffect6</th>\n",
       "      <td>156361</td>\n",
       "    </tr>\n",
       "    <tr>\n",
       "      <th>sideEffect7</th>\n",
       "      <td>180468</td>\n",
       "    </tr>\n",
       "    <tr>\n",
       "      <th>sideEffect8</th>\n",
       "      <td>199712</td>\n",
       "    </tr>\n",
       "    <tr>\n",
       "      <th>sideEffect9</th>\n",
       "      <td>210510</td>\n",
       "    </tr>\n",
       "    <tr>\n",
       "      <th>sideEffect10</th>\n",
       "      <td>220944</td>\n",
       "    </tr>\n",
       "    <tr>\n",
       "      <th>sideEffect11</th>\n",
       "      <td>227887</td>\n",
       "    </tr>\n",
       "    <tr>\n",
       "      <th>sideEffect12</th>\n",
       "      <td>231936</td>\n",
       "    </tr>\n",
       "    <tr>\n",
       "      <th>sideEffect13</th>\n",
       "      <td>233491</td>\n",
       "    </tr>\n",
       "    <tr>\n",
       "      <th>sideEffect14</th>\n",
       "      <td>237799</td>\n",
       "    </tr>\n",
       "    <tr>\n",
       "      <th>sideEffect15</th>\n",
       "      <td>240537</td>\n",
       "    </tr>\n",
       "    <tr>\n",
       "      <th>sideEffect16</th>\n",
       "      <td>242209</td>\n",
       "    </tr>\n",
       "    <tr>\n",
       "      <th>sideEffect17</th>\n",
       "      <td>242836</td>\n",
       "    </tr>\n",
       "    <tr>\n",
       "      <th>sideEffect18</th>\n",
       "      <td>243703</td>\n",
       "    </tr>\n",
       "    <tr>\n",
       "      <th>sideEffect19</th>\n",
       "      <td>244272</td>\n",
       "    </tr>\n",
       "    <tr>\n",
       "      <th>sideEffect20</th>\n",
       "      <td>244995</td>\n",
       "    </tr>\n",
       "    <tr>\n",
       "      <th>sideEffect21</th>\n",
       "      <td>245093</td>\n",
       "    </tr>\n",
       "    <tr>\n",
       "      <th>sideEffect22</th>\n",
       "      <td>245170</td>\n",
       "    </tr>\n",
       "    <tr>\n",
       "      <th>sideEffect23</th>\n",
       "      <td>245313</td>\n",
       "    </tr>\n",
       "    <tr>\n",
       "      <th>sideEffect24</th>\n",
       "      <td>245495</td>\n",
       "    </tr>\n",
       "    <tr>\n",
       "      <th>sideEffect25</th>\n",
       "      <td>246715</td>\n",
       "    </tr>\n",
       "    <tr>\n",
       "      <th>sideEffect26</th>\n",
       "      <td>246715</td>\n",
       "    </tr>\n",
       "    <tr>\n",
       "      <th>sideEffect27</th>\n",
       "      <td>246724</td>\n",
       "    </tr>\n",
       "    <tr>\n",
       "      <th>sideEffect28</th>\n",
       "      <td>246724</td>\n",
       "    </tr>\n",
       "    <tr>\n",
       "      <th>sideEffect29</th>\n",
       "      <td>246780</td>\n",
       "    </tr>\n",
       "    <tr>\n",
       "      <th>sideEffect30</th>\n",
       "      <td>246889</td>\n",
       "    </tr>\n",
       "    <tr>\n",
       "      <th>sideEffect31</th>\n",
       "      <td>246889</td>\n",
       "    </tr>\n",
       "    <tr>\n",
       "      <th>sideEffect32</th>\n",
       "      <td>246890</td>\n",
       "    </tr>\n",
       "    <tr>\n",
       "      <th>sideEffect33</th>\n",
       "      <td>247049</td>\n",
       "    </tr>\n",
       "    <tr>\n",
       "      <th>sideEffect34</th>\n",
       "      <td>247052</td>\n",
       "    </tr>\n",
       "    <tr>\n",
       "      <th>sideEffect35</th>\n",
       "      <td>248216</td>\n",
       "    </tr>\n",
       "    <tr>\n",
       "      <th>sideEffect36</th>\n",
       "      <td>248216</td>\n",
       "    </tr>\n",
       "    <tr>\n",
       "      <th>sideEffect37</th>\n",
       "      <td>248216</td>\n",
       "    </tr>\n",
       "    <tr>\n",
       "      <th>sideEffect38</th>\n",
       "      <td>248216</td>\n",
       "    </tr>\n",
       "    <tr>\n",
       "      <th>sideEffect39</th>\n",
       "      <td>248216</td>\n",
       "    </tr>\n",
       "    <tr>\n",
       "      <th>sideEffect40</th>\n",
       "      <td>248216</td>\n",
       "    </tr>\n",
       "    <tr>\n",
       "      <th>sideEffect41</th>\n",
       "      <td>248216</td>\n",
       "    </tr>\n",
       "    <tr>\n",
       "      <th>use0</th>\n",
       "      <td>0</td>\n",
       "    </tr>\n",
       "    <tr>\n",
       "      <th>use1</th>\n",
       "      <td>174853</td>\n",
       "    </tr>\n",
       "    <tr>\n",
       "      <th>use2</th>\n",
       "      <td>219911</td>\n",
       "    </tr>\n",
       "    <tr>\n",
       "      <th>use3</th>\n",
       "      <td>240839</td>\n",
       "    </tr>\n",
       "    <tr>\n",
       "      <th>use4</th>\n",
       "      <td>243247</td>\n",
       "    </tr>\n",
       "    <tr>\n",
       "      <th>Chemical Class</th>\n",
       "      <td>110427</td>\n",
       "    </tr>\n",
       "    <tr>\n",
       "      <th>Habit Forming</th>\n",
       "      <td>0</td>\n",
       "    </tr>\n",
       "    <tr>\n",
       "      <th>Therapeutic Class</th>\n",
       "      <td>69</td>\n",
       "    </tr>\n",
       "    <tr>\n",
       "      <th>Action Class</th>\n",
       "      <td>110182</td>\n",
       "    </tr>\n",
       "  </tbody>\n",
       "</table>\n",
       "</div>"
      ],
      "text/plain": [
       "                        0\n",
       "id                      0\n",
       "name                    0\n",
       "substitute0          9597\n",
       "substitute1         14351\n",
       "substitute2         17985\n",
       "substitute3         21362\n",
       "substitute4         24256\n",
       "sideEffect0             0\n",
       "sideEffect1          9802\n",
       "sideEffect2         18718\n",
       "sideEffect3         40580\n",
       "sideEffect4         84658\n",
       "sideEffect5        116960\n",
       "sideEffect6        156361\n",
       "sideEffect7        180468\n",
       "sideEffect8        199712\n",
       "sideEffect9        210510\n",
       "sideEffect10       220944\n",
       "sideEffect11       227887\n",
       "sideEffect12       231936\n",
       "sideEffect13       233491\n",
       "sideEffect14       237799\n",
       "sideEffect15       240537\n",
       "sideEffect16       242209\n",
       "sideEffect17       242836\n",
       "sideEffect18       243703\n",
       "sideEffect19       244272\n",
       "sideEffect20       244995\n",
       "sideEffect21       245093\n",
       "sideEffect22       245170\n",
       "sideEffect23       245313\n",
       "sideEffect24       245495\n",
       "sideEffect25       246715\n",
       "sideEffect26       246715\n",
       "sideEffect27       246724\n",
       "sideEffect28       246724\n",
       "sideEffect29       246780\n",
       "sideEffect30       246889\n",
       "sideEffect31       246889\n",
       "sideEffect32       246890\n",
       "sideEffect33       247049\n",
       "sideEffect34       247052\n",
       "sideEffect35       248216\n",
       "sideEffect36       248216\n",
       "sideEffect37       248216\n",
       "sideEffect38       248216\n",
       "sideEffect39       248216\n",
       "sideEffect40       248216\n",
       "sideEffect41       248216\n",
       "use0                    0\n",
       "use1               174853\n",
       "use2               219911\n",
       "use3               240839\n",
       "use4               243247\n",
       "Chemical Class     110427\n",
       "Habit Forming           0\n",
       "Therapeutic Class      69\n",
       "Action Class       110182"
      ]
     },
     "execution_count": 16,
     "metadata": {},
     "output_type": "execute_result"
    }
   ],
   "source": [
    "pd.DataFrame(df.isna().sum())"
   ]
  },
  {
   "cell_type": "code",
   "execution_count": 15,
   "metadata": {},
   "outputs": [],
   "source": [
    "# sns.scatterplot(data=df, x=df.index, y='id');\n",
    "\n",
    "# sns.histplot(data=df, x='id');\n"
   ]
  },
  {
   "cell_type": "code",
   "execution_count": null,
   "metadata": {},
   "outputs": [],
   "source": []
  },
  {
   "cell_type": "markdown",
   "metadata": {},
   "source": [
    "# 2\n",
    "\n",
    "### Analysis\n"
   ]
  },
  {
   "cell_type": "code",
   "execution_count": 3,
   "metadata": {},
   "outputs": [
    {
     "data": {
      "text/plain": [
       "(6338, 4)"
      ]
     },
     "execution_count": 3,
     "metadata": {},
     "output_type": "execute_result"
    }
   ],
   "source": [
    "# https://www.kaggle.com/datasets/vikramadityasingh27/master-medicine-data\n",
    "\n",
    "df2 = pd.read_csv('/Users/raynasser/Downloads/DSproj/Medicine.csv', encoding='ISO-8859-1')\n",
    "\n",
    "df2.shape"
   ]
  },
  {
   "cell_type": "code",
   "execution_count": 4,
   "metadata": {},
   "outputs": [
    {
     "data": {
      "text/plain": [
       "ItemId                                            1231\n",
       "ItemCategoryName                                 Drugs\n",
       "ItemSubCategoryName                           CAPSULES\n",
       "ItemName               SOMPRAZ D  CAP 1X10  SUN PHARMA\n",
       "Name: 33, dtype: object"
      ]
     },
     "execution_count": 4,
     "metadata": {},
     "output_type": "execute_result"
    }
   ],
   "source": [
    "df2.iloc[33]"
   ]
  },
  {
   "cell_type": "code",
   "execution_count": 18,
   "metadata": {},
   "outputs": [
    {
     "data": {
      "text/plain": [
       "Index(['ItemId', 'ItemCategoryName', 'ItemSubCategoryName', 'ItemName'], dtype='object')"
      ]
     },
     "execution_count": 18,
     "metadata": {},
     "output_type": "execute_result"
    }
   ],
   "source": [
    "# df.info()\n",
    "\n",
    "df2.columns"
   ]
  },
  {
   "cell_type": "code",
   "execution_count": 19,
   "metadata": {},
   "outputs": [
    {
     "data": {
      "text/plain": [
       "array([dtype('int64'), dtype('O')], dtype=object)"
      ]
     },
     "execution_count": 19,
     "metadata": {},
     "output_type": "execute_result"
    }
   ],
   "source": [
    "df2.dtypes.unique()"
   ]
  },
  {
   "cell_type": "code",
   "execution_count": 20,
   "metadata": {},
   "outputs": [
    {
     "data": {
      "text/plain": [
       "object    3\n",
       "int64     1\n",
       "dtype: int64"
      ]
     },
     "execution_count": 20,
     "metadata": {},
     "output_type": "execute_result"
    }
   ],
   "source": [
    "df2.dtypes.value_counts()"
   ]
  },
  {
   "cell_type": "code",
   "execution_count": 21,
   "metadata": {},
   "outputs": [
    {
     "data": {
      "text/html": [
       "<div>\n",
       "<style scoped>\n",
       "    .dataframe tbody tr th:only-of-type {\n",
       "        vertical-align: middle;\n",
       "    }\n",
       "\n",
       "    .dataframe tbody tr th {\n",
       "        vertical-align: top;\n",
       "    }\n",
       "\n",
       "    .dataframe thead th {\n",
       "        text-align: right;\n",
       "    }\n",
       "</style>\n",
       "<table border=\"1\" class=\"dataframe\">\n",
       "  <thead>\n",
       "    <tr style=\"text-align: right;\">\n",
       "      <th></th>\n",
       "      <th>ItemCategoryName</th>\n",
       "      <th>ItemSubCategoryName</th>\n",
       "      <th>ItemName</th>\n",
       "    </tr>\n",
       "  </thead>\n",
       "  <tbody>\n",
       "    <tr>\n",
       "      <th>count</th>\n",
       "      <td>6338</td>\n",
       "      <td>6338</td>\n",
       "      <td>6338</td>\n",
       "    </tr>\n",
       "    <tr>\n",
       "      <th>unique</th>\n",
       "      <td>1</td>\n",
       "      <td>33</td>\n",
       "      <td>6338</td>\n",
       "    </tr>\n",
       "    <tr>\n",
       "      <th>top</th>\n",
       "      <td>Drugs</td>\n",
       "      <td>TABLET</td>\n",
       "      <td>TRINERVE CAP 100m+60mg+5mg+1.5mg+200mcg 1x10 A...</td>\n",
       "    </tr>\n",
       "    <tr>\n",
       "      <th>freq</th>\n",
       "      <td>6338</td>\n",
       "      <td>2823</td>\n",
       "      <td>1</td>\n",
       "    </tr>\n",
       "  </tbody>\n",
       "</table>\n",
       "</div>"
      ],
      "text/plain": [
       "       ItemCategoryName ItemSubCategoryName  \\\n",
       "count              6338                6338   \n",
       "unique                1                  33   \n",
       "top               Drugs              TABLET   \n",
       "freq               6338                2823   \n",
       "\n",
       "                                                 ItemName  \n",
       "count                                                6338  \n",
       "unique                                               6338  \n",
       "top     TRINERVE CAP 100m+60mg+5mg+1.5mg+200mcg 1x10 A...  \n",
       "freq                                                    1  "
      ]
     },
     "execution_count": 21,
     "metadata": {},
     "output_type": "execute_result"
    }
   ],
   "source": [
    "df2.describe(include=['O'])"
   ]
  },
  {
   "cell_type": "code",
   "execution_count": 22,
   "metadata": {},
   "outputs": [
    {
     "data": {
      "text/plain": [
       "0"
      ]
     },
     "execution_count": 22,
     "metadata": {},
     "output_type": "execute_result"
    }
   ],
   "source": [
    "df2.duplicated().sum()"
   ]
  },
  {
   "cell_type": "code",
   "execution_count": 23,
   "metadata": {},
   "outputs": [
    {
     "data": {
      "text/html": [
       "<div>\n",
       "<style scoped>\n",
       "    .dataframe tbody tr th:only-of-type {\n",
       "        vertical-align: middle;\n",
       "    }\n",
       "\n",
       "    .dataframe tbody tr th {\n",
       "        vertical-align: top;\n",
       "    }\n",
       "\n",
       "    .dataframe thead th {\n",
       "        text-align: right;\n",
       "    }\n",
       "</style>\n",
       "<table border=\"1\" class=\"dataframe\">\n",
       "  <thead>\n",
       "    <tr style=\"text-align: right;\">\n",
       "      <th></th>\n",
       "      <th>0</th>\n",
       "    </tr>\n",
       "  </thead>\n",
       "  <tbody>\n",
       "    <tr>\n",
       "      <th>ItemId</th>\n",
       "      <td>0</td>\n",
       "    </tr>\n",
       "    <tr>\n",
       "      <th>ItemCategoryName</th>\n",
       "      <td>0</td>\n",
       "    </tr>\n",
       "    <tr>\n",
       "      <th>ItemSubCategoryName</th>\n",
       "      <td>0</td>\n",
       "    </tr>\n",
       "    <tr>\n",
       "      <th>ItemName</th>\n",
       "      <td>0</td>\n",
       "    </tr>\n",
       "  </tbody>\n",
       "</table>\n",
       "</div>"
      ],
      "text/plain": [
       "                     0\n",
       "ItemId               0\n",
       "ItemCategoryName     0\n",
       "ItemSubCategoryName  0\n",
       "ItemName             0"
      ]
     },
     "execution_count": 23,
     "metadata": {},
     "output_type": "execute_result"
    }
   ],
   "source": [
    "pd.DataFrame(df2.isna().sum())"
   ]
  },
  {
   "cell_type": "code",
   "execution_count": null,
   "metadata": {},
   "outputs": [],
   "source": []
  },
  {
   "cell_type": "markdown",
   "metadata": {},
   "source": [
    "# 3\n",
    "\n",
    "\n",
    "##### Compounds relevant for studying environmental exposures. It includes 49,248 unique chemical compounds from PubChem, focused on exposomics research, which looks at the effects of environmental exposures on human health. This dataset is useful for researchers exploring chemical exposure profiles in environmental and biological samples.\n",
    "\n",
    "\n",
    "\n",
    "\n",
    "- Compound Identifiers: Unique identifiers for each chemical.\n",
    "- FirstBlock: A unique identifier for each chemical compound. (String)\n",
    "- PubMed_Count: The number of times the chemical compound has been mentioned in PubMed. (Integer)\n",
    "- Patent_Count: The number of times the chemical compound has been mentioned in patents. (Integer)\n",
    "- Synonym: A list of alternative names for the chemical compound. (String)\n",
    "- MolecularFormula: The molecular formula of the chemical compound. (String)\n",
    "- SMILES: The simplified molecular-input line-entry system representation of the chemical compound. (String)\n",
    "- InChI: The International Chemical Identifier of the chemical compound. (String)\n",
    "- InChIKey: The InChIKey of the chemical compound. (String)\n",
    "- MonoisotopicMass: The monoisotopic mass of the chemical compound. (Float)\n",
    "- CompoundName: The name of the chemical compound. (String)\n",
    "- AnnoTypeCount: The number of annotation types associated with the chemical compound. (Integer)\n",
    "- AgroChemInfo: Information related to the use of the chemical compound in agriculture. (String)\n",
    "- BioPathway: Information related to the biological pathways associated with the chemical compound. (String)\n",
    "- DrugMedicInfo: Information related to the use of the chemical compound in drugs and medicines. (String)\n",
    "- FoodRelated: Information related to the use of the chemical compound in food. (String)\n",
    "- PharmacoInfo: Information related to the pharmacological properties of the chemical compound. (String)\n",
    "- SafetyInfo: Information related to the safety of the chemical compound. (String)\n",
    "- ToxicityInfo: Information related to the toxicity of the chemical compound. (String)\n",
    "- KnownUse: Information related to the known uses of the chemical compound. (String)\n",
    "- DisorderDisease: Information related to the disorders and diseases associated with the chemical compound. (String)\n",
    "\n",
    "\n",
    "\n",
    "** Exposomics is the study of the exposome and relies on the application of internal and external exposure assessment methods. Internal exposure relies on fields of study such as genomics, metabonomics, lipidomics, transcriptomics and proteomics."
   ]
  },
  {
   "cell_type": "code",
   "execution_count": 24,
   "metadata": {},
   "outputs": [
    {
     "data": {
      "text/plain": [
       "(371663, 23)"
      ]
     },
     "execution_count": 24,
     "metadata": {},
     "output_type": "execute_result"
    }
   ],
   "source": [
    "# https://www.kaggle.com/datasets/thedevastator/pubchemlite-compound-collection-for-exposomics-3\n",
    "\n",
    "df3 = pd.read_csv('/Users/raynasser/Downloads/DSproj/PubChemLite_31Oct2020_exposomics.csv')\n",
    "\n",
    "df3.shape"
   ]
  },
  {
   "cell_type": "code",
   "execution_count": 25,
   "metadata": {},
   "outputs": [
    {
     "data": {
      "text/plain": [
       "Index(['Identifier', 'FirstBlock', 'PubMed_Count', 'Patent_Count',\n",
       "       'Related_CIDs', 'Synonym', 'MolecularFormula', 'SMILES', 'InChI',\n",
       "       'InChIKey', 'MonoisotopicMass', 'CompoundName', 'AnnoTypeCount',\n",
       "       'AgroChemInfo', 'BioPathway', 'DrugMedicInfo', 'FoodRelated',\n",
       "       'PharmacoInfo', 'SafetyInfo', 'ToxicityInfo', 'KnownUse',\n",
       "       'DisorderDisease', 'Identification'],\n",
       "      dtype='object')"
      ]
     },
     "execution_count": 25,
     "metadata": {},
     "output_type": "execute_result"
    }
   ],
   "source": [
    "# df.info()\n",
    "\n",
    "df3.columns"
   ]
  },
  {
   "cell_type": "code",
   "execution_count": 26,
   "metadata": {},
   "outputs": [
    {
     "data": {
      "text/plain": [
       "array([dtype('int64'), dtype('O'), dtype('float64')], dtype=object)"
      ]
     },
     "execution_count": 26,
     "metadata": {},
     "output_type": "execute_result"
    }
   ],
   "source": [
    "df3.dtypes.unique()"
   ]
  },
  {
   "cell_type": "code",
   "execution_count": 27,
   "metadata": {},
   "outputs": [
    {
     "data": {
      "text/plain": [
       "int64      14\n",
       "object      8\n",
       "float64     1\n",
       "dtype: int64"
      ]
     },
     "execution_count": 27,
     "metadata": {},
     "output_type": "execute_result"
    }
   ],
   "source": [
    "df3.dtypes.value_counts()"
   ]
  },
  {
   "cell_type": "code",
   "execution_count": 28,
   "metadata": {},
   "outputs": [
    {
     "data": {
      "text/html": [
       "<div>\n",
       "<style scoped>\n",
       "    .dataframe tbody tr th:only-of-type {\n",
       "        vertical-align: middle;\n",
       "    }\n",
       "\n",
       "    .dataframe tbody tr th {\n",
       "        vertical-align: top;\n",
       "    }\n",
       "\n",
       "    .dataframe thead th {\n",
       "        text-align: right;\n",
       "    }\n",
       "</style>\n",
       "<table border=\"1\" class=\"dataframe\">\n",
       "  <thead>\n",
       "    <tr style=\"text-align: right;\">\n",
       "      <th></th>\n",
       "      <th>FirstBlock</th>\n",
       "      <th>Related_CIDs</th>\n",
       "      <th>Synonym</th>\n",
       "      <th>MolecularFormula</th>\n",
       "      <th>SMILES</th>\n",
       "      <th>InChI</th>\n",
       "      <th>InChIKey</th>\n",
       "      <th>CompoundName</th>\n",
       "    </tr>\n",
       "  </thead>\n",
       "  <tbody>\n",
       "    <tr>\n",
       "      <th>count</th>\n",
       "      <td>371663</td>\n",
       "      <td>371663</td>\n",
       "      <td>359195</td>\n",
       "      <td>371663</td>\n",
       "      <td>371663</td>\n",
       "      <td>371663</td>\n",
       "      <td>371663</td>\n",
       "      <td>370840</td>\n",
       "    </tr>\n",
       "    <tr>\n",
       "      <th>unique</th>\n",
       "      <td>371663</td>\n",
       "      <td>371663</td>\n",
       "      <td>359195</td>\n",
       "      <td>108256</td>\n",
       "      <td>371663</td>\n",
       "      <td>371663</td>\n",
       "      <td>371663</td>\n",
       "      <td>370806</td>\n",
       "    </tr>\n",
       "    <tr>\n",
       "      <th>top</th>\n",
       "      <td>INCSWYKICIYAHB</td>\n",
       "      <td>9964159 23615184 45266758</td>\n",
       "      <td>(2S,3S)-2,3-dihydroxy-2,3-dihydrobenzoic acid</td>\n",
       "      <td>C75H146O17P2</td>\n",
       "      <td>C1=CC(C(C(=C1)C(=O)O)O)O</td>\n",
       "      <td>InChI=1S/C7H8O4/c8-5-3-1-2-4(6(5)9)7(10)11/h1-...</td>\n",
       "      <td>INCSWYKICIYAHB-UHFFFAOYSA-N</td>\n",
       "      <td>2-[2-[2-[2-(2-methoxyethoxy)ethoxy]ethoxy]etho...</td>\n",
       "    </tr>\n",
       "    <tr>\n",
       "      <th>freq</th>\n",
       "      <td>1</td>\n",
       "      <td>1</td>\n",
       "      <td>1</td>\n",
       "      <td>914</td>\n",
       "      <td>1</td>\n",
       "      <td>1</td>\n",
       "      <td>1</td>\n",
       "      <td>3</td>\n",
       "    </tr>\n",
       "  </tbody>\n",
       "</table>\n",
       "</div>"
      ],
      "text/plain": [
       "            FirstBlock               Related_CIDs  \\\n",
       "count           371663                     371663   \n",
       "unique          371663                     371663   \n",
       "top     INCSWYKICIYAHB  9964159 23615184 45266758   \n",
       "freq                 1                          1   \n",
       "\n",
       "                                              Synonym MolecularFormula  \\\n",
       "count                                          359195           371663   \n",
       "unique                                         359195           108256   \n",
       "top     (2S,3S)-2,3-dihydroxy-2,3-dihydrobenzoic acid     C75H146O17P2   \n",
       "freq                                                1              914   \n",
       "\n",
       "                          SMILES  \\\n",
       "count                     371663   \n",
       "unique                    371663   \n",
       "top     C1=CC(C(C(=C1)C(=O)O)O)O   \n",
       "freq                           1   \n",
       "\n",
       "                                                    InChI  \\\n",
       "count                                              371663   \n",
       "unique                                             371663   \n",
       "top     InChI=1S/C7H8O4/c8-5-3-1-2-4(6(5)9)7(10)11/h1-...   \n",
       "freq                                                    1   \n",
       "\n",
       "                           InChIKey  \\\n",
       "count                        371663   \n",
       "unique                       371663   \n",
       "top     INCSWYKICIYAHB-UHFFFAOYSA-N   \n",
       "freq                              1   \n",
       "\n",
       "                                             CompoundName  \n",
       "count                                              370840  \n",
       "unique                                             370806  \n",
       "top     2-[2-[2-[2-(2-methoxyethoxy)ethoxy]ethoxy]etho...  \n",
       "freq                                                    3  "
      ]
     },
     "execution_count": 28,
     "metadata": {},
     "output_type": "execute_result"
    }
   ],
   "source": [
    "df3.describe(include=['O'])"
   ]
  },
  {
   "cell_type": "code",
   "execution_count": 29,
   "metadata": {},
   "outputs": [
    {
     "data": {
      "text/plain": [
       "0"
      ]
     },
     "execution_count": 29,
     "metadata": {},
     "output_type": "execute_result"
    }
   ],
   "source": [
    "df3.duplicated().sum()"
   ]
  },
  {
   "cell_type": "code",
   "execution_count": 30,
   "metadata": {},
   "outputs": [
    {
     "data": {
      "text/html": [
       "<div>\n",
       "<style scoped>\n",
       "    .dataframe tbody tr th:only-of-type {\n",
       "        vertical-align: middle;\n",
       "    }\n",
       "\n",
       "    .dataframe tbody tr th {\n",
       "        vertical-align: top;\n",
       "    }\n",
       "\n",
       "    .dataframe thead th {\n",
       "        text-align: right;\n",
       "    }\n",
       "</style>\n",
       "<table border=\"1\" class=\"dataframe\">\n",
       "  <thead>\n",
       "    <tr style=\"text-align: right;\">\n",
       "      <th></th>\n",
       "      <th>0</th>\n",
       "    </tr>\n",
       "  </thead>\n",
       "  <tbody>\n",
       "    <tr>\n",
       "      <th>Identifier</th>\n",
       "      <td>0</td>\n",
       "    </tr>\n",
       "    <tr>\n",
       "      <th>FirstBlock</th>\n",
       "      <td>0</td>\n",
       "    </tr>\n",
       "    <tr>\n",
       "      <th>PubMed_Count</th>\n",
       "      <td>0</td>\n",
       "    </tr>\n",
       "    <tr>\n",
       "      <th>Patent_Count</th>\n",
       "      <td>0</td>\n",
       "    </tr>\n",
       "    <tr>\n",
       "      <th>Related_CIDs</th>\n",
       "      <td>0</td>\n",
       "    </tr>\n",
       "    <tr>\n",
       "      <th>Synonym</th>\n",
       "      <td>12468</td>\n",
       "    </tr>\n",
       "    <tr>\n",
       "      <th>MolecularFormula</th>\n",
       "      <td>0</td>\n",
       "    </tr>\n",
       "    <tr>\n",
       "      <th>SMILES</th>\n",
       "      <td>0</td>\n",
       "    </tr>\n",
       "    <tr>\n",
       "      <th>InChI</th>\n",
       "      <td>0</td>\n",
       "    </tr>\n",
       "    <tr>\n",
       "      <th>InChIKey</th>\n",
       "      <td>0</td>\n",
       "    </tr>\n",
       "    <tr>\n",
       "      <th>MonoisotopicMass</th>\n",
       "      <td>0</td>\n",
       "    </tr>\n",
       "    <tr>\n",
       "      <th>CompoundName</th>\n",
       "      <td>823</td>\n",
       "    </tr>\n",
       "    <tr>\n",
       "      <th>AnnoTypeCount</th>\n",
       "      <td>0</td>\n",
       "    </tr>\n",
       "    <tr>\n",
       "      <th>AgroChemInfo</th>\n",
       "      <td>0</td>\n",
       "    </tr>\n",
       "    <tr>\n",
       "      <th>BioPathway</th>\n",
       "      <td>0</td>\n",
       "    </tr>\n",
       "    <tr>\n",
       "      <th>DrugMedicInfo</th>\n",
       "      <td>0</td>\n",
       "    </tr>\n",
       "    <tr>\n",
       "      <th>FoodRelated</th>\n",
       "      <td>0</td>\n",
       "    </tr>\n",
       "    <tr>\n",
       "      <th>PharmacoInfo</th>\n",
       "      <td>0</td>\n",
       "    </tr>\n",
       "    <tr>\n",
       "      <th>SafetyInfo</th>\n",
       "      <td>0</td>\n",
       "    </tr>\n",
       "    <tr>\n",
       "      <th>ToxicityInfo</th>\n",
       "      <td>0</td>\n",
       "    </tr>\n",
       "    <tr>\n",
       "      <th>KnownUse</th>\n",
       "      <td>0</td>\n",
       "    </tr>\n",
       "    <tr>\n",
       "      <th>DisorderDisease</th>\n",
       "      <td>0</td>\n",
       "    </tr>\n",
       "    <tr>\n",
       "      <th>Identification</th>\n",
       "      <td>0</td>\n",
       "    </tr>\n",
       "  </tbody>\n",
       "</table>\n",
       "</div>"
      ],
      "text/plain": [
       "                      0\n",
       "Identifier            0\n",
       "FirstBlock            0\n",
       "PubMed_Count          0\n",
       "Patent_Count          0\n",
       "Related_CIDs          0\n",
       "Synonym           12468\n",
       "MolecularFormula      0\n",
       "SMILES                0\n",
       "InChI                 0\n",
       "InChIKey              0\n",
       "MonoisotopicMass      0\n",
       "CompoundName        823\n",
       "AnnoTypeCount         0\n",
       "AgroChemInfo          0\n",
       "BioPathway            0\n",
       "DrugMedicInfo         0\n",
       "FoodRelated           0\n",
       "PharmacoInfo          0\n",
       "SafetyInfo            0\n",
       "ToxicityInfo          0\n",
       "KnownUse              0\n",
       "DisorderDisease       0\n",
       "Identification        0"
      ]
     },
     "execution_count": 30,
     "metadata": {},
     "output_type": "execute_result"
    }
   ],
   "source": [
    "pd.DataFrame(df3.isna().sum())"
   ]
  },
  {
   "cell_type": "code",
   "execution_count": null,
   "metadata": {},
   "outputs": [],
   "source": []
  },
  {
   "cell_type": "markdown",
   "metadata": {},
   "source": [
    "#  4"
   ]
  },
  {
   "cell_type": "code",
   "execution_count": 31,
   "metadata": {},
   "outputs": [
    {
     "data": {
      "text/plain": [
       "(399, 9)"
      ]
     },
     "execution_count": 31,
     "metadata": {},
     "output_type": "execute_result"
    }
   ],
   "source": [
    "# https://www.kaggle.com/code/rielumboh/eda-and-modelling-allergen-in-food-products/input\n",
    "\n",
    "df4 = pd.read_csv('/Users/raynasser/Downloads/DSproj/Allergen_Status_of_Food_Products.csv')\n",
    "\n",
    "df4.shape"
   ]
  },
  {
   "cell_type": "code",
   "execution_count": 32,
   "metadata": {},
   "outputs": [
    {
     "data": {
      "text/plain": [
       "Index(['Food Product', 'Main Ingredient', 'Sweetener', 'Fat/Oil', 'Seasoning',\n",
       "       'Allergens', 'Price ($)', 'Customer rating (Out of 5)', 'Prediction'],\n",
       "      dtype='object')"
      ]
     },
     "execution_count": 32,
     "metadata": {},
     "output_type": "execute_result"
    }
   ],
   "source": [
    "# df.info()\n",
    "\n",
    "df4.columns"
   ]
  },
  {
   "cell_type": "code",
   "execution_count": 33,
   "metadata": {},
   "outputs": [
    {
     "data": {
      "text/plain": [
       "array([dtype('O'), dtype('float64')], dtype=object)"
      ]
     },
     "execution_count": 33,
     "metadata": {},
     "output_type": "execute_result"
    }
   ],
   "source": [
    "df4.dtypes.unique()"
   ]
  },
  {
   "cell_type": "code",
   "execution_count": 34,
   "metadata": {},
   "outputs": [
    {
     "data": {
      "text/plain": [
       "object     7\n",
       "float64    2\n",
       "dtype: int64"
      ]
     },
     "execution_count": 34,
     "metadata": {},
     "output_type": "execute_result"
    }
   ],
   "source": [
    "df4.dtypes.value_counts()"
   ]
  },
  {
   "cell_type": "code",
   "execution_count": 35,
   "metadata": {},
   "outputs": [
    {
     "data": {
      "text/html": [
       "<div>\n",
       "<style scoped>\n",
       "    .dataframe tbody tr th:only-of-type {\n",
       "        vertical-align: middle;\n",
       "    }\n",
       "\n",
       "    .dataframe tbody tr th {\n",
       "        vertical-align: top;\n",
       "    }\n",
       "\n",
       "    .dataframe thead th {\n",
       "        text-align: right;\n",
       "    }\n",
       "</style>\n",
       "<table border=\"1\" class=\"dataframe\">\n",
       "  <thead>\n",
       "    <tr style=\"text-align: right;\">\n",
       "      <th></th>\n",
       "      <th>Food Product</th>\n",
       "      <th>Main Ingredient</th>\n",
       "      <th>Sweetener</th>\n",
       "      <th>Fat/Oil</th>\n",
       "      <th>Seasoning</th>\n",
       "      <th>Allergens</th>\n",
       "      <th>Prediction</th>\n",
       "    </tr>\n",
       "  </thead>\n",
       "  <tbody>\n",
       "    <tr>\n",
       "      <th>count</th>\n",
       "      <td>399</td>\n",
       "      <td>399</td>\n",
       "      <td>399</td>\n",
       "      <td>399</td>\n",
       "      <td>399</td>\n",
       "      <td>399</td>\n",
       "      <td>398</td>\n",
       "    </tr>\n",
       "    <tr>\n",
       "      <th>unique</th>\n",
       "      <td>259</td>\n",
       "      <td>101</td>\n",
       "      <td>10</td>\n",
       "      <td>36</td>\n",
       "      <td>186</td>\n",
       "      <td>40</td>\n",
       "      <td>2</td>\n",
       "    </tr>\n",
       "    <tr>\n",
       "      <th>top</th>\n",
       "      <td>Stuffed Bell Peppers</td>\n",
       "      <td>Chicken</td>\n",
       "      <td>None</td>\n",
       "      <td>Olive oil</td>\n",
       "      <td>None</td>\n",
       "      <td>None</td>\n",
       "      <td>Contains</td>\n",
       "    </tr>\n",
       "    <tr>\n",
       "      <th>freq</th>\n",
       "      <td>4</td>\n",
       "      <td>61</td>\n",
       "      <td>280</td>\n",
       "      <td>90</td>\n",
       "      <td>20</td>\n",
       "      <td>148</td>\n",
       "      <td>255</td>\n",
       "    </tr>\n",
       "  </tbody>\n",
       "</table>\n",
       "</div>"
      ],
      "text/plain": [
       "                Food Product Main Ingredient Sweetener    Fat/Oil Seasoning  \\\n",
       "count                    399             399       399        399       399   \n",
       "unique                   259             101        10         36       186   \n",
       "top     Stuffed Bell Peppers         Chicken      None  Olive oil      None   \n",
       "freq                       4              61       280         90        20   \n",
       "\n",
       "       Allergens Prediction  \n",
       "count        399        398  \n",
       "unique        40          2  \n",
       "top         None   Contains  \n",
       "freq         148        255  "
      ]
     },
     "execution_count": 35,
     "metadata": {},
     "output_type": "execute_result"
    }
   ],
   "source": [
    "df4.describe(include=['O'])"
   ]
  },
  {
   "cell_type": "code",
   "execution_count": 36,
   "metadata": {},
   "outputs": [
    {
     "data": {
      "text/plain": [
       "0"
      ]
     },
     "execution_count": 36,
     "metadata": {},
     "output_type": "execute_result"
    }
   ],
   "source": [
    "df4.duplicated().sum()"
   ]
  },
  {
   "cell_type": "code",
   "execution_count": 37,
   "metadata": {},
   "outputs": [
    {
     "data": {
      "text/html": [
       "<div>\n",
       "<style scoped>\n",
       "    .dataframe tbody tr th:only-of-type {\n",
       "        vertical-align: middle;\n",
       "    }\n",
       "\n",
       "    .dataframe tbody tr th {\n",
       "        vertical-align: top;\n",
       "    }\n",
       "\n",
       "    .dataframe thead th {\n",
       "        text-align: right;\n",
       "    }\n",
       "</style>\n",
       "<table border=\"1\" class=\"dataframe\">\n",
       "  <thead>\n",
       "    <tr style=\"text-align: right;\">\n",
       "      <th></th>\n",
       "      <th>0</th>\n",
       "    </tr>\n",
       "  </thead>\n",
       "  <tbody>\n",
       "    <tr>\n",
       "      <th>Food Product</th>\n",
       "      <td>0</td>\n",
       "    </tr>\n",
       "    <tr>\n",
       "      <th>Main Ingredient</th>\n",
       "      <td>0</td>\n",
       "    </tr>\n",
       "    <tr>\n",
       "      <th>Sweetener</th>\n",
       "      <td>0</td>\n",
       "    </tr>\n",
       "    <tr>\n",
       "      <th>Fat/Oil</th>\n",
       "      <td>0</td>\n",
       "    </tr>\n",
       "    <tr>\n",
       "      <th>Seasoning</th>\n",
       "      <td>0</td>\n",
       "    </tr>\n",
       "    <tr>\n",
       "      <th>Allergens</th>\n",
       "      <td>0</td>\n",
       "    </tr>\n",
       "    <tr>\n",
       "      <th>Price ($)</th>\n",
       "      <td>0</td>\n",
       "    </tr>\n",
       "    <tr>\n",
       "      <th>Customer rating (Out of 5)</th>\n",
       "      <td>0</td>\n",
       "    </tr>\n",
       "    <tr>\n",
       "      <th>Prediction</th>\n",
       "      <td>1</td>\n",
       "    </tr>\n",
       "  </tbody>\n",
       "</table>\n",
       "</div>"
      ],
      "text/plain": [
       "                            0\n",
       "Food Product                0\n",
       "Main Ingredient             0\n",
       "Sweetener                   0\n",
       "Fat/Oil                     0\n",
       "Seasoning                   0\n",
       "Allergens                   0\n",
       "Price ($)                   0\n",
       "Customer rating (Out of 5)  0\n",
       "Prediction                  1"
      ]
     },
     "execution_count": 37,
     "metadata": {},
     "output_type": "execute_result"
    }
   ],
   "source": [
    "pd.DataFrame(df4.isna().sum())"
   ]
  },
  {
   "cell_type": "code",
   "execution_count": null,
   "metadata": {},
   "outputs": [],
   "source": []
  },
  {
   "cell_type": "markdown",
   "metadata": {},
   "source": [
    "# 5"
   ]
  },
  {
   "cell_type": "code",
   "execution_count": 38,
   "metadata": {},
   "outputs": [
    {
     "data": {
      "text/plain": [
       "(112, 4)"
      ]
     },
     "execution_count": 38,
     "metadata": {},
     "output_type": "execute_result"
    }
   ],
   "source": [
    "# https://data.mendeley.com/datasets/m78j7ctwhn/2\n",
    "\n",
    "df5 = pd.read_csv('/Users/raynasser/Downloads/DSproj/pharma_safe/data-drug.csv', delimiter= '|')\n",
    "\n",
    "df5.shape"
   ]
  },
  {
   "cell_type": "code",
   "execution_count": 39,
   "metadata": {},
   "outputs": [
    {
     "data": {
      "text/plain": [
       "Index(['id', 'name', 'category', 'indication'], dtype='object')"
      ]
     },
     "execution_count": 39,
     "metadata": {},
     "output_type": "execute_result"
    }
   ],
   "source": [
    "# df.info()\n",
    "\n",
    "df5.columns"
   ]
  },
  {
   "cell_type": "code",
   "execution_count": 40,
   "metadata": {},
   "outputs": [
    {
     "data": {
      "text/plain": [
       "array([dtype('int64'), dtype('O')], dtype=object)"
      ]
     },
     "execution_count": 40,
     "metadata": {},
     "output_type": "execute_result"
    }
   ],
   "source": [
    "df5.dtypes.unique()"
   ]
  },
  {
   "cell_type": "code",
   "execution_count": 41,
   "metadata": {},
   "outputs": [
    {
     "data": {
      "text/plain": [
       "object    3\n",
       "int64     1\n",
       "dtype: int64"
      ]
     },
     "execution_count": 41,
     "metadata": {},
     "output_type": "execute_result"
    }
   ],
   "source": [
    "df5.dtypes.value_counts()"
   ]
  },
  {
   "cell_type": "code",
   "execution_count": 42,
   "metadata": {},
   "outputs": [
    {
     "data": {
      "text/html": [
       "<div>\n",
       "<style scoped>\n",
       "    .dataframe tbody tr th:only-of-type {\n",
       "        vertical-align: middle;\n",
       "    }\n",
       "\n",
       "    .dataframe tbody tr th {\n",
       "        vertical-align: top;\n",
       "    }\n",
       "\n",
       "    .dataframe thead th {\n",
       "        text-align: right;\n",
       "    }\n",
       "</style>\n",
       "<table border=\"1\" class=\"dataframe\">\n",
       "  <thead>\n",
       "    <tr style=\"text-align: right;\">\n",
       "      <th></th>\n",
       "      <th>name</th>\n",
       "      <th>category</th>\n",
       "      <th>indication</th>\n",
       "    </tr>\n",
       "  </thead>\n",
       "  <tbody>\n",
       "    <tr>\n",
       "      <th>count</th>\n",
       "      <td>112</td>\n",
       "      <td>112</td>\n",
       "      <td>112</td>\n",
       "    </tr>\n",
       "    <tr>\n",
       "      <th>unique</th>\n",
       "      <td>107</td>\n",
       "      <td>6</td>\n",
       "      <td>76</td>\n",
       "    </tr>\n",
       "    <tr>\n",
       "      <th>top</th>\n",
       "      <td>OBH Combi Batuk Flu Menthol</td>\n",
       "      <td>cough</td>\n",
       "      <td>To relieve flu symptoms such as fever, headach...</td>\n",
       "    </tr>\n",
       "    <tr>\n",
       "      <th>freq</th>\n",
       "      <td>2</td>\n",
       "      <td>36</td>\n",
       "      <td>11</td>\n",
       "    </tr>\n",
       "  </tbody>\n",
       "</table>\n",
       "</div>"
      ],
      "text/plain": [
       "                               name category  \\\n",
       "count                           112      112   \n",
       "unique                          107        6   \n",
       "top     OBH Combi Batuk Flu Menthol    cough   \n",
       "freq                              2       36   \n",
       "\n",
       "                                               indication  \n",
       "count                                                 112  \n",
       "unique                                                 76  \n",
       "top     To relieve flu symptoms such as fever, headach...  \n",
       "freq                                                   11  "
      ]
     },
     "execution_count": 42,
     "metadata": {},
     "output_type": "execute_result"
    }
   ],
   "source": [
    "df5.describe(include=['O'])"
   ]
  },
  {
   "cell_type": "code",
   "execution_count": 43,
   "metadata": {},
   "outputs": [
    {
     "data": {
      "text/plain": [
       "0"
      ]
     },
     "execution_count": 43,
     "metadata": {},
     "output_type": "execute_result"
    }
   ],
   "source": [
    "df5.duplicated().sum()"
   ]
  },
  {
   "cell_type": "code",
   "execution_count": 44,
   "metadata": {},
   "outputs": [
    {
     "data": {
      "text/html": [
       "<div>\n",
       "<style scoped>\n",
       "    .dataframe tbody tr th:only-of-type {\n",
       "        vertical-align: middle;\n",
       "    }\n",
       "\n",
       "    .dataframe tbody tr th {\n",
       "        vertical-align: top;\n",
       "    }\n",
       "\n",
       "    .dataframe thead th {\n",
       "        text-align: right;\n",
       "    }\n",
       "</style>\n",
       "<table border=\"1\" class=\"dataframe\">\n",
       "  <thead>\n",
       "    <tr style=\"text-align: right;\">\n",
       "      <th></th>\n",
       "      <th>0</th>\n",
       "    </tr>\n",
       "  </thead>\n",
       "  <tbody>\n",
       "    <tr>\n",
       "      <th>id</th>\n",
       "      <td>0</td>\n",
       "    </tr>\n",
       "    <tr>\n",
       "      <th>name</th>\n",
       "      <td>0</td>\n",
       "    </tr>\n",
       "    <tr>\n",
       "      <th>category</th>\n",
       "      <td>0</td>\n",
       "    </tr>\n",
       "    <tr>\n",
       "      <th>indication</th>\n",
       "      <td>0</td>\n",
       "    </tr>\n",
       "  </tbody>\n",
       "</table>\n",
       "</div>"
      ],
      "text/plain": [
       "            0\n",
       "id          0\n",
       "name        0\n",
       "category    0\n",
       "indication  0"
      ]
     },
     "execution_count": 44,
     "metadata": {},
     "output_type": "execute_result"
    }
   ],
   "source": [
    "pd.DataFrame(df5.isna().sum())"
   ]
  },
  {
   "cell_type": "code",
   "execution_count": null,
   "metadata": {},
   "outputs": [],
   "source": []
  },
  {
   "cell_type": "markdown",
   "metadata": {},
   "source": [
    "# 6"
   ]
  },
  {
   "cell_type": "code",
   "execution_count": 5,
   "metadata": {},
   "outputs": [
    {
     "data": {
      "text/plain": [
       "(2020, 16)"
      ]
     },
     "execution_count": 5,
     "metadata": {},
     "output_type": "execute_result"
    }
   ],
   "source": [
    "# https://data.world/crowdflower/drug-relation-database\n",
    "\n",
    "df6 = pd.read_csv('/Users/raynasser/Downloads/DSproj/drug_relation_dfe.csv')\n",
    "\n",
    "df6.shape"
   ]
  },
  {
   "cell_type": "code",
   "execution_count": 6,
   "metadata": {},
   "outputs": [
    {
     "data": {
      "text/plain": [
       "unit_id                                                                    711483495\n",
       "golden                                                                         False\n",
       "unit_state                                                                 finalized\n",
       "trusted_judgments                                                                  3\n",
       "last_judgment_at                                                 2015-04-29T17:55:00\n",
       "human_relation                                                   Personal experience\n",
       "human_relation_confidence                                                        1.0\n",
       "human_relation_type                                               Caused side effect\n",
       "human_relation_type_confidence                                                0.6809\n",
       "documentid                                                                        14\n",
       "gold                                                                           False\n",
       "human_relation_gold                                                              NaN\n",
       "human_relation_gold_reason                                                       NaN\n",
       "human_relation_type_gold                                                         NaN\n",
       "human_relation_type_gold_reason                                                  NaN\n",
       "text                               Update: This is the third day since i've been ...\n",
       "Name: 33, dtype: object"
      ]
     },
     "execution_count": 6,
     "metadata": {},
     "output_type": "execute_result"
    }
   ],
   "source": [
    "df6.iloc[33]"
   ]
  },
  {
   "cell_type": "code",
   "execution_count": 46,
   "metadata": {},
   "outputs": [
    {
     "data": {
      "text/plain": [
       "Index(['unit_id', 'golden', 'unit_state', 'trusted_judgments',\n",
       "       'last_judgment_at', 'human_relation', 'human_relation_confidence',\n",
       "       'human_relation_type', 'human_relation_type_confidence', 'documentid',\n",
       "       'gold', 'human_relation_gold', 'human_relation_gold_reason',\n",
       "       'human_relation_type_gold', 'human_relation_type_gold_reason', 'text'],\n",
       "      dtype='object')"
      ]
     },
     "execution_count": 46,
     "metadata": {},
     "output_type": "execute_result"
    }
   ],
   "source": [
    "# df.info()\n",
    "\n",
    "df6.columns"
   ]
  },
  {
   "cell_type": "code",
   "execution_count": 47,
   "metadata": {},
   "outputs": [
    {
     "data": {
      "text/plain": [
       "array([dtype('int64'), dtype('bool'), dtype('O'), dtype('float64')],\n",
       "      dtype=object)"
      ]
     },
     "execution_count": 47,
     "metadata": {},
     "output_type": "execute_result"
    }
   ],
   "source": [
    "df6.dtypes.unique()"
   ]
  },
  {
   "cell_type": "code",
   "execution_count": 48,
   "metadata": {},
   "outputs": [
    {
     "data": {
      "text/plain": [
       "object     8\n",
       "float64    4\n",
       "int64      2\n",
       "bool       2\n",
       "dtype: int64"
      ]
     },
     "execution_count": 48,
     "metadata": {},
     "output_type": "execute_result"
    }
   ],
   "source": [
    "df6.dtypes.value_counts()"
   ]
  },
  {
   "cell_type": "code",
   "execution_count": 49,
   "metadata": {},
   "outputs": [
    {
     "data": {
      "text/html": [
       "<div>\n",
       "<style scoped>\n",
       "    .dataframe tbody tr th:only-of-type {\n",
       "        vertical-align: middle;\n",
       "    }\n",
       "\n",
       "    .dataframe tbody tr th {\n",
       "        vertical-align: top;\n",
       "    }\n",
       "\n",
       "    .dataframe thead th {\n",
       "        text-align: right;\n",
       "    }\n",
       "</style>\n",
       "<table border=\"1\" class=\"dataframe\">\n",
       "  <thead>\n",
       "    <tr style=\"text-align: right;\">\n",
       "      <th></th>\n",
       "      <th>unit_state</th>\n",
       "      <th>last_judgment_at</th>\n",
       "      <th>human_relation</th>\n",
       "      <th>human_relation_type</th>\n",
       "      <th>documentid</th>\n",
       "      <th>human_relation_gold_reason</th>\n",
       "      <th>human_relation_type_gold_reason</th>\n",
       "      <th>text</th>\n",
       "    </tr>\n",
       "  </thead>\n",
       "  <tbody>\n",
       "    <tr>\n",
       "      <th>count</th>\n",
       "      <td>2020</td>\n",
       "      <td>2000</td>\n",
       "      <td>2020</td>\n",
       "      <td>2020</td>\n",
       "      <td>2020</td>\n",
       "      <td>19</td>\n",
       "      <td>20</td>\n",
       "      <td>2020</td>\n",
       "    </tr>\n",
       "    <tr>\n",
       "      <th>unique</th>\n",
       "      <td>2</td>\n",
       "      <td>271</td>\n",
       "      <td>5</td>\n",
       "      <td>5</td>\n",
       "      <td>2019</td>\n",
       "      <td>12</td>\n",
       "      <td>18</td>\n",
       "      <td>2020</td>\n",
       "    </tr>\n",
       "    <tr>\n",
       "      <th>top</th>\n",
       "      <td>finalized</td>\n",
       "      <td>2015-04-29T19:37:00</td>\n",
       "      <td>Personal experience</td>\n",
       "      <td>Caused side effect</td>\n",
       "      <td>t1</td>\n",
       "      <td>The author explicitly relates to an event s/he...</td>\n",
       "      <td>Person tells that he/she takes drug, BUT there...</td>\n",
       "      <td>I am also taking cough medicine and some &lt;font...</td>\n",
       "    </tr>\n",
       "    <tr>\n",
       "      <th>freq</th>\n",
       "      <td>2000</td>\n",
       "      <td>23</td>\n",
       "      <td>1216</td>\n",
       "      <td>1326</td>\n",
       "      <td>2</td>\n",
       "      <td>4</td>\n",
       "      <td>2</td>\n",
       "      <td>1</td>\n",
       "    </tr>\n",
       "  </tbody>\n",
       "</table>\n",
       "</div>"
      ],
      "text/plain": [
       "       unit_state     last_judgment_at       human_relation  \\\n",
       "count        2020                 2000                 2020   \n",
       "unique          2                  271                    5   \n",
       "top     finalized  2015-04-29T19:37:00  Personal experience   \n",
       "freq         2000                   23                 1216   \n",
       "\n",
       "       human_relation_type documentid  \\\n",
       "count                 2020       2020   \n",
       "unique                   5       2019   \n",
       "top     Caused side effect         t1   \n",
       "freq                  1326          2   \n",
       "\n",
       "                               human_relation_gold_reason  \\\n",
       "count                                                  19   \n",
       "unique                                                 12   \n",
       "top     The author explicitly relates to an event s/he...   \n",
       "freq                                                    4   \n",
       "\n",
       "                          human_relation_type_gold_reason  \\\n",
       "count                                                  20   \n",
       "unique                                                 18   \n",
       "top     Person tells that he/she takes drug, BUT there...   \n",
       "freq                                                    2   \n",
       "\n",
       "                                                     text  \n",
       "count                                                2020  \n",
       "unique                                               2020  \n",
       "top     I am also taking cough medicine and some <font...  \n",
       "freq                                                    1  "
      ]
     },
     "execution_count": 49,
     "metadata": {},
     "output_type": "execute_result"
    }
   ],
   "source": [
    "df6.describe(include=['O'])"
   ]
  },
  {
   "cell_type": "code",
   "execution_count": 50,
   "metadata": {},
   "outputs": [
    {
     "data": {
      "text/plain": [
       "0"
      ]
     },
     "execution_count": 50,
     "metadata": {},
     "output_type": "execute_result"
    }
   ],
   "source": [
    "df6.duplicated().sum()"
   ]
  },
  {
   "cell_type": "code",
   "execution_count": 51,
   "metadata": {},
   "outputs": [
    {
     "data": {
      "text/html": [
       "<div>\n",
       "<style scoped>\n",
       "    .dataframe tbody tr th:only-of-type {\n",
       "        vertical-align: middle;\n",
       "    }\n",
       "\n",
       "    .dataframe tbody tr th {\n",
       "        vertical-align: top;\n",
       "    }\n",
       "\n",
       "    .dataframe thead th {\n",
       "        text-align: right;\n",
       "    }\n",
       "</style>\n",
       "<table border=\"1\" class=\"dataframe\">\n",
       "  <thead>\n",
       "    <tr style=\"text-align: right;\">\n",
       "      <th></th>\n",
       "      <th>0</th>\n",
       "    </tr>\n",
       "  </thead>\n",
       "  <tbody>\n",
       "    <tr>\n",
       "      <th>unit_id</th>\n",
       "      <td>0</td>\n",
       "    </tr>\n",
       "    <tr>\n",
       "      <th>golden</th>\n",
       "      <td>0</td>\n",
       "    </tr>\n",
       "    <tr>\n",
       "      <th>unit_state</th>\n",
       "      <td>0</td>\n",
       "    </tr>\n",
       "    <tr>\n",
       "      <th>trusted_judgments</th>\n",
       "      <td>0</td>\n",
       "    </tr>\n",
       "    <tr>\n",
       "      <th>last_judgment_at</th>\n",
       "      <td>20</td>\n",
       "    </tr>\n",
       "    <tr>\n",
       "      <th>human_relation</th>\n",
       "      <td>0</td>\n",
       "    </tr>\n",
       "    <tr>\n",
       "      <th>human_relation_confidence</th>\n",
       "      <td>0</td>\n",
       "    </tr>\n",
       "    <tr>\n",
       "      <th>human_relation_type</th>\n",
       "      <td>0</td>\n",
       "    </tr>\n",
       "    <tr>\n",
       "      <th>human_relation_type_confidence</th>\n",
       "      <td>0</td>\n",
       "    </tr>\n",
       "    <tr>\n",
       "      <th>documentid</th>\n",
       "      <td>0</td>\n",
       "    </tr>\n",
       "    <tr>\n",
       "      <th>gold</th>\n",
       "      <td>0</td>\n",
       "    </tr>\n",
       "    <tr>\n",
       "      <th>human_relation_gold</th>\n",
       "      <td>2000</td>\n",
       "    </tr>\n",
       "    <tr>\n",
       "      <th>human_relation_gold_reason</th>\n",
       "      <td>2001</td>\n",
       "    </tr>\n",
       "    <tr>\n",
       "      <th>human_relation_type_gold</th>\n",
       "      <td>2000</td>\n",
       "    </tr>\n",
       "    <tr>\n",
       "      <th>human_relation_type_gold_reason</th>\n",
       "      <td>2000</td>\n",
       "    </tr>\n",
       "    <tr>\n",
       "      <th>text</th>\n",
       "      <td>0</td>\n",
       "    </tr>\n",
       "  </tbody>\n",
       "</table>\n",
       "</div>"
      ],
      "text/plain": [
       "                                    0\n",
       "unit_id                             0\n",
       "golden                              0\n",
       "unit_state                          0\n",
       "trusted_judgments                   0\n",
       "last_judgment_at                   20\n",
       "human_relation                      0\n",
       "human_relation_confidence           0\n",
       "human_relation_type                 0\n",
       "human_relation_type_confidence      0\n",
       "documentid                          0\n",
       "gold                                0\n",
       "human_relation_gold              2000\n",
       "human_relation_gold_reason       2001\n",
       "human_relation_type_gold         2000\n",
       "human_relation_type_gold_reason  2000\n",
       "text                                0"
      ]
     },
     "execution_count": 51,
     "metadata": {},
     "output_type": "execute_result"
    }
   ],
   "source": [
    "pd.DataFrame(df6.isna().sum())"
   ]
  },
  {
   "cell_type": "code",
   "execution_count": null,
   "metadata": {},
   "outputs": [],
   "source": []
  },
  {
   "cell_type": "code",
   "execution_count": 52,
   "metadata": {},
   "outputs": [
    {
     "data": {
      "text/html": [
       "<div>\n",
       "<style scoped>\n",
       "    .dataframe tbody tr th:only-of-type {\n",
       "        vertical-align: middle;\n",
       "    }\n",
       "\n",
       "    .dataframe tbody tr th {\n",
       "        vertical-align: top;\n",
       "    }\n",
       "\n",
       "    .dataframe thead th {\n",
       "        text-align: right;\n",
       "    }\n",
       "</style>\n",
       "<table border=\"1\" class=\"dataframe\">\n",
       "  <thead>\n",
       "    <tr style=\"text-align: right;\">\n",
       "      <th></th>\n",
       "      <th>df#1</th>\n",
       "      <th>df#2</th>\n",
       "      <th>df#3</th>\n",
       "      <th>df#4</th>\n",
       "      <th>df#5</th>\n",
       "      <th>df#6</th>\n",
       "    </tr>\n",
       "  </thead>\n",
       "  <tbody>\n",
       "    <tr>\n",
       "      <th>object</th>\n",
       "      <td>57</td>\n",
       "      <td>3</td>\n",
       "      <td>8</td>\n",
       "      <td>7</td>\n",
       "      <td>3</td>\n",
       "      <td>8</td>\n",
       "    </tr>\n",
       "    <tr>\n",
       "      <th>int64</th>\n",
       "      <td>1</td>\n",
       "      <td>1</td>\n",
       "      <td>14</td>\n",
       "      <td>0</td>\n",
       "      <td>1</td>\n",
       "      <td>2</td>\n",
       "    </tr>\n",
       "    <tr>\n",
       "      <th>float64</th>\n",
       "      <td>0</td>\n",
       "      <td>0</td>\n",
       "      <td>1</td>\n",
       "      <td>2</td>\n",
       "      <td>0</td>\n",
       "      <td>4</td>\n",
       "    </tr>\n",
       "    <tr>\n",
       "      <th>bool</th>\n",
       "      <td>0</td>\n",
       "      <td>0</td>\n",
       "      <td>0</td>\n",
       "      <td>0</td>\n",
       "      <td>0</td>\n",
       "      <td>2</td>\n",
       "    </tr>\n",
       "  </tbody>\n",
       "</table>\n",
       "</div>"
      ],
      "text/plain": [
       "         df#1  df#2  df#3  df#4  df#5  df#6\n",
       "object     57     3     8     7     3     8\n",
       "int64       1     1    14     0     1     2\n",
       "float64     0     0     1     2     0     4\n",
       "bool        0     0     0     0     0     2"
      ]
     },
     "execution_count": 52,
     "metadata": {},
     "output_type": "execute_result"
    }
   ],
   "source": [
    "df_comp = df.dtypes.value_counts().rename('df#1')\n",
    "df2_comp = df2.dtypes.value_counts().rename('df#2')\n",
    "df3_comp = df3.dtypes.value_counts().rename('df#3')\n",
    "df4_comp = df4.dtypes.value_counts().rename('df#4')\n",
    "df5_comp = df5.dtypes.value_counts().rename('df#5')\n",
    "df6_comp = df6.dtypes.value_counts().rename('df#6')\n",
    "\n",
    "\n",
    "\n",
    "dtype_comparison = pd.concat([df_comp, df2_comp, df3_comp, df4_comp, df5_comp, df6_comp], axis=1)\n",
    "\n",
    "\n",
    "\n",
    "dtype_comparison = dtype_comparison.fillna(0).astype(int)\n",
    "\n",
    "\n",
    "\n",
    "dtype_comparison\n"
   ]
  },
  {
   "cell_type": "code",
   "execution_count": 53,
   "metadata": {},
   "outputs": [
    {
     "name": "stderr",
     "output_type": "stream",
     "text": [
      "/var/folders/qx/yrwdfm5j0jz1gmhp0x2tvjy80000gn/T/ipykernel_2865/1525621324.py:23: FutureWarning: The frame.append method is deprecated and will be removed from pandas in a future version. Use pandas.concat instead.\n",
      "  shape_comparison = shape_comparison.append({\n"
     ]
    },
    {
     "data": {
      "text/html": [
       "<div>\n",
       "<style scoped>\n",
       "    .dataframe tbody tr th:only-of-type {\n",
       "        vertical-align: middle;\n",
       "    }\n",
       "\n",
       "    .dataframe tbody tr th {\n",
       "        vertical-align: top;\n",
       "    }\n",
       "\n",
       "    .dataframe thead th {\n",
       "        text-align: right;\n",
       "    }\n",
       "</style>\n",
       "<table border=\"1\" class=\"dataframe\">\n",
       "  <thead>\n",
       "    <tr style=\"text-align: right;\">\n",
       "      <th></th>\n",
       "      <th>DataFrame</th>\n",
       "      <th>Rows</th>\n",
       "      <th>Columns</th>\n",
       "    </tr>\n",
       "  </thead>\n",
       "  <tbody>\n",
       "    <tr>\n",
       "      <th>0</th>\n",
       "      <td>df</td>\n",
       "      <td>248218</td>\n",
       "      <td>58</td>\n",
       "    </tr>\n",
       "    <tr>\n",
       "      <th>1</th>\n",
       "      <td>df2</td>\n",
       "      <td>6338</td>\n",
       "      <td>4</td>\n",
       "    </tr>\n",
       "    <tr>\n",
       "      <th>2</th>\n",
       "      <td>df3</td>\n",
       "      <td>371663</td>\n",
       "      <td>23</td>\n",
       "    </tr>\n",
       "    <tr>\n",
       "      <th>3</th>\n",
       "      <td>df4</td>\n",
       "      <td>399</td>\n",
       "      <td>9</td>\n",
       "    </tr>\n",
       "    <tr>\n",
       "      <th>4</th>\n",
       "      <td>df5</td>\n",
       "      <td>112</td>\n",
       "      <td>4</td>\n",
       "    </tr>\n",
       "    <tr>\n",
       "      <th>5</th>\n",
       "      <td>df6</td>\n",
       "      <td>2020</td>\n",
       "      <td>16</td>\n",
       "    </tr>\n",
       "    <tr>\n",
       "      <th>6</th>\n",
       "      <td>Total</td>\n",
       "      <td>628750</td>\n",
       "      <td>114</td>\n",
       "    </tr>\n",
       "  </tbody>\n",
       "</table>\n",
       "</div>"
      ],
      "text/plain": [
       "  DataFrame    Rows  Columns\n",
       "0        df  248218       58\n",
       "1       df2    6338        4\n",
       "2       df3  371663       23\n",
       "3       df4     399        9\n",
       "4       df5     112        4\n",
       "5       df6    2020       16\n",
       "6     Total  628750      114"
      ]
     },
     "execution_count": 53,
     "metadata": {},
     "output_type": "execute_result"
    }
   ],
   "source": [
    "df_comp = df.shape\n",
    "df2_comp = df2.shape\n",
    "df3_comp = df3.shape\n",
    "df4_comp = df4.shape\n",
    "df5_comp = df5.shape\n",
    "df6_comp = df6.shape\n",
    "\n",
    "\n",
    "\n",
    "shape_comparison = pd.DataFrame({\n",
    "    'DataFrame': ['df', 'df2', 'df3', 'df4', 'df5', 'df6'],\n",
    "    'Rows': [df_comp[0], df2_comp[0], df3_comp[0], df4_comp[0], df5_comp[0], df6_comp[0]],\n",
    "    'Columns': [df_comp[1], df2_comp[1], df3_comp[1], df4_comp[1], df5_comp[1], df6_comp[1]]\n",
    "})\n",
    "\n",
    "\n",
    "total_rows = shape_comparison['Rows'].sum()\n",
    "total_columns = shape_comparison['Columns'].sum()\n",
    "\n",
    "\n",
    "\n",
    "\n",
    "shape_comparison = shape_comparison.append({\n",
    "    'DataFrame': 'Total',\n",
    "    'Rows': total_rows,\n",
    "    'Columns': total_columns\n",
    "}, ignore_index=True)\n",
    "\n",
    "\n",
    "\n",
    "shape_comparison"
   ]
  },
  {
   "cell_type": "code",
   "execution_count": null,
   "metadata": {},
   "outputs": [],
   "source": []
  },
  {
   "cell_type": "markdown",
   "metadata": {},
   "source": [
    "### Medicine Allergies\n",
    "\n",
    "\n",
    "1. https://www.fdbhealth.com/solutions/medknowledge-drug-database/integration-options\n",
    "\n",
    "2. https://healthcaregateway.co.uk/\n",
    "\n",
    "3. https://www.drugbank.com/clinical/drug_allergy"
   ]
  },
  {
   "cell_type": "markdown",
   "metadata": {},
   "source": [
    "### Herbal\n",
    "\n",
    "https://data.europa.eu/data/datasets/herbal-substances-that-are-designated-for-assessment-by-hmpc?locale=en"
   ]
  },
  {
   "cell_type": "markdown",
   "metadata": {},
   "source": []
  },
  {
   "cell_type": "code",
   "execution_count": 54,
   "metadata": {},
   "outputs": [],
   "source": [
    "# foodrug = pd.read_sql(con=\"/Users/raynasser/Downloads/DSproj/FinalFooDrugs_v4.sql\", )\n",
    "# foodrug"
   ]
  },
  {
   "cell_type": "code",
   "execution_count": 55,
   "metadata": {},
   "outputs": [],
   "source": [
    "# conn = psycopg2.connect(\n",
    "#     host=\"localhost\",\n",
    "#     database=\"/Users/raynasser/Downloads/DSproj/FinalFooDrugs_v4.sql\",\n",
    "\n",
    "# )"
   ]
  },
  {
   "cell_type": "code",
   "execution_count": 56,
   "metadata": {},
   "outputs": [
    {
     "name": "stderr",
     "output_type": "stream",
     "text": [
      "/Users/raynasser/.pyenv/versions/3.10.6/envs/lewagon/lib/python3.10/site-packages/pandas/io/sql.py:762: UserWarning: pandas only support SQLAlchemy connectable(engine/connection) ordatabase string URI or sqlite3 DBAPI2 connectionother DBAPI2 objects are not tested, please consider using SQLAlchemy\n",
      "  warnings.warn(\n"
     ]
    }
   ],
   "source": [
    "#pip install mysql-connector-python\n",
    "import mysql.connector as connection\n",
    "import pandas as pd\n",
    "\n",
    "mydb = connection.connect(host=\"localhost\", database = 'drugs',user=\"root\", passwd=\"tamamIste323\",use_pure=True)\n",
    "query = \"select * from texts;\"\n",
    "result_dataFrame = pd.read_sql(query,mydb)\n",
    "mydb.close() #close the connection"
   ]
  },
  {
   "cell_type": "code",
   "execution_count": 57,
   "metadata": {},
   "outputs": [],
   "source": [
    "# result_dataFrame.to_csv('/Users/raynasser/Downloads/DSproj/FooDru/texts.csv')"
   ]
  },
  {
   "cell_type": "code",
   "execution_count": 58,
   "metadata": {},
   "outputs": [],
   "source": [
    "# sqlpath = 'path.sql'\n",
    "# scriptFile = open(sqlpath,'r')\n",
    "# script = scriptFile.read()\n",
    "# df = pd.read_sql(script,prod_db)"
   ]
  },
  {
   "cell_type": "code",
   "execution_count": 59,
   "metadata": {},
   "outputs": [],
   "source": [
    "# from adbc_driver_postgresql import dbapi\n",
    "\n",
    "# with dbapi.connect('Users/raynasser/Downloads/DSproj/FinalFooDrugs_v4.sql') as conn:\n",
    "#     pd.read_sql('SELECT int_column FROM test_data', conn)"
   ]
  },
  {
   "cell_type": "code",
   "execution_count": 60,
   "metadata": {},
   "outputs": [
    {
     "name": "stderr",
     "output_type": "stream",
     "text": [
      "/var/folders/qx/yrwdfm5j0jz1gmhp0x2tvjy80000gn/T/ipykernel_2865/702505483.py:7: DtypeWarning: Columns (0) have mixed types. Specify dtype option on import or set low_memory=False.\n",
      "  df8 = pd.read_csv('/Users/raynasser/Downloads/DSproj/FooDru/TM_interactions.csv')\n"
     ]
    }
   ],
   "source": [
    "# pipe =\n",
    "\n",
    "\n",
    "df7 = pd.read_csv('/Users/raynasser/Downloads/DSproj/FooDru/sample.csv', index_col='Unnamed: 0')\n",
    "df7\n",
    "\n",
    "df8 = pd.read_csv('/Users/raynasser/Downloads/DSproj/FooDru/TM_interactions.csv')\n",
    "\n",
    "\n",
    "df9 = pd.read_csv('/Users/raynasser/Downloads/DSproj/FooDru/topTable.csv')\n"
   ]
  },
  {
   "cell_type": "code",
   "execution_count": 61,
   "metadata": {},
   "outputs": [
    {
     "data": {
      "text/plain": [
       "sample_id                                      33\n",
       "study_id                                        1\n",
       "treatment                                 control\n",
       "origin_type                             cell type\n",
       "origin_name      Normal prostate epithelial cells\n",
       "GSM                                       1185125\n",
       "time_point                                6 hours\n",
       "concentration                                   0\n",
       "Name: 33, dtype: object"
      ]
     },
     "execution_count": 61,
     "metadata": {},
     "output_type": "execute_result"
    }
   ],
   "source": [
    "df7.iloc[33]"
   ]
  },
  {
   "cell_type": "code",
   "execution_count": 62,
   "metadata": {},
   "outputs": [
    {
     "data": {
      "text/plain": [
       "Unnamed: 0                       33\n",
       "TM_interactions_ID             33.0\n",
       "texts_ID                       21.0\n",
       "start_index                   872.0\n",
       "end_index                    1140.0\n",
       "food                           salt\n",
       "drug                  ACE inhibitor\n",
       "Name: 33, dtype: object"
      ]
     },
     "execution_count": 62,
     "metadata": {},
     "output_type": "execute_result"
    }
   ],
   "source": [
    "df8.iloc[33]"
   ]
  },
  {
   "cell_type": "code",
   "execution_count": 63,
   "metadata": {},
   "outputs": [
    {
     "data": {
      "text/plain": [
       "55862"
      ]
     },
     "execution_count": 63,
     "metadata": {},
     "output_type": "execute_result"
    }
   ],
   "source": [
    "df8.food.nunique()"
   ]
  },
  {
   "cell_type": "code",
   "execution_count": 64,
   "metadata": {},
   "outputs": [
    {
     "data": {
      "text/plain": [
       "Identifier                                                         72\n",
       "FirstBlock                                             YQUVCSBJEUQKSH\n",
       "PubMed_Count                                                     1417\n",
       "Patent_Count                                                    32872\n",
       "Related_CIDs                                              72 54675866\n",
       "Synonym                                     3,4-DIHYDROXYBENZOIC ACID\n",
       "MolecularFormula                                               C7H6O4\n",
       "SMILES                                        C1=CC(=C(C=C1C(=O)O)O)O\n",
       "InChI               InChI=1S/C7H6O4/c8-5-2-1-4(7(10)11)3-6(5)9/h1-...\n",
       "InChIKey                                  YQUVCSBJEUQKSH-UHFFFAOYSA-N\n",
       "MonoisotopicMass                                           154.026609\n",
       "CompoundName                                3,4-dihydroxybenzoic acid\n",
       "AnnoTypeCount                                                       8\n",
       "AgroChemInfo                                                        0\n",
       "BioPathway                                                          6\n",
       "DrugMedicInfo                                                       2\n",
       "FoodRelated                                                         5\n",
       "PharmacoInfo                                                        5\n",
       "SafetyInfo                                                          2\n",
       "ToxicityInfo                                                        2\n",
       "KnownUse                                                            3\n",
       "DisorderDisease                                                     2\n",
       "Identification                                                      0\n",
       "Name: 33, dtype: object"
      ]
     },
     "execution_count": 64,
     "metadata": {},
     "output_type": "execute_result"
    }
   ],
   "source": [
    "df3.iloc[33]"
   ]
  },
  {
   "cell_type": "code",
   "execution_count": 65,
   "metadata": {},
   "outputs": [
    {
     "data": {
      "text/plain": [
       "id                                                       34\n",
       "name                                     axcer  90mg tablet\n",
       "substitute0                               Tikacad 90 Tablet\n",
       "substitute1                                  Brigrel Tablet\n",
       "substitute2                                Xygrel 90 Tablet\n",
       "substitute3                              Ticastro 90 Tablet\n",
       "substitute4                               Ticavic 90 Tablet\n",
       "sideEffect0                                        Bleeding\n",
       "sideEffect1                                  Breathlessness\n",
       "sideEffect2                                             NaN\n",
       "sideEffect3                                             NaN\n",
       "sideEffect4                                             NaN\n",
       "sideEffect5                                             NaN\n",
       "sideEffect6                                             NaN\n",
       "sideEffect7                                             NaN\n",
       "sideEffect8                                             NaN\n",
       "sideEffect9                                             NaN\n",
       "sideEffect10                                            NaN\n",
       "sideEffect11                                            NaN\n",
       "sideEffect12                                            NaN\n",
       "sideEffect13                                            NaN\n",
       "sideEffect14                                            NaN\n",
       "sideEffect15                                            NaN\n",
       "sideEffect16                                            NaN\n",
       "sideEffect17                                            NaN\n",
       "sideEffect18                                            NaN\n",
       "sideEffect19                                            NaN\n",
       "sideEffect20                                            NaN\n",
       "sideEffect21                                            NaN\n",
       "sideEffect22                                            NaN\n",
       "sideEffect23                                            NaN\n",
       "sideEffect24                                            NaN\n",
       "sideEffect25                                            NaN\n",
       "sideEffect26                                            NaN\n",
       "sideEffect27                                            NaN\n",
       "sideEffect28                                            NaN\n",
       "sideEffect29                                            NaN\n",
       "sideEffect30                                            NaN\n",
       "sideEffect31                                            NaN\n",
       "sideEffect32                                            NaN\n",
       "sideEffect33                                            NaN\n",
       "sideEffect34                                            NaN\n",
       "sideEffect35                                            NaN\n",
       "sideEffect36                                            NaN\n",
       "sideEffect37                                            NaN\n",
       "sideEffect38                                            NaN\n",
       "sideEffect39                                            NaN\n",
       "sideEffect40                                            NaN\n",
       "sideEffect41                                            NaN\n",
       "use0                  Prevention of heart attack and stroke\n",
       "use1                                                    NaN\n",
       "use2                                                    NaN\n",
       "use3                                                    NaN\n",
       "use4                                                    NaN\n",
       "Chemical Class                          Triazolopyrimidines\n",
       "Habit Forming                                            No\n",
       "Therapeutic Class                             BLOOD RELATED\n",
       "Action Class                P2Y12 inhibitors (ADP receptor)\n",
       "Name: 33, dtype: object"
      ]
     },
     "execution_count": 65,
     "metadata": {},
     "output_type": "execute_result"
    }
   ],
   "source": [
    "df.iloc[33]"
   ]
  },
  {
   "cell_type": "code",
   "execution_count": 66,
   "metadata": {},
   "outputs": [
    {
     "data": {
      "text/plain": [
       "Index(['sample_id', 'study_id', 'treatment', 'origin_type', 'origin_name',\n",
       "       'GSM', 'time_point', 'concentration'],\n",
       "      dtype='object')"
      ]
     },
     "execution_count": 66,
     "metadata": {},
     "output_type": "execute_result"
    }
   ],
   "source": [
    "df7.columns.unique()"
   ]
  },
  {
   "cell_type": "code",
   "execution_count": 67,
   "metadata": {},
   "outputs": [
    {
     "data": {
      "text/plain": [
       "136"
      ]
     },
     "execution_count": 67,
     "metadata": {},
     "output_type": "execute_result"
    }
   ],
   "source": [
    "df7.concentration.nunique()"
   ]
  },
  {
   "cell_type": "code",
   "execution_count": 68,
   "metadata": {},
   "outputs": [
    {
     "data": {
      "text/plain": [
       "array(['-', '0', '15 µM', nan,\n",
       "       'final concentration of total flavanones in the culture medium',\n",
       "       '5 µM\\xa0', '1 µM', '120 µg/mL', '3 g/day', '100 nM', '10 µM',\n",
       "       '10 pM', '1 nM', '0.1 µM + 1 µM ', '0.1 µM', '150 mg/day',\n",
       "       '700 nM', '100 ng/µl', '100 µM', '40 µM', '3 g', '1000 IU + 3g',\n",
       "       '1000 IU', '30 µM', '500 nM + 6 µM', '50 µM', '60 µM', '5.85µg/ml',\n",
       "       '2 µM', '83 µM', '34 µg/ml', '0.003 µM', '10 µg/ml',\n",
       "       '10 μg/ml + 10 ng/ml', '10 ng/ml', '7 µg/mL', '1.68 µg/mL',\n",
       "       '1.7 g DHA + 0.6 g EPA\\xa0', '30 mM + 15 mM',\n",
       "       '(100 ng/ml + 2 µg/ml anti-Flag M2 antibody) + 1/2 dilution',\n",
       "       '(100 ng/ml + 2 µg/ml anti-Flag M2 antibody) + 30 mM + 15 mM',\n",
       "       '1:11000 v/v', '1:800 v/v', '1:1100 v/v', '20 µM', '0.5 µg GAE',\n",
       "       '0.5 µg GAE + 300µM ', '0.5 µg GAE/mL', '300µM ', '24.55 µg/ml',\n",
       "       '128 µg/mL', '46 μg/ml', '4 g/day', '40 nM',\n",
       "       '40 nM + 1 µg/mL + 10 µg/mL', '1 µg/mL + 10 µg/mL',\n",
       "       '100 nM + 20 µg/ml\\xa0', '10 µg/ml\\xa0', '150 mM', '250 mM',\n",
       "       '25 µM', '40 g', '8 mg', '16 mg', '10 mM', '1 mM', '500 µg',\n",
       "       '10 μM', ' with anti-CD3/anti-CD28', 'one litre per day',\n",
       "       '100 µl of ~10^8 CFU/ml', '40 mM', '30 µg/ml', '12.5µµg/ml',\n",
       "       '3 µM', '300 µM', '0.03 µM', '80 µM', '500 µM', '0.01 µM',\n",
       "       '0.3 µM', '50 µg/ml', '20 ml/day', '1 µg/ml', '0.6 ng/kg i.v',\n",
       "       '3600 mg/day', '3600 mg/day + 0.6 ng/kg i.v',\n",
       "       'two ml of ~10^8 CFU/ml', '1 MOI', '100 MOI',\n",
       "       '100\\xa0000 IU per week', '2 µg/ml', '2.32 µg/ml', '2.56 µg/ml',\n",
       "       '600 nm of 0.9', '0.05%', '1 µg/mL', '50 µM + 1 µg/mL', '10^-8M',\n",
       "       '60µmL daily', '1 g/day', '10^-11M + 4 µg/ml + 4 µg/ml + 4 µg/ml',\n",
       "       '10^-11M', '4 µg/ml + 4 µg/ml + 4 µg/ml', '~109 CFU',\n",
       "       '2 ounces/ day', '100µnM', '51 mM', '10 µg per day',\n",
       "       '1000 IU per day', '10-8M', '100 mg/day', '4400 IU',\n",
       "       '1.5 cups of cooked dry bean', '100 µM per day', '70 µg/mL',\n",
       "       '30 µg/mL', '60 μg/mL', '100 μg/mL', '30 μg/mL', '10-7M', '3M',\n",
       "       '1M', '0.08%', '1.2 mM', '250uM', '200 microM', '60 microM',\n",
       "       '500 ug/ml', '1 μmol', '0.75 μmol', '0.5 μmol', '10 uM', '74 mM',\n",
       "       '50ng/ml', '1 uM', '0.1%'], dtype=object)"
      ]
     },
     "execution_count": 68,
     "metadata": {},
     "output_type": "execute_result"
    }
   ],
   "source": [
    "df7.origin_type.unique()\n",
    "# df7.origin_name.unique()\n",
    "\n",
    "df7.time_point.unique()\n",
    "df7.concentration.unique()\n"
   ]
  },
  {
   "cell_type": "code",
   "execution_count": 69,
   "metadata": {},
   "outputs": [
    {
     "data": {
      "text/plain": [
       "array(['Almonds, Wheat, Dairy', 'Chicken, Wheat, Celery', 'Dairy',\n",
       "       'Dairy, Anchovies', 'Dairy, Cocoa', 'Dairy, Eggs', 'Dairy, Fish',\n",
       "       'Dairy, Ghee', 'Dairy, Nuts', 'Dairy, Wheat', 'Eggs',\n",
       "       'Eggs, Dairy', 'Eggs, Mustard', 'Eggs, Soybeans', 'Fish',\n",
       "       'Fish, Coconut', 'Fish, Dairy', 'Fish, Eggs', 'Fish, Soybeans',\n",
       "       'Milk', 'Milk, Strawberries', 'None', 'Oats, Dairy', 'Peanuts',\n",
       "       'Pine nuts, Dairy', 'Rice, Dairy', 'Shellfish', 'Shellfish, Dairy',\n",
       "       'Shellfish, Eggs', 'Shellfish, Pork', 'Shellfish, Soybeans',\n",
       "       'Soybeans', 'Soybeans, Fish', 'Wheat', 'Wheat, Dairy',\n",
       "       'Wheat, Dairy, Alcohol', 'Wheat, Dairy, Cocoa',\n",
       "       'Wheat, Dairy, Eggs', 'Wheat, Dairy, Nuts', 'Wheat, Pork, Dairy'],\n",
       "      dtype=object)"
      ]
     },
     "execution_count": 69,
     "metadata": {},
     "output_type": "execute_result"
    }
   ],
   "source": [
    "df4.Allergens.unique()"
   ]
  },
  {
   "cell_type": "code",
   "execution_count": 70,
   "metadata": {},
   "outputs": [
    {
     "data": {
      "text/html": [
       "<div>\n",
       "<style scoped>\n",
       "    .dataframe tbody tr th:only-of-type {\n",
       "        vertical-align: middle;\n",
       "    }\n",
       "\n",
       "    .dataframe tbody tr th {\n",
       "        vertical-align: top;\n",
       "    }\n",
       "\n",
       "    .dataframe thead th {\n",
       "        text-align: right;\n",
       "    }\n",
       "</style>\n",
       "<table border=\"1\" class=\"dataframe\">\n",
       "  <thead>\n",
       "    <tr style=\"text-align: right;\">\n",
       "      <th></th>\n",
       "      <th>id</th>\n",
       "      <th>name</th>\n",
       "      <th>category</th>\n",
       "      <th>indication</th>\n",
       "    </tr>\n",
       "  </thead>\n",
       "  <tbody>\n",
       "    <tr>\n",
       "      <th>0</th>\n",
       "      <td>0</td>\n",
       "      <td>Antasida Doen Tablet Kunyah</td>\n",
       "      <td>stomach</td>\n",
       "      <td>gastric ulcer medicine to reduce gastric pain ...</td>\n",
       "    </tr>\n",
       "    <tr>\n",
       "      <th>1</th>\n",
       "      <td>1</td>\n",
       "      <td>Dexanta Tablet Kunyah</td>\n",
       "      <td>stomach</td>\n",
       "      <td>Reduces symptoms of excess gastric acid, gastr...</td>\n",
       "    </tr>\n",
       "    <tr>\n",
       "      <th>2</th>\n",
       "      <td>2</td>\n",
       "      <td>Esemag Cair</td>\n",
       "      <td>stomach</td>\n",
       "      <td>Helps relieve gastric disorders, such as nause...</td>\n",
       "    </tr>\n",
       "    <tr>\n",
       "      <th>3</th>\n",
       "      <td>3</td>\n",
       "      <td>Gastrucid Cair</td>\n",
       "      <td>stomach</td>\n",
       "      <td>Reduces symptoms of excess gastric acid, gastr...</td>\n",
       "    </tr>\n",
       "    <tr>\n",
       "      <th>4</th>\n",
       "      <td>4</td>\n",
       "      <td>Gastrucid Tablet Kunyah</td>\n",
       "      <td>stomach</td>\n",
       "      <td>Reduces symptoms of excess gastric acid, gastr...</td>\n",
       "    </tr>\n",
       "    <tr>\n",
       "      <th>...</th>\n",
       "      <td>...</td>\n",
       "      <td>...</td>\n",
       "      <td>...</td>\n",
       "      <td>...</td>\n",
       "    </tr>\n",
       "    <tr>\n",
       "      <th>107</th>\n",
       "      <td>107</td>\n",
       "      <td>Neozep Forte</td>\n",
       "      <td>flu</td>\n",
       "      <td>Relieve flu symptoms such as fever, headache, ...</td>\n",
       "    </tr>\n",
       "    <tr>\n",
       "      <th>108</th>\n",
       "      <td>108</td>\n",
       "      <td>Procold Flu</td>\n",
       "      <td>flu</td>\n",
       "      <td>To relieve flu symptoms such as sneezing, bloc...</td>\n",
       "    </tr>\n",
       "    <tr>\n",
       "      <th>109</th>\n",
       "      <td>109</td>\n",
       "      <td>Sanaflu</td>\n",
       "      <td>flu</td>\n",
       "      <td>Relieve flu symptoms such as fever, headache a...</td>\n",
       "    </tr>\n",
       "    <tr>\n",
       "      <th>110</th>\n",
       "      <td>110</td>\n",
       "      <td>Ultraflu</td>\n",
       "      <td>flu</td>\n",
       "      <td>Relieve flu symptoms such as fever, headache, ...</td>\n",
       "    </tr>\n",
       "    <tr>\n",
       "      <th>111</th>\n",
       "      <td>111</td>\n",
       "      <td>Nalgestan</td>\n",
       "      <td>have a cold</td>\n",
       "      <td>To relieve sneezing and nasal congestion due t...</td>\n",
       "    </tr>\n",
       "  </tbody>\n",
       "</table>\n",
       "<p>112 rows × 4 columns</p>\n",
       "</div>"
      ],
      "text/plain": [
       "      id                         name     category  \\\n",
       "0      0  Antasida Doen Tablet Kunyah      stomach   \n",
       "1      1        Dexanta Tablet Kunyah      stomach   \n",
       "2      2                  Esemag Cair      stomach   \n",
       "3      3               Gastrucid Cair      stomach   \n",
       "4      4      Gastrucid Tablet Kunyah      stomach   \n",
       "..   ...                          ...          ...   \n",
       "107  107                 Neozep Forte          flu   \n",
       "108  108                  Procold Flu          flu   \n",
       "109  109                      Sanaflu          flu   \n",
       "110  110                     Ultraflu          flu   \n",
       "111  111                    Nalgestan  have a cold   \n",
       "\n",
       "                                            indication  \n",
       "0    gastric ulcer medicine to reduce gastric pain ...  \n",
       "1    Reduces symptoms of excess gastric acid, gastr...  \n",
       "2    Helps relieve gastric disorders, such as nause...  \n",
       "3    Reduces symptoms of excess gastric acid, gastr...  \n",
       "4    Reduces symptoms of excess gastric acid, gastr...  \n",
       "..                                                 ...  \n",
       "107  Relieve flu symptoms such as fever, headache, ...  \n",
       "108  To relieve flu symptoms such as sneezing, bloc...  \n",
       "109  Relieve flu symptoms such as fever, headache a...  \n",
       "110  Relieve flu symptoms such as fever, headache, ...  \n",
       "111  To relieve sneezing and nasal congestion due t...  \n",
       "\n",
       "[112 rows x 4 columns]"
      ]
     },
     "execution_count": 70,
     "metadata": {},
     "output_type": "execute_result"
    }
   ],
   "source": [
    "df5"
   ]
  },
  {
   "cell_type": "code",
   "execution_count": 71,
   "metadata": {},
   "outputs": [
    {
     "data": {
      "text/plain": [
       "(4559, 8)"
      ]
     },
     "execution_count": 71,
     "metadata": {},
     "output_type": "execute_result"
    }
   ],
   "source": [
    "df7.shape"
   ]
  },
  {
   "cell_type": "code",
   "execution_count": 72,
   "metadata": {},
   "outputs": [
    {
     "data": {
      "text/html": [
       "<div>\n",
       "<style scoped>\n",
       "    .dataframe tbody tr th:only-of-type {\n",
       "        vertical-align: middle;\n",
       "    }\n",
       "\n",
       "    .dataframe tbody tr th {\n",
       "        vertical-align: top;\n",
       "    }\n",
       "\n",
       "    .dataframe thead th {\n",
       "        text-align: right;\n",
       "    }\n",
       "</style>\n",
       "<table border=\"1\" class=\"dataframe\">\n",
       "  <thead>\n",
       "    <tr style=\"text-align: right;\">\n",
       "      <th></th>\n",
       "      <th>sample_id</th>\n",
       "      <th>study_id</th>\n",
       "      <th>treatment</th>\n",
       "      <th>origin_type</th>\n",
       "      <th>origin_name</th>\n",
       "      <th>GSM</th>\n",
       "      <th>time_point</th>\n",
       "      <th>concentration</th>\n",
       "    </tr>\n",
       "  </thead>\n",
       "  <tbody>\n",
       "    <tr>\n",
       "      <th>0</th>\n",
       "      <td>0</td>\n",
       "      <td>0</td>\n",
       "      <td>cranberry extract</td>\n",
       "      <td>cell type</td>\n",
       "      <td>endothelial cells</td>\n",
       "      <td>129143</td>\n",
       "      <td>6 hours</td>\n",
       "      <td>-</td>\n",
       "    </tr>\n",
       "    <tr>\n",
       "      <th>1</th>\n",
       "      <td>1</td>\n",
       "      <td>0</td>\n",
       "      <td>grapeseed extract</td>\n",
       "      <td>cell type</td>\n",
       "      <td>endothelial cells</td>\n",
       "      <td>129152</td>\n",
       "      <td>6 hours</td>\n",
       "      <td>-</td>\n",
       "    </tr>\n",
       "    <tr>\n",
       "      <th>2</th>\n",
       "      <td>2</td>\n",
       "      <td>0</td>\n",
       "      <td>control</td>\n",
       "      <td>cell type</td>\n",
       "      <td>endothelial cells</td>\n",
       "      <td>129146</td>\n",
       "      <td>6 hours</td>\n",
       "      <td>-</td>\n",
       "    </tr>\n",
       "    <tr>\n",
       "      <th>3</th>\n",
       "      <td>3</td>\n",
       "      <td>0</td>\n",
       "      <td>red wine extract</td>\n",
       "      <td>cell type</td>\n",
       "      <td>endothelial cells</td>\n",
       "      <td>129149</td>\n",
       "      <td>6 hours</td>\n",
       "      <td>-</td>\n",
       "    </tr>\n",
       "    <tr>\n",
       "      <th>4</th>\n",
       "      <td>4</td>\n",
       "      <td>0</td>\n",
       "      <td>cranberry extract</td>\n",
       "      <td>cell type</td>\n",
       "      <td>endothelial cells</td>\n",
       "      <td>129147</td>\n",
       "      <td>6 hours</td>\n",
       "      <td>-</td>\n",
       "    </tr>\n",
       "    <tr>\n",
       "      <th>...</th>\n",
       "      <td>...</td>\n",
       "      <td>...</td>\n",
       "      <td>...</td>\n",
       "      <td>...</td>\n",
       "      <td>...</td>\n",
       "      <td>...</td>\n",
       "      <td>...</td>\n",
       "      <td>...</td>\n",
       "    </tr>\n",
       "    <tr>\n",
       "      <th>4554</th>\n",
       "      <td>7774</td>\n",
       "      <td>260</td>\n",
       "      <td>Control</td>\n",
       "      <td>cell line</td>\n",
       "      <td>HL-60</td>\n",
       "      <td>15637</td>\n",
       "      <td>-</td>\n",
       "      <td>-</td>\n",
       "    </tr>\n",
       "    <tr>\n",
       "      <th>4555</th>\n",
       "      <td>7775</td>\n",
       "      <td>260</td>\n",
       "      <td>Control</td>\n",
       "      <td>cell line</td>\n",
       "      <td>HL-60</td>\n",
       "      <td>15453</td>\n",
       "      <td>-</td>\n",
       "      <td>-</td>\n",
       "    </tr>\n",
       "    <tr>\n",
       "      <th>4556</th>\n",
       "      <td>7776</td>\n",
       "      <td>260</td>\n",
       "      <td>Control</td>\n",
       "      <td>cell line</td>\n",
       "      <td>HL-60</td>\n",
       "      <td>15634</td>\n",
       "      <td>-</td>\n",
       "      <td>-</td>\n",
       "    </tr>\n",
       "    <tr>\n",
       "      <th>4557</th>\n",
       "      <td>7777</td>\n",
       "      <td>260</td>\n",
       "      <td>Control</td>\n",
       "      <td>cell line</td>\n",
       "      <td>HL-60</td>\n",
       "      <td>15575</td>\n",
       "      <td>-</td>\n",
       "      <td>-</td>\n",
       "    </tr>\n",
       "    <tr>\n",
       "      <th>4558</th>\n",
       "      <td>7778</td>\n",
       "      <td>260</td>\n",
       "      <td>Control</td>\n",
       "      <td>cell line</td>\n",
       "      <td>HL-60</td>\n",
       "      <td>15446</td>\n",
       "      <td>-</td>\n",
       "      <td>-</td>\n",
       "    </tr>\n",
       "  </tbody>\n",
       "</table>\n",
       "<p>4559 rows × 8 columns</p>\n",
       "</div>"
      ],
      "text/plain": [
       "      sample_id  study_id          treatment origin_type        origin_name  \\\n",
       "0             0         0  cranberry extract   cell type  endothelial cells   \n",
       "1             1         0  grapeseed extract   cell type  endothelial cells   \n",
       "2             2         0            control   cell type  endothelial cells   \n",
       "3             3         0   red wine extract   cell type  endothelial cells   \n",
       "4             4         0  cranberry extract   cell type  endothelial cells   \n",
       "...         ...       ...                ...         ...                ...   \n",
       "4554       7774       260            Control   cell line              HL-60   \n",
       "4555       7775       260            Control   cell line              HL-60   \n",
       "4556       7776       260            Control   cell line              HL-60   \n",
       "4557       7777       260            Control   cell line              HL-60   \n",
       "4558       7778       260            Control   cell line              HL-60   \n",
       "\n",
       "         GSM time_point concentration  \n",
       "0     129143    6 hours             -  \n",
       "1     129152    6 hours             -  \n",
       "2     129146    6 hours             -  \n",
       "3     129149    6 hours             -  \n",
       "4     129147    6 hours             -  \n",
       "...      ...        ...           ...  \n",
       "4554   15637          -             -  \n",
       "4555   15453          -             -  \n",
       "4556   15634          -             -  \n",
       "4557   15575          -             -  \n",
       "4558   15446          -             -  \n",
       "\n",
       "[4559 rows x 8 columns]"
      ]
     },
     "execution_count": 72,
     "metadata": {},
     "output_type": "execute_result"
    }
   ],
   "source": [
    "df7"
   ]
  },
  {
   "cell_type": "code",
   "execution_count": 73,
   "metadata": {},
   "outputs": [
    {
     "data": {
      "text/plain": [
       "Index(['Unnamed: 0', 'entrez_Id', 'logFC', 'AveExpr', 'moderated_t', 'P_value',\n",
       "       'adjusted_P_value', 'B', 'node_id', 'geneSet', 'top150'],\n",
       "      dtype='object')"
      ]
     },
     "execution_count": 73,
     "metadata": {},
     "output_type": "execute_result"
    }
   ],
   "source": [
    "df9.columns.unique()"
   ]
  },
  {
   "cell_type": "code",
   "execution_count": 74,
   "metadata": {},
   "outputs": [
    {
     "data": {
      "text/plain": [
       "Unnamed: 0                33\n",
       "entrez_Id              10036\n",
       "logFC                3.95283\n",
       "AveExpr             -2.25039\n",
       "moderated_t          3.70526\n",
       "P_value             0.022834\n",
       "adjusted_P_value     0.64697\n",
       "B                   -4.58562\n",
       "node_id                  127\n",
       "geneSet                   UP\n",
       "top150                    UP\n",
       "Name: 33, dtype: object"
      ]
     },
     "execution_count": 74,
     "metadata": {},
     "output_type": "execute_result"
    }
   ],
   "source": [
    "df9.iloc[33]"
   ]
  },
  {
   "cell_type": "code",
   "execution_count": 75,
   "metadata": {},
   "outputs": [
    {
     "data": {
      "text/plain": [
       "55862"
      ]
     },
     "execution_count": 75,
     "metadata": {},
     "output_type": "execute_result"
    }
   ],
   "source": [
    "df8.food.nunique()"
   ]
  },
  {
   "cell_type": "code",
   "execution_count": 76,
   "metadata": {},
   "outputs": [
    {
     "data": {
      "text/plain": [
       "179449"
      ]
     },
     "execution_count": 76,
     "metadata": {},
     "output_type": "execute_result"
    }
   ],
   "source": [
    "df8.drug.nunique()"
   ]
  },
  {
   "cell_type": "code",
   "execution_count": 77,
   "metadata": {},
   "outputs": [
    {
     "data": {
      "text/plain": [
       "Index(['Unnamed: 0', 'TM_interactions_ID', 'texts_ID', 'start_index',\n",
       "       'end_index', 'food', 'drug'],\n",
       "      dtype='object')"
      ]
     },
     "execution_count": 77,
     "metadata": {},
     "output_type": "execute_result"
    }
   ],
   "source": [
    "df8.columns"
   ]
  },
  {
   "cell_type": "code",
   "execution_count": 78,
   "metadata": {},
   "outputs": [
    {
     "data": {
      "text/plain": [
       "Unnamed: 0                       33\n",
       "TM_interactions_ID             33.0\n",
       "texts_ID                       21.0\n",
       "start_index                   872.0\n",
       "end_index                    1140.0\n",
       "food                           salt\n",
       "drug                  ACE inhibitor\n",
       "Name: 33, dtype: object"
      ]
     },
     "execution_count": 78,
     "metadata": {},
     "output_type": "execute_result"
    }
   ],
   "source": [
    "df8.iloc[33]"
   ]
  },
  {
   "cell_type": "code",
   "execution_count": 79,
   "metadata": {},
   "outputs": [
    {
     "data": {
      "text/plain": [
       "Unnamed: 0                                                   75\n",
       "texts_ID                                                    115\n",
       "document      Major Food Interaction||GENERALLY AVOID:  Alco...\n",
       "link          https://www.drugs.com/food-interactions/acetam...\n",
       "citation                                                    NaN\n",
       "Name: 75, dtype: object"
      ]
     },
     "execution_count": 79,
     "metadata": {},
     "output_type": "execute_result"
    }
   ],
   "source": [
    "df10 = pd.read_csv('/Users/raynasser/Downloads/DSproj/FooDru/texts.csv')#, index_col='Unnamed: 0')\n",
    "\n",
    "\n",
    "# df10.iloc[10]\n",
    "\n",
    "df10.iloc[75]"
   ]
  },
  {
   "cell_type": "code",
   "execution_count": 80,
   "metadata": {},
   "outputs": [
    {
     "data": {
      "text/html": [
       "<div>\n",
       "<style scoped>\n",
       "    .dataframe tbody tr th:only-of-type {\n",
       "        vertical-align: middle;\n",
       "    }\n",
       "\n",
       "    .dataframe tbody tr th {\n",
       "        vertical-align: top;\n",
       "    }\n",
       "\n",
       "    .dataframe thead th {\n",
       "        text-align: right;\n",
       "    }\n",
       "</style>\n",
       "<table border=\"1\" class=\"dataframe\">\n",
       "  <thead>\n",
       "    <tr style=\"text-align: right;\">\n",
       "      <th></th>\n",
       "      <th>Unnamed: 0</th>\n",
       "      <th>TM_interactions_ID</th>\n",
       "      <th>texts_ID</th>\n",
       "      <th>start_index</th>\n",
       "      <th>end_index</th>\n",
       "      <th>food</th>\n",
       "      <th>drug</th>\n",
       "    </tr>\n",
       "  </thead>\n",
       "  <tbody>\n",
       "    <tr>\n",
       "      <th>31</th>\n",
       "      <td>31</td>\n",
       "      <td>31.0</td>\n",
       "      <td>21.0</td>\n",
       "      <td>393.0</td>\n",
       "      <td>601.0</td>\n",
       "      <td>salt</td>\n",
       "      <td>ACE inhibitor</td>\n",
       "    </tr>\n",
       "    <tr>\n",
       "      <th>33</th>\n",
       "      <td>33</td>\n",
       "      <td>33.0</td>\n",
       "      <td>21.0</td>\n",
       "      <td>872.0</td>\n",
       "      <td>1140.0</td>\n",
       "      <td>salt</td>\n",
       "      <td>ACE inhibitor</td>\n",
       "    </tr>\n",
       "  </tbody>\n",
       "</table>\n",
       "</div>"
      ],
      "text/plain": [
       "   Unnamed: 0  TM_interactions_ID  texts_ID  start_index  end_index  food  \\\n",
       "31         31                31.0      21.0        393.0      601.0  salt   \n",
       "33         33                33.0      21.0        872.0     1140.0  salt   \n",
       "\n",
       "             drug  \n",
       "31  ACE inhibitor  \n",
       "33  ACE inhibitor  "
      ]
     },
     "execution_count": 80,
     "metadata": {},
     "output_type": "execute_result"
    }
   ],
   "source": [
    "df8[(df8['food'] == 'salt') & (df8['drug'] == 'ACE inhibitor')]\n"
   ]
  },
  {
   "cell_type": "code",
   "execution_count": 81,
   "metadata": {},
   "outputs": [],
   "source": [
    "xml = pd.read_xml('/Users/raynasser/Desktop/faers_xml_2024q2/XML/3_ADR24Q2.xml')"
   ]
  },
  {
   "cell_type": "code",
   "execution_count": 82,
   "metadata": {},
   "outputs": [
    {
     "data": {
      "text/plain": [
       "array([ nan,   2.,   1.,   4.,  16.,   6.,  12.,   3.,   8.,   5.,  11.,\n",
       "        10.,  23.,  14.,  20.,   7.,   9.,  22.,  13.,  38.,  17.,  29.,\n",
       "        18.,  52.,  21.,  19.,  27.,  28.,  72.,  26.,  24.,  32.,  49.,\n",
       "        42.,  15.,  61.,  31.,  51.,  86.,  30.,  53.,  39.,  35.,  40.,\n",
       "        41.,  69.,  33.,  34.,  25.,  55.,  44.,  36.,  64.,  92.,  47.,\n",
       "        70.,  45.,  58.,  48.,  37.,  43.,  75.,  84.,  71.,  63.,  81.,\n",
       "        46.,  62.,  56.,  54.,  59.,  50.,  67.,  85., 122.,  83.,  68.,\n",
       "        90.])"
      ]
     },
     "execution_count": 82,
     "metadata": {},
     "output_type": "execute_result"
    }
   ],
   "source": [
    "xml.safetyreportversion.unique()"
   ]
  },
  {
   "cell_type": "code",
   "execution_count": 83,
   "metadata": {},
   "outputs": [
    {
     "data": {
      "text/plain": [
       "[                                           0  \\\n",
       " 0     April - June 2024posted on 30-Jul-2024   \n",
       " 1                      ASCII  (ZIP - 63.9MB)   \n",
       " 2  January - March 2024posted on 22-Apr-2024   \n",
       " 3                      ASCII  (ZIP - 63.1MB)   \n",
       " \n",
       "                                            1  \n",
       " 0  ASCII  (ZIP - 63.9MB)  XML  (ZIP - 126MB)  \n",
       " 1                         XML  (ZIP - 126MB)  \n",
       " 2  ASCII  (ZIP - 63.1MB)  XML  (ZIP - 128MB)  \n",
       " 3                         XML  (ZIP - 128MB)  ,\n",
       "                        0                   1\n",
       " 0  ASCII  (ZIP - 63.9MB)  XML  (ZIP - 126MB),\n",
       "                        0                   1\n",
       " 0  ASCII  (ZIP - 63.1MB)  XML  (ZIP - 128MB),\n",
       "                                               0  \\\n",
       " 0  October - December 2023posted on 23-Jan-2024   \n",
       " 1                         ASCII  (ZIP - 69.1MB)   \n",
       " 2     July - September 2023posted on 2-Nov-2023   \n",
       " 3                         ASCII  (ZIP - 60.1MB)   \n",
       " 4         April - June 2023posted on 1-Aug-2023   \n",
       " 5                         ASCII  (ZIP - 64.5MB)   \n",
       " 6     January - March 2023posted on 27-Apr-2023   \n",
       " 7                         ASCII  (ZIP - 64.3MB)   \n",
       " \n",
       "                                            1  \n",
       " 0  ASCII  (ZIP - 69.1MB)  XML  (ZIP - 140MB)  \n",
       " 1                         XML  (ZIP - 140MB)  \n",
       " 2  ASCII  (ZIP - 60.1MB)  XML  (ZIP - 123MB)  \n",
       " 3                         XML  (ZIP - 123MB)  \n",
       " 4  ASCII  (ZIP - 64.5MB)  XML  (ZIP - 130MB)  \n",
       " 5                         XML  (ZIP - 130MB)  \n",
       " 6  ASCII  (ZIP - 64.3MB)  XML  (ZIP - 133MB)  \n",
       " 7                         XML  (ZIP - 133MB)  ,\n",
       "                        0                   1\n",
       " 0  ASCII  (ZIP - 69.1MB)  XML  (ZIP - 140MB),\n",
       "                        0                   1\n",
       " 0  ASCII  (ZIP - 60.1MB)  XML  (ZIP - 123MB),\n",
       "                        0                   1\n",
       " 0  ASCII  (ZIP - 64.5MB)  XML  (ZIP - 130MB),\n",
       "                        0                   1\n",
       " 0  ASCII  (ZIP - 64.3MB)  XML  (ZIP - 133MB),\n",
       "                                               0  \\\n",
       " 0  October - December 2022posted on 30-Jan-2023   \n",
       " 1                           ASCII  (ZIP - 69MB)   \n",
       " 2     July - September 2022posted on 4-Nov-2022   \n",
       " 3                         ASCII  (ZIP - 63.2MB)   \n",
       " 4         April - June 2022posted on 2-Aug-2022   \n",
       " 5                           ASCII  (ZIP - 63MB)   \n",
       " 6      January - March 2022posted on 2-May-2022   \n",
       " 7                         ASCII  (ZIP - 64.7MB)   \n",
       " \n",
       "                                            1  \n",
       " 0    ASCII  (ZIP - 69MB)  XML  (ZIP - 144MB)  \n",
       " 1                         XML  (ZIP - 144MB)  \n",
       " 2  ASCII  (ZIP - 63.2MB)  XML  (ZIP - 132MB)  \n",
       " 3                         XML  (ZIP - 132MB)  \n",
       " 4    ASCII  (ZIP - 63MB)  XML  (ZIP - 140MB)  \n",
       " 5                         XML  (ZIP - 140MB)  \n",
       " 6  ASCII  (ZIP - 64.7MB)  XML  (ZIP - 136MB)  \n",
       " 7                         XML  (ZIP - 136MB)  ,\n",
       "                      0                   1\n",
       " 0  ASCII  (ZIP - 69MB)  XML  (ZIP - 144MB),\n",
       "                        0                   1\n",
       " 0  ASCII  (ZIP - 63.2MB)  XML  (ZIP - 132MB),\n",
       "                      0                   1\n",
       " 0  ASCII  (ZIP - 63MB)  XML  (ZIP - 140MB),\n",
       "                        0                   1\n",
       " 0  ASCII  (ZIP - 64.7MB)  XML  (ZIP - 136MB),\n",
       "                                              0  \\\n",
       " 0  October - December 2021posted on 9-Mar-2022   \n",
       " 1                          ASCII  (ZIP - 59MB)   \n",
       " 2    July - September 2021posted on 4-Nov-2021   \n",
       " 3                          ASCII  (ZIP - 70MB)   \n",
       " 4        April - June 2021posted on 3-Aug-2021   \n",
       " 5                          ASCII  (ZIP - 66MB)   \n",
       " 6    January - March 2021posted on 10-May-2021   \n",
       " 7                          ASCII  (ZIP - 69MB)   \n",
       " \n",
       "                                          1  \n",
       " 0  ASCII  (ZIP - 59MB)  XML  (ZIP - 123MB)  \n",
       " 1                       XML  (ZIP - 123MB)  \n",
       " 2  ASCII  (ZIP - 70MB)  XML  (ZIP - 132MB)  \n",
       " 3                       XML  (ZIP - 132MB)  \n",
       " 4  ASCII  (ZIP - 66MB)  XML  (ZIP - 123MB)  \n",
       " 5                       XML  (ZIP - 123MB)  \n",
       " 6  ASCII  (ZIP - 69MB)  XML  (ZIP - 130MB)  \n",
       " 7                       XML  (ZIP - 130MB)  ,\n",
       "                      0                   1\n",
       " 0  ASCII  (ZIP - 59MB)  XML  (ZIP - 123MB),\n",
       "                      0                   1\n",
       " 0  ASCII  (ZIP - 70MB)  XML  (ZIP - 132MB),\n",
       "                      0                   1\n",
       " 0  ASCII  (ZIP - 66MB)  XML  (ZIP - 123MB),\n",
       "                      0                   1\n",
       " 0  ASCII  (ZIP - 69MB)  XML  (ZIP - 130MB),\n",
       "                                               0  \\\n",
       " 0  October - December 2020posted on 29-Jan-2021   \n",
       " 1                           ASCII  (ZIP - 71MB)   \n",
       " 2    July - September 2020posted on 17-Nov-2020   \n",
       " 3                           ASCII  (ZIP - 64MB)   \n",
       " 4         April - June 2020posted on 4-Aug-2020   \n",
       " 5                           ASCII  (ZIP - 66MB)   \n",
       " 6     January - March 2020posted on 30-Apr-2020   \n",
       " 7                           ASCII  (ZIP - 65MB)   \n",
       " \n",
       "                                          1  \n",
       " 0  ASCII  (ZIP - 71MB)  XML  (ZIP - 131MB)  \n",
       " 1                       XML  (ZIP - 131MB)  \n",
       " 2  ASCII  (ZIP - 64MB)  XML  (ZIP - 121MB)  \n",
       " 3                       XML  (ZIP - 121MB)  \n",
       " 4  ASCII  (ZIP - 66MB)  XML  (ZIP - 123MB)  \n",
       " 5                       XML  (ZIP - 123MB)  \n",
       " 6  ASCII  (ZIP - 65MB)  XML  (ZIP - 125MB)  \n",
       " 7                       XML  (ZIP - 125MB)  ,\n",
       "                      0                   1\n",
       " 0  ASCII  (ZIP - 71MB)  XML  (ZIP - 131MB),\n",
       "                      0                   1\n",
       " 0  ASCII  (ZIP - 64MB)  XML  (ZIP - 121MB),\n",
       "                      0                   1\n",
       " 0  ASCII  (ZIP - 66MB)  XML  (ZIP - 123MB),\n",
       "                      0                   1\n",
       " 0  ASCII  (ZIP - 65MB)  XML  (ZIP - 125MB),\n",
       "                                              0  \\\n",
       " 0  October - December 2019posted on 5-Feb-2020   \n",
       " 1                          ASCII  (ZIP - 60MB)   \n",
       " 2    July - September 2019posted on 7-Nov-2019   \n",
       " 3                          ASCII  (ZIP - 62MB)   \n",
       " 4        April - June 2019posted on 1-Aug-2019   \n",
       " 5                          ASCII  (ZIP - 62MB)   \n",
       " 6     January - March 2019posted on 8-May-2019   \n",
       " 7                          ASCII  (ZIP - 56MB)   \n",
       " \n",
       "                                          1  \n",
       " 0  ASCII  (ZIP - 60MB)  XML  (ZIP - 113MB)  \n",
       " 1                       XML  (ZIP - 113MB)  \n",
       " 2  ASCII  (ZIP - 62MB)  XML  (ZIP - 118MB)  \n",
       " 3                       XML  (ZIP - 118MB)  \n",
       " 4  ASCII  (ZIP - 62MB)  XML  (ZIP - 118MB)  \n",
       " 5                       XML  (ZIP - 118MB)  \n",
       " 6  ASCII  (ZIP - 56MB)  XML  (ZIP - 103MB)  \n",
       " 7                       XML  (ZIP - 103MB)  ,\n",
       "                      0                   1\n",
       " 0  ASCII  (ZIP - 60MB)  XML  (ZIP - 113MB),\n",
       "                      0                   1\n",
       " 0  ASCII  (ZIP - 62MB)  XML  (ZIP - 118MB),\n",
       "                      0                   1\n",
       " 0  ASCII  (ZIP - 62MB)  XML  (ZIP - 118MB),\n",
       "                      0                   1\n",
       " 0  ASCII  (ZIP - 56MB)  XML  (ZIP - 103MB),\n",
       "                          0                                        1\n",
       " 0  October - December 2018  ASCII  (ZIP - 60MB)  XML  (ZIP - 112MB)\n",
       " 1      ASCII  (ZIP - 60MB)                       XML  (ZIP - 112MB)\n",
       " 2    July - September 2018  ASCII  (ZIP - 60MB)  XML  (ZIP - 112MB)\n",
       " 3      ASCII  (ZIP - 60MB)                       XML  (ZIP - 112MB)\n",
       " 4        April - June 2018  ASCII  (ZIP - 60MB)  XML  (ZIP - 112MB)\n",
       " 5      ASCII  (ZIP - 60MB)                       XML  (ZIP - 112MB)\n",
       " 6     January - March 2018   ASCII  (ZIP - 52MB)  XML  (ZIP - 94MB)\n",
       " 7      ASCII  (ZIP - 52MB)                        XML  (ZIP - 94MB),\n",
       "                      0                   1\n",
       " 0  ASCII  (ZIP - 60MB)  XML  (ZIP - 112MB),\n",
       "                      0                   1\n",
       " 0  ASCII  (ZIP - 60MB)  XML  (ZIP - 112MB),\n",
       "                      0                   1\n",
       " 0  ASCII  (ZIP - 60MB)  XML  (ZIP - 112MB),\n",
       "                      0                  1\n",
       " 0  ASCII  (ZIP - 52MB)  XML  (ZIP - 94MB),\n",
       "                          0                                       1\n",
       " 0  October - December 2017  ASCII  (ZIP - 41MB)  XML  (ZIP - 76MB)\n",
       " 1      ASCII  (ZIP - 41MB)                       XML  (ZIP - 76MB)\n",
       " 2    July - September 2017  ASCII  (ZIP - 48MB)  XML  (ZIP - 91MB)\n",
       " 3      ASCII  (ZIP - 48MB)                       XML  (ZIP - 91MB)\n",
       " 4        April - June 2017  ASCII  (ZIP - 46MB)  XML  (ZIP - 86MB)\n",
       " 5      ASCII  (ZIP - 46MB)                       XML  (ZIP - 86MB)\n",
       " 6     January - March 2017  ASCII  (ZIP - 48MB)  XML  (ZIP - 91MB)\n",
       " 7      ASCII  (ZIP - 48MB)                       XML  (ZIP - 91MB),\n",
       "                      0                  1\n",
       " 0  ASCII  (ZIP - 41MB)  XML  (ZIP - 76MB),\n",
       "                      0                  1\n",
       " 0  ASCII  (ZIP - 48MB)  XML  (ZIP - 91MB),\n",
       "                      0                  1\n",
       " 0  ASCII  (ZIP - 46MB)  XML  (ZIP - 86MB),\n",
       "                      0                  1\n",
       " 0  ASCII  (ZIP - 48MB)  XML  (ZIP - 91MB),\n",
       "                          0                                       1\n",
       " 0  October - December 2016  ASCII  (ZIP - 44MB)  XML  (ZIP - 82MB)\n",
       " 1      ASCII  (ZIP - 44MB)                       XML  (ZIP - 82MB)\n",
       " 2    July - September 2016  ASCII  (ZIP - 46MB)  XML  (ZIP - 87MB)\n",
       " 3      ASCII  (ZIP - 46MB)                       XML  (ZIP - 87MB)\n",
       " 4        April - June 2016  ASCII  (ZIP - 44MB)  XML  (ZIP - 81MB)\n",
       " 5      ASCII  (ZIP - 44MB)                       XML  (ZIP - 81MB)\n",
       " 6     January - March 2016  ASCII  (ZIP - 46MB)  XML  (ZIP - 84MB)\n",
       " 7      ASCII  (ZIP - 46MB)                       XML  (ZIP - 84MB),\n",
       "                      0                  1\n",
       " 0  ASCII  (ZIP - 44MB)  XML  (ZIP - 82MB),\n",
       "                      0                  1\n",
       " 0  ASCII  (ZIP - 46MB)  XML  (ZIP - 87MB),\n",
       "                      0                  1\n",
       " 0  ASCII  (ZIP - 44MB)  XML  (ZIP - 81MB),\n",
       "                      0                  1\n",
       " 0  ASCII  (ZIP - 46MB)  XML  (ZIP - 84MB),\n",
       "                          0                                       1\n",
       " 0  October - December 2015  ASCII  (ZIP - 42MB)  XML  (ZIP - 77MB)\n",
       " 1      ASCII  (ZIP - 42MB)                       XML  (ZIP - 77MB)\n",
       " 2    July - September 2015  ASCII  (ZIP - 47MB)  XML  (ZIP - 88MB)\n",
       " 3      ASCII  (ZIP - 47MB)                       XML  (ZIP - 88MB)\n",
       " 4        April - June 2015  ASCII  (ZIP - 38MB)  XML  (ZIP - 70MB)\n",
       " 5      ASCII  (ZIP - 38MB)                       XML  (ZIP - 70MB)\n",
       " 6     January - March 2015  ASCII  (ZIP - 39MB)  XML  (ZIP - 72MB)\n",
       " 7      ASCII  (ZIP - 39MB)                       XML  (ZIP - 72MB),\n",
       "                      0                  1\n",
       " 0  ASCII  (ZIP - 42MB)  XML  (ZIP - 77MB),\n",
       "                      0                  1\n",
       " 0  ASCII  (ZIP - 47MB)  XML  (ZIP - 88MB),\n",
       "                      0                  1\n",
       " 0  ASCII  (ZIP - 38MB)  XML  (ZIP - 70MB),\n",
       "                      0                  1\n",
       " 0  ASCII  (ZIP - 39MB)  XML  (ZIP - 72MB),\n",
       "                          0                                       1\n",
       " 0  October - December 2014  ASCII  (ZIP - 28MB)  XML  (ZIP - 53MB)\n",
       " 1      ASCII  (ZIP - 28MB)                       XML  (ZIP - 53MB)\n",
       " 2    July - September 2014  ASCII  (ZIP - 28MB)  XML  (ZIP - 54MB)\n",
       " 3      ASCII  (ZIP - 28MB)                       XML  (ZIP - 54MB)\n",
       " 4        April - June 2014  ASCII  (ZIP - 25MB)  XML  (ZIP - 44MB)\n",
       " 5      ASCII  (ZIP - 25MB)                       XML  (ZIP - 44MB)\n",
       " 6     January - March 2014  ASCII  (ZIP - 30MB)  XML  (ZIP - 52MB)\n",
       " 7      ASCII  (ZIP - 30MB)                       XML  (ZIP - 52MB),\n",
       "                      0                  1\n",
       " 0  ASCII  (ZIP - 28MB)  XML  (ZIP - 53MB),\n",
       "                      0                  1\n",
       " 0  ASCII  (ZIP - 28MB)  XML  (ZIP - 54MB),\n",
       "                      0                  1\n",
       " 0  ASCII  (ZIP - 25MB)  XML  (ZIP - 44MB),\n",
       "                      0                  1\n",
       " 0  ASCII  (ZIP - 30MB)  XML  (ZIP - 52MB),\n",
       "                          0                                       1\n",
       " 0  October - December 2013  ASCII  (ZIP - 26MB)  XML  (ZIP - 46MB)\n",
       " 1      ASCII  (ZIP - 26MB)                       XML  (ZIP - 46MB)\n",
       " 2    July - September 2013  ASCII  (ZIP - 22MB)  XML  (ZIP - 40MB)\n",
       " 3      ASCII  (ZIP - 22MB)                       XML  (ZIP - 40MB)\n",
       " 4        April - June 2013  ASCII  (ZIP - 21MB)  XML  (ZIP - 38MB)\n",
       " 5      ASCII  (ZIP - 21MB)                       XML  (ZIP - 38MB)\n",
       " 6     January - March 2013  ASCII  (ZIP - 25MB)  XML  (ZIP - 44MB)\n",
       " 7      ASCII  (ZIP - 25MB)                       XML  (ZIP - 44MB),\n",
       "                      0                  1\n",
       " 0  ASCII  (ZIP - 26MB)  XML  (ZIP - 46MB),\n",
       "                      0                  1\n",
       " 0  ASCII  (ZIP - 22MB)  XML  (ZIP - 40MB),\n",
       "                      0                  1\n",
       " 0  ASCII  (ZIP - 21MB)  XML  (ZIP - 38MB),\n",
       "                      0                  1\n",
       " 0  ASCII  (ZIP - 25MB)  XML  (ZIP - 44MB),\n",
       "                          0                                       1\n",
       " 0  October - December 2012  ASCII  (ZIP - 28MB)  XML  (ZIP - 50MB)\n",
       " 1      ASCII  (ZIP - 28MB)                       XML  (ZIP - 50MB),\n",
       "                      0                  1\n",
       " 0  ASCII  (ZIP - 28MB)  XML  (ZIP - 50MB),\n",
       "                        0                                       1\n",
       " 0  July - September 2012  ASCII  (ZIP - 16MB)  XML  (ZIP - 21MB)\n",
       " 1    ASCII  (ZIP - 16MB)                       XML  (ZIP - 21MB)\n",
       " 2      April - June 2012  ASCII  (ZIP - 25MB)  XML  (ZIP - 32MB)\n",
       " 3    ASCII  (ZIP - 25MB)                       XML  (ZIP - 32MB)\n",
       " 4   January - March 2012  ASCII  (ZIP - 26MB)  XML  (ZIP - 33MB)\n",
       " 5    ASCII  (ZIP - 26MB)                       XML  (ZIP - 33MB),\n",
       "                      0                  1\n",
       " 0  ASCII  (ZIP - 16MB)  XML  (ZIP - 21MB),\n",
       "                      0                  1\n",
       " 0  ASCII  (ZIP - 25MB)  XML  (ZIP - 32MB),\n",
       "                      0                  1\n",
       " 0  ASCII  (ZIP - 26MB)  XML  (ZIP - 33MB),\n",
       "                          0                                       1\n",
       " 0  October - December 2011  ASCII  (ZIP - 23MB)  XML  (ZIP - 29MB)\n",
       " 1      ASCII  (ZIP - 23MB)                       XML  (ZIP - 29MB)\n",
       " 2    July - September 2011  ASCII  (ZIP - 23MB)  XML  (ZIP - 29MB)\n",
       " 3      ASCII  (ZIP - 23MB)                       XML  (ZIP - 29MB)\n",
       " 4        April - June 2011  ASCII  (ZIP - 23MB)  XML  (ZIP - 29MB)\n",
       " 5      ASCII  (ZIP - 23MB)                       XML  (ZIP - 29MB)\n",
       " 6     January - March 2011  ASCII  (ZIP - 21MB)  XML  (ZIP - 26MB)\n",
       " 7      ASCII  (ZIP - 21MB)                       XML  (ZIP - 26MB),\n",
       "                      0                  1\n",
       " 0  ASCII  (ZIP - 23MB)  XML  (ZIP - 29MB),\n",
       "                      0                  1\n",
       " 0  ASCII  (ZIP - 23MB)  XML  (ZIP - 29MB),\n",
       "                      0                  1\n",
       " 0  ASCII  (ZIP - 23MB)  XML  (ZIP - 29MB),\n",
       "                      0                  1\n",
       " 0  ASCII  (ZIP - 21MB)  XML  (ZIP - 26MB),\n",
       "                          0                                       1\n",
       " 0  October - December 2010  ASCII  (ZIP - 20MB)  XML  (ZIP - 25MB)\n",
       " 1      ASCII  (ZIP - 20MB)                       XML  (ZIP - 25MB)\n",
       " 2    July - September 2010  ASCII  (ZIP - 22MB)  XML  (ZIP - 28MB)\n",
       " 3      ASCII  (ZIP - 22MB)                       XML  (ZIP - 28MB)\n",
       " 4        April - June 2010  ASCII  (ZIP - 17MB)  XML  (ZIP - 22MB)\n",
       " 5      ASCII  (ZIP - 17MB)                       XML  (ZIP - 22MB)\n",
       " 6     January - March 2010  ASCII  (ZIP - 16MB)  XML  (ZIP - 20MB)\n",
       " 7      ASCII  (ZIP - 16MB)                       XML  (ZIP - 20MB),\n",
       "                      0                  1\n",
       " 0  ASCII  (ZIP - 20MB)  XML  (ZIP - 25MB),\n",
       "                      0                  1\n",
       " 0  ASCII  (ZIP - 22MB)  XML  (ZIP - 28MB),\n",
       "                      0                  1\n",
       " 0  ASCII  (ZIP - 17MB)  XML  (ZIP - 22MB),\n",
       "                      0                  1\n",
       " 0  ASCII  (ZIP - 16MB)  XML  (ZIP - 20MB),\n",
       "                          0                                       1\n",
       " 0  October - December 2009  ASCII  (ZIP - 16MB)  XML  (ZIP - 20MB)\n",
       " 1      ASCII  (ZIP - 16MB)                       XML  (ZIP - 20MB)\n",
       " 2    July - September 2009  ASCII  (ZIP - 16MB)  XML  (ZIP - 19MB)\n",
       " 3      ASCII  (ZIP - 16MB)                       XML  (ZIP - 19MB)\n",
       " 4        April - June 2009  ASCII  (ZIP - 14MB)  XML  (ZIP - 18MB)\n",
       " 5      ASCII  (ZIP - 14MB)                       XML  (ZIP - 18MB)\n",
       " 6     January - March 2009  ASCII  (ZIP - 13MB)  XML  (ZIP - 16MB)\n",
       " 7      ASCII  (ZIP - 13MB)                       XML  (ZIP - 16MB),\n",
       "                      0                  1\n",
       " 0  ASCII  (ZIP - 16MB)  XML  (ZIP - 20MB),\n",
       "                      0                  1\n",
       " 0  ASCII  (ZIP - 16MB)  XML  (ZIP - 19MB),\n",
       "                      0                  1\n",
       " 0  ASCII  (ZIP - 14MB)  XML  (ZIP - 18MB),\n",
       "                      0                  1\n",
       " 0  ASCII  (ZIP - 13MB)  XML  (ZIP - 16MB),\n",
       "                          0                                       1\n",
       " 0  October - December 2008  ASCII  (ZIP - 13MB)  XML  (ZIP - 16MB)\n",
       " 1      ASCII  (ZIP - 13MB)                       XML  (ZIP - 16MB)\n",
       " 2    July - September 2008  ASCII  (ZIP - 13MB)  XML  (ZIP - 16MB)\n",
       " 3      ASCII  (ZIP - 13MB)                       XML  (ZIP - 16MB)\n",
       " 4        April - June 2008  ASCII  (ZIP - 12MB)  XML  (ZIP - 16MB)\n",
       " 5      ASCII  (ZIP - 12MB)                       XML  (ZIP - 16MB)\n",
       " 6     January - March 2008  ASCII  (ZIP - 12MB)  XML  (ZIP - 15MB)\n",
       " 7      ASCII  (ZIP - 12MB)                       XML  (ZIP - 15MB),\n",
       "                      0                  1\n",
       " 0  ASCII  (ZIP - 13MB)  XML  (ZIP - 16MB),\n",
       "                      0                  1\n",
       " 0  ASCII  (ZIP - 13MB)  XML  (ZIP - 16MB),\n",
       "                      0                  1\n",
       " 0  ASCII  (ZIP - 12MB)  XML  (ZIP - 16MB),\n",
       "                      0                  1\n",
       " 0  ASCII  (ZIP - 12MB)  XML  (ZIP - 15MB),\n",
       "                          0                                        1\n",
       " 0  October - December 2007   ASCII  (ZIP - 12MB)  XML  (ZIP - 14MB)\n",
       " 1      ASCII  (ZIP - 12MB)                        XML  (ZIP - 14MB)\n",
       " 2    July - September 2007  ASCII  (ZIP - 9.9MB)  XML  (ZIP - 13MB)\n",
       " 3     ASCII  (ZIP - 9.9MB)                        XML  (ZIP - 13MB)\n",
       " 4        April - June 2007  ASCII  (ZIP - 9.5MB)  XML  (ZIP - 12MB)\n",
       " 5     ASCII  (ZIP - 9.5MB)                        XML  (ZIP - 12MB)\n",
       " 6     January - March 2007  ASCII  (ZIP - 9.6MB)  XML  (ZIP - 12MB)\n",
       " 7     ASCII  (ZIP - 9.6MB)                        XML  (ZIP - 12MB),\n",
       "                      0                  1\n",
       " 0  ASCII  (ZIP - 12MB)  XML  (ZIP - 14MB),\n",
       "                       0                  1\n",
       " 0  ASCII  (ZIP - 9.9MB)  XML  (ZIP - 13MB),\n",
       "                       0                  1\n",
       " 0  ASCII  (ZIP - 9.5MB)  XML  (ZIP - 12MB),\n",
       "                       0                  1\n",
       " 0  ASCII  (ZIP - 9.6MB)  XML  (ZIP - 12MB),\n",
       "                          0                                        1\n",
       " 0  October - December 2006  ASCII  (ZIP - 9.1MB)  XML  (ZIP - 12MB)\n",
       " 1     ASCII  (ZIP - 9.1MB)                        XML  (ZIP - 12MB)\n",
       " 2    July - September 2006  ASCII  (ZIP - 8.5MB)  XML  (ZIP - 11MB)\n",
       " 3     ASCII  (ZIP - 8.5MB)                        XML  (ZIP - 11MB)\n",
       " 4        April - June 2006  ASCII  (ZIP - 9.7MB)  XML  (ZIP - 13MB)\n",
       " 5     ASCII  (ZIP - 9.7MB)                        XML  (ZIP - 13MB)\n",
       " 6     January - March 2006   ASCII  (ZIP - 11MB)  XML  (ZIP - 13MB)\n",
       " 7      ASCII  (ZIP - 11MB)                        XML  (ZIP - 13MB),\n",
       "                       0                  1\n",
       " 0  ASCII  (ZIP - 9.1MB)  XML  (ZIP - 12MB),\n",
       "                       0                  1\n",
       " 0  ASCII  (ZIP - 8.5MB)  XML  (ZIP - 11MB),\n",
       "                       0                  1\n",
       " 0  ASCII  (ZIP - 9.7MB)  XML  (ZIP - 13MB),\n",
       "                      0                  1\n",
       " 0  ASCII  (ZIP - 11MB)  XML  (ZIP - 13MB),\n",
       "                          0                                        1\n",
       " 0  October - December 2005  ASCII  (ZIP - 9.7MB)  XML  (ZIP - 12MB)\n",
       " 1     ASCII  (ZIP - 9.7MB)                        XML  (ZIP - 12MB)\n",
       " 2    July - September 2005  ASCII  (ZIP - 9.3MB)  XML  (ZIP - 12MB)\n",
       " 3     ASCII  (ZIP - 9.3MB)                        XML  (ZIP - 12MB)\n",
       " 4        April - June 2005  ASCII  (ZIP - 9.5MB)  XML  (ZIP - 12MB)\n",
       " 5     ASCII  (ZIP - 9.5MB)                        XML  (ZIP - 12MB)\n",
       " 6     January - March 2005  ASCII  (ZIP - 8.5MB)  XML  (ZIP - 11MB)\n",
       " 7     ASCII  (ZIP - 8.5MB)                        XML  (ZIP - 11MB),\n",
       "                       0                  1\n",
       " 0  ASCII  (ZIP - 9.7MB)  XML  (ZIP - 12MB),\n",
       "                       0                  1\n",
       " 0  ASCII  (ZIP - 9.3MB)  XML  (ZIP - 12MB),\n",
       "                       0                  1\n",
       " 0  ASCII  (ZIP - 9.5MB)  XML  (ZIP - 12MB),\n",
       "                       0                  1\n",
       " 0  ASCII  (ZIP - 8.5MB)  XML  (ZIP - 11MB),\n",
       "                          0                                         1\n",
       " 0  October - December 2004  ASCII  (ZIP - 8.1MB)  XML  (ZIP - 9.8MB)\n",
       " 1     ASCII  (ZIP - 8.1MB)                        XML  (ZIP - 9.8MB)\n",
       " 2    July - September 2004  ASCII  (ZIP - 8.2MB)  XML  (ZIP - 9.7MB)\n",
       " 3     ASCII  (ZIP - 8.2MB)                        XML  (ZIP - 9.7MB)\n",
       " 4        April - June 2004  ASCII  (ZIP - 7.1MB)  XML  (ZIP - 8.6MB)\n",
       " 5     ASCII  (ZIP - 7.1MB)                        XML  (ZIP - 8.6MB)\n",
       " 6     January - March 2004  ASCII  (ZIP - 7.3MB)  XML  (ZIP - 8.8MB)\n",
       " 7     ASCII  (ZIP - 7.3MB)                        XML  (ZIP - 8.8MB),\n",
       "                       0                   1\n",
       " 0  ASCII  (ZIP - 8.1MB)  XML  (ZIP - 9.8MB),\n",
       "                       0                   1\n",
       " 0  ASCII  (ZIP - 8.2MB)  XML  (ZIP - 9.7MB),\n",
       "                       0                   1\n",
       " 0  ASCII  (ZIP - 7.1MB)  XML  (ZIP - 8.6MB),\n",
       "                       0                   1\n",
       " 0  ASCII  (ZIP - 7.3MB)  XML  (ZIP - 8.8MB)]"
      ]
     },
     "execution_count": 83,
     "metadata": {},
     "output_type": "execute_result"
    }
   ],
   "source": [
    "pd.read_html('https://fis.fda.gov/extensions/FPD-QDE-FAERS/FPD-QDE-FAERS.html')"
   ]
  },
  {
   "cell_type": "code",
   "execution_count": 84,
   "metadata": {},
   "outputs": [
    {
     "name": "stderr",
     "output_type": "stream",
     "text": [
      "/var/folders/qx/yrwdfm5j0jz1gmhp0x2tvjy80000gn/T/ipykernel_2865/491831245.py:1: ParserWarning: Falling back to the 'python' engine because the 'c' engine does not support regex separators (separators > 1 char and different from '\\s+' are interpreted as regex); you can avoid this warning by specifying engine='python'.\n",
      "  df11 = pd.read_csv('/Users/raynasser/Desktop/open structures.csv',\n"
     ]
    },
    {
     "data": {
      "text/html": [
       "<div>\n",
       "<style scoped>\n",
       "    .dataframe tbody tr th:only-of-type {\n",
       "        vertical-align: middle;\n",
       "    }\n",
       "\n",
       "    .dataframe tbody tr th {\n",
       "        vertical-align: top;\n",
       "    }\n",
       "\n",
       "    .dataframe thead th {\n",
       "        text-align: right;\n",
       "    }\n",
       "</style>\n",
       "<table border=\"1\" class=\"dataframe\">\n",
       "  <thead>\n",
       "    <tr style=\"text-align: right;\">\n",
       "      <th></th>\n",
       "      <th></th>\n",
       "      <th></th>\n",
       "      <th></th>\n",
       "      <th></th>\n",
       "      <th></th>\n",
       "      <th></th>\n",
       "      <th></th>\n",
       "      <th></th>\n",
       "      <th></th>\n",
       "      <th>Mrv1909 04022122312D</th>\n",
       "    </tr>\n",
       "  </thead>\n",
       "  <tbody>\n",
       "    <tr>\n",
       "      <th>155160</th>\n",
       "      <th>0</th>\n",
       "      <th>0</th>\n",
       "      <th>1</th>\n",
       "      <th>0</th>\n",
       "      <th>NaN</th>\n",
       "      <th>NaN</th>\n",
       "      <th>NaN</th>\n",
       "      <th>NaN</th>\n",
       "      <th>NaN</th>\n",
       "      <td>999 V2000</td>\n",
       "    </tr>\n",
       "    <tr>\n",
       "      <th>2</th>\n",
       "      <th>1</th>\n",
       "      <th>1</th>\n",
       "      <th>0</th>\n",
       "      <th>0</th>\n",
       "      <th>0</th>\n",
       "      <th>0</th>\n",
       "      <th>NaN</th>\n",
       "      <th>NaN</th>\n",
       "      <th>NaN</th>\n",
       "      <td>None</td>\n",
       "    </tr>\n",
       "    <tr>\n",
       "      <th>3</th>\n",
       "      <th>1</th>\n",
       "      <th>2</th>\n",
       "      <th>0</th>\n",
       "      <th>0</th>\n",
       "      <th>0</th>\n",
       "      <th>0</th>\n",
       "      <th>NaN</th>\n",
       "      <th>NaN</th>\n",
       "      <th>NaN</th>\n",
       "      <td>None</td>\n",
       "    </tr>\n",
       "    <tr>\n",
       "      <th>9</th>\n",
       "      <th>1</th>\n",
       "      <th>1</th>\n",
       "      <th>0</th>\n",
       "      <th>0</th>\n",
       "      <th>0</th>\n",
       "      <th>0</th>\n",
       "      <th>NaN</th>\n",
       "      <th>NaN</th>\n",
       "      <th>NaN</th>\n",
       "      <td>None</td>\n",
       "    </tr>\n",
       "    <tr>\n",
       "      <th>4</th>\n",
       "      <th>2</th>\n",
       "      <th>1</th>\n",
       "      <th>0</th>\n",
       "      <th>0</th>\n",
       "      <th>0</th>\n",
       "      <th>0</th>\n",
       "      <th>NaN</th>\n",
       "      <th>NaN</th>\n",
       "      <th>NaN</th>\n",
       "      <td>None</td>\n",
       "    </tr>\n",
       "    <tr>\n",
       "      <th>...</th>\n",
       "      <th>...</th>\n",
       "      <th>...</th>\n",
       "      <th>...</th>\n",
       "      <th>...</th>\n",
       "      <th>...</th>\n",
       "      <th>...</th>\n",
       "      <th>...</th>\n",
       "      <th>...</th>\n",
       "      <th>...</th>\n",
       "      <td>...</td>\n",
       "    </tr>\n",
       "    <tr>\n",
       "      <th>&gt; &lt;UNII&gt;</th>\n",
       "      <th>NaN</th>\n",
       "      <th>NaN</th>\n",
       "      <th>NaN</th>\n",
       "      <th>NaN</th>\n",
       "      <th>NaN</th>\n",
       "      <th>NaN</th>\n",
       "      <th>NaN</th>\n",
       "      <th>NaN</th>\n",
       "      <th>NaN</th>\n",
       "      <td>None</td>\n",
       "    </tr>\n",
       "    <tr>\n",
       "      <th>80VUN7L00C</th>\n",
       "      <th>NaN</th>\n",
       "      <th>NaN</th>\n",
       "      <th>NaN</th>\n",
       "      <th>NaN</th>\n",
       "      <th>NaN</th>\n",
       "      <th>NaN</th>\n",
       "      <th>NaN</th>\n",
       "      <th>NaN</th>\n",
       "      <th>NaN</th>\n",
       "      <td>None</td>\n",
       "    </tr>\n",
       "    <tr>\n",
       "      <th>&gt; &lt;SYNONYMS&gt;</th>\n",
       "      <th>NaN</th>\n",
       "      <th>NaN</th>\n",
       "      <th>NaN</th>\n",
       "      <th>NaN</th>\n",
       "      <th>NaN</th>\n",
       "      <th>NaN</th>\n",
       "      <th>NaN</th>\n",
       "      <th>NaN</th>\n",
       "      <th>NaN</th>\n",
       "      <td>None</td>\n",
       "    </tr>\n",
       "    <tr>\n",
       "      <th>(2s,3s,5r)-3-methyl-3-((3-methyltriazol-3-ium-1-yl)methyl)-4,4,7-trioxo-4^6-thia-1-azabicyclo(3.2.0)heptane-2-carboxylate; 1h-1,2,3-triazolium, 3-(((2s,3s,5r)-2-carboxy-3-methyl-4,4-dioxido-7-oxo-4-thia-1-azabicyclo(3.2.0)hept-3-yl)methyl)-1-methyl-, inner salt</th>\n",
       "      <th>NaN</th>\n",
       "      <th>NaN</th>\n",
       "      <th>NaN</th>\n",
       "      <th>NaN</th>\n",
       "      <th>NaN</th>\n",
       "      <th>NaN</th>\n",
       "      <th>NaN</th>\n",
       "      <th>NaN</th>\n",
       "      <th>NaN</th>\n",
       "      <td>None</td>\n",
       "    </tr>\n",
       "    <tr>\n",
       "      <th>$$$$</th>\n",
       "      <th>NaN</th>\n",
       "      <th>NaN</th>\n",
       "      <th>NaN</th>\n",
       "      <th>NaN</th>\n",
       "      <th>NaN</th>\n",
       "      <th>NaN</th>\n",
       "      <th>NaN</th>\n",
       "      <th>NaN</th>\n",
       "      <th>NaN</th>\n",
       "      <td>None</td>\n",
       "    </tr>\n",
       "  </tbody>\n",
       "</table>\n",
       "<p>496999 rows × 1 columns</p>\n",
       "</div>"
      ],
      "text/plain": [
       "                                                                                       Mrv1909 04022122312D\n",
       "155160                                             0   0   1   0   NaN NaN NaN NaN NaN            999 V2000\n",
       "2                                                  1   1   0   0   0   0   NaN NaN NaN                 None\n",
       "3                                                  1   2   0   0   0   0   NaN NaN NaN                 None\n",
       "9                                                  1   1   0   0   0   0   NaN NaN NaN                 None\n",
       "4                                                  2   1   0   0   0   0   NaN NaN NaN                 None\n",
       "...                                                                                                     ...\n",
       "> <UNII>                                           NaN NaN NaN NaN NaN NaN NaN NaN NaN                 None\n",
       "80VUN7L00C                                         NaN NaN NaN NaN NaN NaN NaN NaN NaN                 None\n",
       "> <SYNONYMS>                                       NaN NaN NaN NaN NaN NaN NaN NaN NaN                 None\n",
       "(2s,3s,5r)-3-methyl-3-((3-methyltriazol-3-ium-1... NaN NaN NaN NaN NaN NaN NaN NaN NaN                 None\n",
       "$$$$                                               NaN NaN NaN NaN NaN NaN NaN NaN NaN                 None\n",
       "\n",
       "[496999 rows x 1 columns]"
      ]
     },
     "execution_count": 84,
     "metadata": {},
     "output_type": "execute_result"
    }
   ],
   "source": [
    "df11 = pd.read_csv('/Users/raynasser/Desktop/open structures.csv',\n",
    "                   delimiter= '  ',\n",
    "                   on_bad_lines='skip',\n",
    "                #    error_bad_lines=False\n",
    "                   )\n",
    "df11"
   ]
  },
  {
   "cell_type": "code",
   "execution_count": 85,
   "metadata": {},
   "outputs": [
    {
     "data": {
      "text/plain": [
       "Mrv1909 04022122312D    None\n",
       "Name: (> <CAS_NUMBER>, nan, nan, nan, nan, nan, nan, nan, nan, nan), dtype: object"
      ]
     },
     "execution_count": 85,
     "metadata": {},
     "output_type": "execute_result"
    }
   ],
   "source": [
    "df11.iloc[1778]"
   ]
  },
  {
   "cell_type": "code",
   "execution_count": 86,
   "metadata": {},
   "outputs": [
    {
     "data": {
      "text/html": [
       "<div>\n",
       "<style scoped>\n",
       "    .dataframe tbody tr th:only-of-type {\n",
       "        vertical-align: middle;\n",
       "    }\n",
       "\n",
       "    .dataframe tbody tr th {\n",
       "        vertical-align: top;\n",
       "    }\n",
       "\n",
       "    .dataframe thead th {\n",
       "        text-align: right;\n",
       "    }\n",
       "</style>\n",
       "<table border=\"1\" class=\"dataframe\">\n",
       "  <thead>\n",
       "    <tr style=\"text-align: right;\">\n",
       "      <th></th>\n",
       "      <th>name</th>\n",
       "      <th>type</th>\n",
       "      <th>{http://www.w3.org/2001/XMLSchema}annotation</th>\n",
       "      <th>{http://www.w3.org/2001/XMLSchema}sequence</th>\n",
       "      <th>{http://www.w3.org/2001/XMLSchema}attribute</th>\n",
       "      <th>{http://www.w3.org/2001/XMLSchema}restriction</th>\n",
       "      <th>{http://www.w3.org/2001/XMLSchema}simpleContent</th>\n",
       "    </tr>\n",
       "  </thead>\n",
       "  <tbody>\n",
       "    <tr>\n",
       "      <th>0</th>\n",
       "      <td>drugbank</td>\n",
       "      <td>drugbank-type</td>\n",
       "      <td>NaN</td>\n",
       "      <td>NaN</td>\n",
       "      <td>NaN</td>\n",
       "      <td>NaN</td>\n",
       "      <td>NaN</td>\n",
       "    </tr>\n",
       "    <tr>\n",
       "      <th>1</th>\n",
       "      <td>drugbank-type</td>\n",
       "      <td>None</td>\n",
       "      <td>NaN</td>\n",
       "      <td>NaN</td>\n",
       "      <td>NaN</td>\n",
       "      <td>NaN</td>\n",
       "      <td>NaN</td>\n",
       "    </tr>\n",
       "    <tr>\n",
       "      <th>2</th>\n",
       "      <td>drug-type</td>\n",
       "      <td>None</td>\n",
       "      <td>NaN</td>\n",
       "      <td>NaN</td>\n",
       "      <td>NaN</td>\n",
       "      <td>NaN</td>\n",
       "      <td>NaN</td>\n",
       "    </tr>\n",
       "    <tr>\n",
       "      <th>3</th>\n",
       "      <td>state-type</td>\n",
       "      <td>None</td>\n",
       "      <td>NaN</td>\n",
       "      <td>NaN</td>\n",
       "      <td>NaN</td>\n",
       "      <td>NaN</td>\n",
       "      <td>NaN</td>\n",
       "    </tr>\n",
       "    <tr>\n",
       "      <th>4</th>\n",
       "      <td>group-list-type</td>\n",
       "      <td>None</td>\n",
       "      <td>NaN</td>\n",
       "      <td>NaN</td>\n",
       "      <td>NaN</td>\n",
       "      <td>NaN</td>\n",
       "      <td>NaN</td>\n",
       "    </tr>\n",
       "    <tr>\n",
       "      <th>...</th>\n",
       "      <td>...</td>\n",
       "      <td>...</td>\n",
       "      <td>...</td>\n",
       "      <td>...</td>\n",
       "      <td>...</td>\n",
       "      <td>...</td>\n",
       "      <td>...</td>\n",
       "    </tr>\n",
       "    <tr>\n",
       "      <th>98</th>\n",
       "      <td>carrier-type</td>\n",
       "      <td>None</td>\n",
       "      <td>NaN</td>\n",
       "      <td>NaN</td>\n",
       "      <td>NaN</td>\n",
       "      <td>NaN</td>\n",
       "      <td>NaN</td>\n",
       "    </tr>\n",
       "    <tr>\n",
       "      <th>99</th>\n",
       "      <td>transporter-list-type</td>\n",
       "      <td>None</td>\n",
       "      <td>NaN</td>\n",
       "      <td>NaN</td>\n",
       "      <td>NaN</td>\n",
       "      <td>NaN</td>\n",
       "      <td>NaN</td>\n",
       "    </tr>\n",
       "    <tr>\n",
       "      <th>100</th>\n",
       "      <td>transporter-type</td>\n",
       "      <td>None</td>\n",
       "      <td>NaN</td>\n",
       "      <td>NaN</td>\n",
       "      <td>NaN</td>\n",
       "      <td>NaN</td>\n",
       "      <td>NaN</td>\n",
       "    </tr>\n",
       "    <tr>\n",
       "      <th>101</th>\n",
       "      <td>product-country-type</td>\n",
       "      <td>None</td>\n",
       "      <td>NaN</td>\n",
       "      <td>NaN</td>\n",
       "      <td>NaN</td>\n",
       "      <td>NaN</td>\n",
       "      <td>NaN</td>\n",
       "    </tr>\n",
       "    <tr>\n",
       "      <th>102</th>\n",
       "      <td>product-source-type</td>\n",
       "      <td>None</td>\n",
       "      <td>NaN</td>\n",
       "      <td>NaN</td>\n",
       "      <td>NaN</td>\n",
       "      <td>NaN</td>\n",
       "      <td>NaN</td>\n",
       "    </tr>\n",
       "  </tbody>\n",
       "</table>\n",
       "<p>103 rows × 7 columns</p>\n",
       "</div>"
      ],
      "text/plain": [
       "                      name           type  \\\n",
       "0                 drugbank  drugbank-type   \n",
       "1            drugbank-type           None   \n",
       "2                drug-type           None   \n",
       "3               state-type           None   \n",
       "4          group-list-type           None   \n",
       "..                     ...            ...   \n",
       "98            carrier-type           None   \n",
       "99   transporter-list-type           None   \n",
       "100       transporter-type           None   \n",
       "101   product-country-type           None   \n",
       "102    product-source-type           None   \n",
       "\n",
       "     {http://www.w3.org/2001/XMLSchema}annotation  \\\n",
       "0                                             NaN   \n",
       "1                                             NaN   \n",
       "2                                             NaN   \n",
       "3                                             NaN   \n",
       "4                                             NaN   \n",
       "..                                            ...   \n",
       "98                                            NaN   \n",
       "99                                            NaN   \n",
       "100                                           NaN   \n",
       "101                                           NaN   \n",
       "102                                           NaN   \n",
       "\n",
       "     {http://www.w3.org/2001/XMLSchema}sequence  \\\n",
       "0                                           NaN   \n",
       "1                                           NaN   \n",
       "2                                           NaN   \n",
       "3                                           NaN   \n",
       "4                                           NaN   \n",
       "..                                          ...   \n",
       "98                                          NaN   \n",
       "99                                          NaN   \n",
       "100                                         NaN   \n",
       "101                                         NaN   \n",
       "102                                         NaN   \n",
       "\n",
       "     {http://www.w3.org/2001/XMLSchema}attribute  \\\n",
       "0                                            NaN   \n",
       "1                                            NaN   \n",
       "2                                            NaN   \n",
       "3                                            NaN   \n",
       "4                                            NaN   \n",
       "..                                           ...   \n",
       "98                                           NaN   \n",
       "99                                           NaN   \n",
       "100                                          NaN   \n",
       "101                                          NaN   \n",
       "102                                          NaN   \n",
       "\n",
       "     {http://www.w3.org/2001/XMLSchema}restriction  \\\n",
       "0                                              NaN   \n",
       "1                                              NaN   \n",
       "2                                              NaN   \n",
       "3                                              NaN   \n",
       "4                                              NaN   \n",
       "..                                             ...   \n",
       "98                                             NaN   \n",
       "99                                             NaN   \n",
       "100                                            NaN   \n",
       "101                                            NaN   \n",
       "102                                            NaN   \n",
       "\n",
       "     {http://www.w3.org/2001/XMLSchema}simpleContent  \n",
       "0                                                NaN  \n",
       "1                                                NaN  \n",
       "2                                                NaN  \n",
       "3                                                NaN  \n",
       "4                                                NaN  \n",
       "..                                               ...  \n",
       "98                                               NaN  \n",
       "99                                               NaN  \n",
       "100                                              NaN  \n",
       "101                                              NaN  \n",
       "102                                              NaN  \n",
       "\n",
       "[103 rows x 7 columns]"
      ]
     },
     "execution_count": 86,
     "metadata": {},
     "output_type": "execute_result"
    }
   ],
   "source": [
    "df12 = pd.read_xml('/Users/raynasser/Desktop/drugbank.xsd')\n",
    "df12"
   ]
  },
  {
   "cell_type": "code",
   "execution_count": 87,
   "metadata": {},
   "outputs": [],
   "source": [
    "from datasets import load_dataset\n",
    "\n",
    "ds = load_dataset(\"keanec27/Drug_Protein_Interactions_space\")"
   ]
  },
  {
   "cell_type": "code",
   "execution_count": 88,
   "metadata": {},
   "outputs": [
    {
     "data": {
      "text/plain": [
       "DatasetDict({\n",
       "    train: Dataset({\n",
       "        features: ['id', 'DTI'],\n",
       "        num_rows: 36592\n",
       "    })\n",
       "})"
      ]
     },
     "execution_count": 88,
     "metadata": {},
     "output_type": "execute_result"
    }
   ],
   "source": [
    "ds"
   ]
  },
  {
   "cell_type": "code",
   "execution_count": 89,
   "metadata": {},
   "outputs": [
    {
     "data": {
      "text/plain": [
       "[{'protein': 'M S H H W G Y G K H N G P E H W H K D F P I A K G E R Q S P V D I D T H T A K Y D P S L K P L S V S Y D Q A T S L R I L N N G H A F N V E F D D S Q D K A V L K G G P L D G T Y R L I Q F H F H W G S L D G Q G S E H T V D K K K Y A A E L H L V H W N T K Y G D F G K A V Q Q P D G L A V L G I F L K V G S A K P G L Q K V V D V L D S I K T K G K S A D F T N F D P R G L L P E S L D Y W T Y P G S L T T P P L L E C V T W I V L K E P I S V S S E Q V L K F R K L N F N G E G E P E E L M V D N W R P A Q P L K N R Q I K A S F K',\n",
       "  'drug': '[C] [C] [=C] [C] [=C] [Branch2] [Ring1] [O] [C] [N] [S] [=Branch1] [C] [=O] [=Branch1] [C] [=O] [C] [=C] [C] [=C] [Branch1] [=Branch2] [S] [Branch1] [C] [N] [=Branch1] [C] [=O] [=O] [S] [Ring1] [=Branch2] [C] [=C] [Ring2] [Ring1] [Ring2]'},\n",
       " {'protein': 'M S H H W G Y G K H N G P E H W H K D F P I A K G E R Q S P V D I D T H T A K Y D P S L K P L S V S Y D Q A T S L R I L N N G H A F N V E F D D S Q D K A V L K G G P L D G T Y R L I Q F H F H W G S L D G Q G S E H T V D K K K Y A A E L H L V H W N T K Y G D F G K A V Q Q P D G L A V L G I F L K V G S A K P G L Q K V V D V L D S I K T K G K S A D F T N F D P R G L L P E S L D Y W T Y P G S L T T P P L L E C V T W I V L K E P I S V S S E Q V L K F R K L N F N G E G E P E E L M V D N W R P A Q P L K N R Q I K A S F K',\n",
       "  'drug': '[C] [O] [C] [=C] [C] [=C] [Branch2] [Ring1] [O] [C] [N] [S] [=Branch1] [C] [=O] [=Branch1] [C] [=O] [C] [=C] [C] [=C] [Branch1] [=Branch2] [S] [Branch1] [C] [N] [=Branch1] [C] [=O] [=O] [S] [Ring1] [=Branch2] [C] [=C] [Ring2] [Ring1] [Ring2]'},\n",
       " {'protein': 'M S H H W G Y G K H N G P E H W H K D F P I A K G E R Q S P V D I D T H T A K Y D P S L K P L S V S Y D Q A T S L R I L N N G H A F N V E F D D S Q D K A V L K G G P L D G T Y R L I Q F H F H W G S L D G Q G S E H T V D K K K Y A A E L H L V H W N T K Y G D F G K A V Q Q P D G L A V L G I F L K V G S A K P G L Q K V V D V L D S I K T K G K S A D F T N F D P R G L L P E S L D Y W T Y P G S L T T P P L L E C V T W I V L K E P I S V S S E Q V L K F R K L N F N G E G E P E E L M V D N W R P A Q P L K N R Q I K A S F K',\n",
       "  'drug': '[N] [S] [=Branch1] [C] [=O] [=Branch1] [C] [=O] [C] [=C] [C] [=C] [Branch1] [P] [S] [=Branch1] [C] [=O] [=Branch1] [C] [=O] [N] [C] [C] [=C] [C] [=C] [S] [Ring1] [Branch1] [S] [Ring1] [#C]'},\n",
       " {'protein': 'M S H H W G Y G K H N G P E H W H K D F P I A K G E R Q S P V D I D T H T A K Y D P S L K P L S V S Y D Q A T S L R I L N N G H A F N V E F D D S Q D K A V L K G G P L D G T Y R L I Q F H F H W G S L D G Q G S E H T V D K K K Y A A E L H L V H W N T K Y G D F G K A V Q Q P D G L A V L G I F L K V G S A K P G L Q K V V D V L D S I K T K G K S A D F T N F D P R G L L P E S L D Y W T Y P G S L T T P P L L E C V T W I V L K E P I S V S S E Q V L K F R K L N F N G E G E P E E L M V D N W R P A Q P L K N R Q I K A S F K',\n",
       "  'drug': '[C] [C] [N] [C@H1] [C] [N] [Branch1] [Branch1] [C] [C] [O] [C] [S] [=Branch1] [C] [=O] [=Branch1] [C] [=O] [C] [S] [C] [Branch1] [=Branch2] [S] [Branch1] [C] [N] [=Branch1] [C] [=O] [=O] [=C] [C] [=Ring1] [=Branch2] [Ring2] [Ring1] [Ring1]'},\n",
       " {'protein': 'M S H H W G Y G K H N G P E H W H K D F P I A K G E R Q S P V D I D T H T A K Y D P S L K P L S V S Y D Q A T S L R I L N N G H A F N V E F D D S Q D K A V L K G G P L D G T Y R L I Q F H F H W G S L D G Q G S E H T V D K K K Y A A E L H L V H W N T K Y G D F G K A V Q Q P D G L A V L G I F L K V G S A K P G L Q K V V D V L D S I K T K G K S A D F T N F D P R G L L P E S L D Y W T Y P G S L T T P P L L E C V T W I V L K E P I S V S S E Q V L K F R K L N F N G E G E P E E L M V D N W R P A Q P L K N R Q I K A S F K',\n",
       "  'drug': '[C] [N] [C@H1] [C] [N] [Branch1] [=N] [C] [=C] [C] [=C] [C] [Branch1] [Ring1] [O] [C] [=C] [Ring1] [Branch2] [S] [=Branch1] [C] [=O] [=Branch1] [C] [=O] [C] [S] [C] [Branch1] [=Branch2] [S] [Branch1] [C] [N] [=Branch1] [C] [=O] [=O] [=C] [C] [=Ring1] [=Branch2] [Ring2] [Ring1] [#Branch1]'},\n",
       " {'protein': 'M S H H W G Y G K H N G P E H W H K D F P I A K G E R Q S P V D I D T H T A K Y D P S L K P L S V S Y D Q A T S L R I L N N G H A F N V E F D D S Q D K A V L K G G P L D G T Y R L I Q F H F H W G S L D G Q G S E H T V D K K K Y A A E L H L V H W N T K Y G D F G K A V Q Q P D G L A V L G I F L K V G S A K P G L Q K V V D V L D S I K T K G K S A D F T N F D P R G L L P E S L D Y W T Y P G S L T T P P L L E C V T W I V L K E P I S V S S E Q V L K F R K L N F N G E G E P E E L M V D N W R P A Q P L K N R Q I K A S F K',\n",
       "  'drug': '[C] [N] [C@@H1] [C] [N] [Branch1] [=N] [C] [=C] [C] [=C] [C] [Branch1] [Ring1] [O] [C] [=C] [Ring1] [Branch2] [S] [=Branch1] [C] [=O] [=Branch1] [C] [=O] [C] [S] [C] [Branch1] [=Branch2] [S] [Branch1] [C] [N] [=Branch1] [C] [=O] [=O] [=C] [C] [=Ring1] [=Branch2] [Ring2] [Ring1] [#Branch1]'},\n",
       " {'protein': 'M S H H W G Y G K H N G P E H W H K D F P I A K G E R Q S P V D I D T H T A K Y D P S L K P L S V S Y D Q A T S L R I L N N G H A F N V E F D D S Q D K A V L K G G P L D G T Y R L I Q F H F H W G S L D G Q G S E H T V D K K K Y A A E L H L V H W N T K Y G D F G K A V Q Q P D G L A V L G I F L K V G S A K P G L Q K V V D V L D S I K T K G K S A D F T N F D P R G L L P E S L D Y W T Y P G S L T T P P L L E C V T W I V L K E P I S V S S E Q V L K F R K L N F N G E G E P E E L M V D N W R P A Q P L K N R Q I K A S F K',\n",
       "  'drug': '[C] [O] [C] [=C] [C] [=C] [C] [Branch2] [Ring1] [N] [N] [C] [=C] [C] [C] [=C] [Branch1] [=Branch2] [S] [Branch1] [C] [N] [=Branch1] [C] [=O] [=O] [S] [C] [=Ring1] [=Branch2] [S] [Ring1] [=N] [=Branch1] [C] [=O] [=O] [=C] [Ring2] [Ring1] [Branch1]'},\n",
       " {'protein': 'S H H W G Y G K H N G P E H W H K D F P I A K G E R Q S P V D I D T H T A K Y D P S L K P L S V S Y D Q A T S L R I L N N G H A F N V E F D D S Q D K A V L K G G P L D G T Y R L I Q F H F H W G S L D G Q G S E H T V D K K K Y A A E L H L V H W N T K Y G D V G K A V Q Q P D G L A V L G I F L K V G S A K P G L Q K V V D V L D S I K T K G K S A D F T N F D P R G L L P E S L D Y W T Y P G S L T T P P L L E C V T W I V L K E P I S V S S E Q V L K F R K L N F N G E G E P E E L M V D N W R P A Q P L K N R Q I K A S F K',\n",
       "  'drug': '[N] [S] [=Branch1] [C] [=O] [=Branch1] [C] [=O] [C] [=C] [C] [=C] [Branch1] [#C] [C] [=Branch1] [C] [=O] [N] [C] [C] [=C] [C] [=C] [C] [=C] [Ring1] [=Branch1] [C] [=C] [Ring1] [S]'},\n",
       " {'protein': 'S H H W G Y G K H N G P E H W H K D F P I A K G E R Q S P V D I D T H T A K Y D P S L K P L S V S Y D Q A T S L R I L N N G H A F N V E F D D S Q D K A V L K G G P L D G T Y R L I Q F H F H W G S L D G Q G S E H T V D K K K Y A A E L H L V H W N T K Y G D V G K A V Q Q P D G L A V L G I F L K V G S A K P G L Q K V V D V L D S I K T K G K S A D F T N F D P R G L L P E S L D Y W T Y P G S L T T P P L L E C V T W I V L K E P I S V S S E Q V L K F R K L N F N G E G E P E E L M V D N W R P A Q P L K N R Q I K A S F K',\n",
       "  'drug': '[N] [S] [=Branch1] [C] [=O] [=Branch1] [C] [=O] [C] [=C] [C] [=C] [Branch1] [S] [C] [=Branch1] [C] [=O] [N] [C] [C] [=C] [C] [=C] [C] [=C] [Ring1] [=Branch1] [F] [C] [=C] [Ring1] [P]'},\n",
       " {'protein': 'S H H W G Y G K H N G P E H W H K D F P I A K G E R Q S P V D I D T H T A K Y D P S L K P L S V S Y D Q A T S L R I L N N G H A F N V E F D D S Q D K A V L K G G P L D G T Y R L I Q F H F H W G S L D G Q G S E H T V D K K K Y A A E L H L V H W N T K Y G D V G K A V Q Q P D G L A V L G I F L K V G S A K P G L Q K V V D V L D S I K T K G K S A D F T N F D P R G L L P E S L D Y W T Y P G S L T T P P L L E C V T W I V L K E P I S V S S E Q V L K F R K L N F N G E G E P E E L M V D N W R P A Q P L K N R Q I K A S F K',\n",
       "  'drug': '[N] [S] [=Branch1] [C] [=O] [=Branch1] [C] [=O] [C] [=C] [C] [=C] [Branch2] [Ring1] [Ring1] [C] [=Branch1] [C] [=O] [N] [C] [C] [=C] [C] [=C] [C] [Branch1] [C] [F] [=C] [Ring1] [#Branch1] [F] [C] [=C] [Ring2] [Ring1] [C]'}]"
      ]
     },
     "execution_count": 89,
     "metadata": {},
     "output_type": "execute_result"
    }
   ],
   "source": [
    "ds['train']['DTI'][:10]"
   ]
  },
  {
   "cell_type": "code",
   "execution_count": 90,
   "metadata": {},
   "outputs": [
    {
     "ename": "AttributeError",
     "evalue": "'list' object has no attribute 'to_csv'",
     "output_type": "error",
     "traceback": [
      "\u001b[0;31m---------------------------------------------------------------------------\u001b[0m",
      "\u001b[0;31mAttributeError\u001b[0m                            Traceback (most recent call last)",
      "Cell \u001b[0;32mIn [90], line 1\u001b[0m\n\u001b[0;32m----> 1\u001b[0m \u001b[43mds\u001b[49m\u001b[43m[\u001b[49m\u001b[38;5;124;43m'\u001b[39;49m\u001b[38;5;124;43mtrain\u001b[39;49m\u001b[38;5;124;43m'\u001b[39;49m\u001b[43m]\u001b[49m\u001b[43m[\u001b[49m\u001b[38;5;124;43m'\u001b[39;49m\u001b[38;5;124;43mDTI\u001b[39;49m\u001b[38;5;124;43m'\u001b[39;49m\u001b[43m]\u001b[49m\u001b[38;5;241;43m.\u001b[39;49m\u001b[43mto_csv\u001b[49m(\u001b[38;5;124m'\u001b[39m\u001b[38;5;124m/Users/raynasser/Desktop/Drug_Protein_Interactions_space.csv\u001b[39m\u001b[38;5;124m'\u001b[39m)\n",
      "\u001b[0;31mAttributeError\u001b[0m: 'list' object has no attribute 'to_csv'"
     ]
    }
   ],
   "source": [
    "ds['train']['DTI'].to_csv('/Users/raynasser/Desktop/Drug_Protein_Interactions_space.csv')"
   ]
  },
  {
   "cell_type": "code",
   "execution_count": 94,
   "metadata": {},
   "outputs": [
    {
     "data": {
      "text/plain": [
       "IterableDatasetDict({\n",
       "    train: IterableDataset({\n",
       "        features: ['dosed_ingredient', 'indication_class', 'molecule_chembl_id', 'molecule_type', 'oral', 'pref_name', 'therapeutic_flag', 'usan_stem', 'usan_stem_definition', 'usan_year', 'withdrawn_flag', 'smiles', 'inchikey', 'slices', 'morphing', 'motif', 'scaffold', 'superstructure'],\n",
       "        n_shards: 1\n",
       "    })\n",
       "})"
      ]
     },
     "execution_count": 94,
     "metadata": {},
     "output_type": "execute_result"
    }
   ],
   "source": [
    "ds2 = load_dataset(\"datamol-io/safe-drugs\", streaming=True)\n",
    "\n",
    "ds2"
   ]
  },
  {
   "cell_type": "code",
   "execution_count": 103,
   "metadata": {},
   "outputs": [
    {
     "data": {
      "text/plain": [
       "(26, 18)"
      ]
     },
     "execution_count": 103,
     "metadata": {},
     "output_type": "execute_result"
    }
   ],
   "source": [
    "ds2 = pd.read_csv('/Users/raynasser/Desktop/safe-drugs.csv')\n",
    "ds2.shape"
   ]
  },
  {
   "cell_type": "code",
   "execution_count": 95,
   "metadata": {},
   "outputs": [
    {
     "data": {
      "text/html": [
       "<div>\n",
       "<style scoped>\n",
       "    .dataframe tbody tr th:only-of-type {\n",
       "        vertical-align: middle;\n",
       "    }\n",
       "\n",
       "    .dataframe tbody tr th {\n",
       "        vertical-align: top;\n",
       "    }\n",
       "\n",
       "    .dataframe thead th {\n",
       "        text-align: right;\n",
       "    }\n",
       "</style>\n",
       "<table border=\"1\" class=\"dataframe\">\n",
       "  <thead>\n",
       "    <tr style=\"text-align: right;\">\n",
       "      <th></th>\n",
       "      <th>protein</th>\n",
       "      <th>drug</th>\n",
       "    </tr>\n",
       "  </thead>\n",
       "  <tbody>\n",
       "    <tr>\n",
       "      <th>0</th>\n",
       "      <td>M S H H W G Y G K H N G P E H W H K D F P I A ...</td>\n",
       "      <td>[C] [C] [=C] [C] [=C] [Branch2] [Ring1] [O] [C...</td>\n",
       "    </tr>\n",
       "    <tr>\n",
       "      <th>1</th>\n",
       "      <td>M S H H W G Y G K H N G P E H W H K D F P I A ...</td>\n",
       "      <td>[C] [O] [C] [=C] [C] [=C] [Branch2] [Ring1] [O...</td>\n",
       "    </tr>\n",
       "    <tr>\n",
       "      <th>2</th>\n",
       "      <td>M S H H W G Y G K H N G P E H W H K D F P I A ...</td>\n",
       "      <td>[N] [S] [=Branch1] [C] [=O] [=Branch1] [C] [=O...</td>\n",
       "    </tr>\n",
       "    <tr>\n",
       "      <th>3</th>\n",
       "      <td>M S H H W G Y G K H N G P E H W H K D F P I A ...</td>\n",
       "      <td>[C] [C] [N] [C@H1] [C] [N] [Branch1] [Branch1]...</td>\n",
       "    </tr>\n",
       "    <tr>\n",
       "      <th>4</th>\n",
       "      <td>M S H H W G Y G K H N G P E H W H K D F P I A ...</td>\n",
       "      <td>[C] [N] [C@H1] [C] [N] [Branch1] [=N] [C] [=C]...</td>\n",
       "    </tr>\n",
       "    <tr>\n",
       "      <th>...</th>\n",
       "      <td>...</td>\n",
       "      <td>...</td>\n",
       "    </tr>\n",
       "    <tr>\n",
       "      <th>36587</th>\n",
       "      <td>M C N T N M S V P T D G A V T T S Q I P A S E ...</td>\n",
       "      <td>[C] [O] [C] [=C] [C] [Branch1] [=Branch1] [C] ...</td>\n",
       "    </tr>\n",
       "    <tr>\n",
       "      <th>36588</th>\n",
       "      <td>M C N T N M S V P T D G A V T T S Q I P A S E ...</td>\n",
       "      <td>[C] [C] [Branch1] [C] [C] [Branch1] [C] [C] [C...</td>\n",
       "    </tr>\n",
       "    <tr>\n",
       "      <th>36589</th>\n",
       "      <td>M C N T N M S V P T D G A V T T S Q I P A S E ...</td>\n",
       "      <td>[C] [C] [Branch1] [C] [C] [C@@H1] [Branch1] [=...</td>\n",
       "    </tr>\n",
       "    <tr>\n",
       "      <th>36590</th>\n",
       "      <td>M K R V I T L F A V L L M G W S V N A W S F A ...</td>\n",
       "      <td>[C] [C] [C] [C] [C] [C] [C] [O] [C] [O] [C] [B...</td>\n",
       "    </tr>\n",
       "    <tr>\n",
       "      <th>36591</th>\n",
       "      <td>M K R V I T L F A V L L M G W S V N A W S F A ...</td>\n",
       "      <td>[C] [C] [C] [C] [C] [C] [C] [O] [C] [O] [C] [B...</td>\n",
       "    </tr>\n",
       "  </tbody>\n",
       "</table>\n",
       "<p>36592 rows × 2 columns</p>\n",
       "</div>"
      ],
      "text/plain": [
       "                                                 protein  \\\n",
       "0      M S H H W G Y G K H N G P E H W H K D F P I A ...   \n",
       "1      M S H H W G Y G K H N G P E H W H K D F P I A ...   \n",
       "2      M S H H W G Y G K H N G P E H W H K D F P I A ...   \n",
       "3      M S H H W G Y G K H N G P E H W H K D F P I A ...   \n",
       "4      M S H H W G Y G K H N G P E H W H K D F P I A ...   \n",
       "...                                                  ...   \n",
       "36587  M C N T N M S V P T D G A V T T S Q I P A S E ...   \n",
       "36588  M C N T N M S V P T D G A V T T S Q I P A S E ...   \n",
       "36589  M C N T N M S V P T D G A V T T S Q I P A S E ...   \n",
       "36590  M K R V I T L F A V L L M G W S V N A W S F A ...   \n",
       "36591  M K R V I T L F A V L L M G W S V N A W S F A ...   \n",
       "\n",
       "                                                    drug  \n",
       "0      [C] [C] [=C] [C] [=C] [Branch2] [Ring1] [O] [C...  \n",
       "1      [C] [O] [C] [=C] [C] [=C] [Branch2] [Ring1] [O...  \n",
       "2      [N] [S] [=Branch1] [C] [=O] [=Branch1] [C] [=O...  \n",
       "3      [C] [C] [N] [C@H1] [C] [N] [Branch1] [Branch1]...  \n",
       "4      [C] [N] [C@H1] [C] [N] [Branch1] [=N] [C] [=C]...  \n",
       "...                                                  ...  \n",
       "36587  [C] [O] [C] [=C] [C] [Branch1] [=Branch1] [C] ...  \n",
       "36588  [C] [C] [Branch1] [C] [C] [Branch1] [C] [C] [C...  \n",
       "36589  [C] [C] [Branch1] [C] [C] [C@@H1] [Branch1] [=...  \n",
       "36590  [C] [C] [C] [C] [C] [C] [C] [O] [C] [O] [C] [B...  \n",
       "36591  [C] [C] [C] [C] [C] [C] [C] [O] [C] [O] [C] [B...  \n",
       "\n",
       "[36592 rows x 2 columns]"
      ]
     },
     "execution_count": 95,
     "metadata": {},
     "output_type": "execute_result"
    }
   ],
   "source": [
    "df13 = pd.DataFrame(ds['train']['DTI'])\n",
    "df13"
   ]
  },
  {
   "cell_type": "code",
   "execution_count": 94,
   "metadata": {},
   "outputs": [
    {
     "data": {
      "text/plain": [
       "1311"
      ]
     },
     "execution_count": 94,
     "metadata": {},
     "output_type": "execute_result"
    }
   ],
   "source": [
    "df13.protein.nunique()"
   ]
  },
  {
   "cell_type": "code",
   "execution_count": 98,
   "metadata": {},
   "outputs": [],
   "source": [
    "# import requests\n",
    "# requests.adapters.DEFAULT_RETRIES = 5\n",
    "# requests.get('https://huggingface.co', timeout=60)\n",
    "\n",
    "\n",
    "\n",
    "# df14 = pd.DataFrame(ds2['train'])\n",
    "# df14"
   ]
  },
  {
   "cell_type": "code",
   "execution_count": 99,
   "metadata": {},
   "outputs": [
    {
     "data": {
      "text/plain": [
       "DatasetDict({\n",
       "    train: Dataset({\n",
       "        features: ['user', 'assistant'],\n",
       "        num_rows: 84280\n",
       "    })\n",
       "})"
      ]
     },
     "execution_count": 99,
     "metadata": {},
     "output_type": "execute_result"
    }
   ],
   "source": [
    "# https://huggingface.co/datasets/developerZoyal/full_drugs_data\n",
    "\n",
    "ds3 = load_dataset(\"developerZoyal/full_drugs_data\")\n",
    "ds3"
   ]
  },
  {
   "cell_type": "code",
   "execution_count": 102,
   "metadata": {},
   "outputs": [
    {
     "name": "stdout",
     "output_type": "stream",
     "text": [
      "                                user  \\\n",
      "0        {\"METFORMIN HYDROCHLORIDE\"}   \n",
      "1             {\"CARBAMIDE PEROXIDE\"}   \n",
      "2  {\"METHYLPHENIDATE HYDROCHLORIDE\"}   \n",
      "3             {\"RABEPRAZOLE SODIUM\"}   \n",
      "4          {\"BENZALKONIUM CHLORIDE\"}   \n",
      "\n",
      "                                           assistant  \n",
      "0  {'contraindications': '{\"CONTRAINDICATIONS Met...  \n",
      "1  {'contraindications': None, 'adverse_reactions...  \n",
      "2  {'contraindications': '{\"CONTRAINDICATIONS Mar...  \n",
      "3  {'contraindications': '{\"4 CONTRAINDICATIONS P...  \n",
      "4  {'contraindications': None, 'adverse_reactions...  \n"
     ]
    }
   ],
   "source": [
    "import pandas as pd\n",
    "import requests\n",
    "\n",
    "# Correct URL for the actual raw JSONL file\n",
    "url = \"https://huggingface.co/datasets/developerZoyal/full_drugs_data/resolve/main/full_drugs_data.jsonl\"\n",
    "response = requests.get(url)\n",
    "\n",
    "# Check if request is successful\n",
    "if response.status_code == 200:\n",
    "    # Save the file content to a local file\n",
    "    with open('full_drugs_data.jsonl', 'wb') as f:\n",
    "        f.write(response.content)\n",
    "\n",
    "    # Now load the JSONL data into a DataFrame\n",
    "    df14 = pd.read_json('full_drugs_data.jsonl', lines=True)\n",
    "    print(df14.head())\n",
    "else:\n",
    "    print(\"Failed to download the dataset\")\n"
   ]
  },
  {
   "cell_type": "code",
   "execution_count": 7,
   "metadata": {},
   "outputs": [
    {
     "ename": "NameError",
     "evalue": "name 'df7' is not defined",
     "output_type": "error",
     "traceback": [
      "\u001b[0;31m---------------------------------------------------------------------------\u001b[0m",
      "\u001b[0;31mNameError\u001b[0m                                 Traceback (most recent call last)",
      "Cell \u001b[0;32mIn [7], line 1\u001b[0m\n\u001b[0;32m----> 1\u001b[0m \u001b[43mdf7\u001b[49m\u001b[38;5;241m.\u001b[39mshape\n",
      "\u001b[0;31mNameError\u001b[0m: name 'df7' is not defined"
     ]
    }
   ],
   "source": [
    "df7.shape"
   ]
  },
  {
   "cell_type": "code",
   "execution_count": 91,
   "metadata": {},
   "outputs": [
    {
     "data": {
      "text/plain": [
       "Identifier                                                         72\n",
       "FirstBlock                                             YQUVCSBJEUQKSH\n",
       "PubMed_Count                                                     1417\n",
       "Patent_Count                                                    32872\n",
       "Related_CIDs                                              72 54675866\n",
       "Synonym                                     3,4-DIHYDROXYBENZOIC ACID\n",
       "MolecularFormula                                               C7H6O4\n",
       "SMILES                                        C1=CC(=C(C=C1C(=O)O)O)O\n",
       "InChI               InChI=1S/C7H6O4/c8-5-2-1-4(7(10)11)3-6(5)9/h1-...\n",
       "InChIKey                                  YQUVCSBJEUQKSH-UHFFFAOYSA-N\n",
       "MonoisotopicMass                                           154.026609\n",
       "CompoundName                                3,4-dihydroxybenzoic acid\n",
       "AnnoTypeCount                                                       8\n",
       "AgroChemInfo                                                        0\n",
       "BioPathway                                                          6\n",
       "DrugMedicInfo                                                       2\n",
       "FoodRelated                                                         5\n",
       "PharmacoInfo                                                        5\n",
       "SafetyInfo                                                          2\n",
       "ToxicityInfo                                                        2\n",
       "KnownUse                                                            3\n",
       "DisorderDisease                                                     2\n",
       "Identification                                                      0\n",
       "Name: 33, dtype: object"
      ]
     },
     "execution_count": 91,
     "metadata": {},
     "output_type": "execute_result"
    }
   ],
   "source": [
    "df3.iloc[33]"
   ]
  },
  {
   "cell_type": "code",
   "execution_count": 93,
   "metadata": {},
   "outputs": [
    {
     "data": {
      "text/plain": [
       "id                                                       34\n",
       "name                                     axcer  90mg tablet\n",
       "substitute0                               Tikacad 90 Tablet\n",
       "substitute1                                  Brigrel Tablet\n",
       "substitute2                                Xygrel 90 Tablet\n",
       "substitute3                              Ticastro 90 Tablet\n",
       "substitute4                               Ticavic 90 Tablet\n",
       "sideEffect0                                        Bleeding\n",
       "sideEffect1                                  Breathlessness\n",
       "sideEffect2                                             NaN\n",
       "sideEffect3                                             NaN\n",
       "sideEffect4                                             NaN\n",
       "sideEffect5                                             NaN\n",
       "sideEffect6                                             NaN\n",
       "sideEffect7                                             NaN\n",
       "sideEffect8                                             NaN\n",
       "sideEffect9                                             NaN\n",
       "sideEffect10                                            NaN\n",
       "sideEffect11                                            NaN\n",
       "sideEffect12                                            NaN\n",
       "sideEffect13                                            NaN\n",
       "sideEffect14                                            NaN\n",
       "sideEffect15                                            NaN\n",
       "sideEffect16                                            NaN\n",
       "sideEffect17                                            NaN\n",
       "sideEffect18                                            NaN\n",
       "sideEffect19                                            NaN\n",
       "sideEffect20                                            NaN\n",
       "sideEffect21                                            NaN\n",
       "sideEffect22                                            NaN\n",
       "sideEffect23                                            NaN\n",
       "sideEffect24                                            NaN\n",
       "sideEffect25                                            NaN\n",
       "sideEffect26                                            NaN\n",
       "sideEffect27                                            NaN\n",
       "sideEffect28                                            NaN\n",
       "sideEffect29                                            NaN\n",
       "sideEffect30                                            NaN\n",
       "sideEffect31                                            NaN\n",
       "sideEffect32                                            NaN\n",
       "sideEffect33                                            NaN\n",
       "sideEffect34                                            NaN\n",
       "sideEffect35                                            NaN\n",
       "sideEffect36                                            NaN\n",
       "sideEffect37                                            NaN\n",
       "sideEffect38                                            NaN\n",
       "sideEffect39                                            NaN\n",
       "sideEffect40                                            NaN\n",
       "sideEffect41                                            NaN\n",
       "use0                  Prevention of heart attack and stroke\n",
       "use1                                                    NaN\n",
       "use2                                                    NaN\n",
       "use3                                                    NaN\n",
       "use4                                                    NaN\n",
       "Chemical Class                          Triazolopyrimidines\n",
       "Habit Forming                                            No\n",
       "Therapeutic Class                             BLOOD RELATED\n",
       "Action Class                P2Y12 inhibitors (ADP receptor)\n",
       "Name: 33, dtype: object"
      ]
     },
     "execution_count": 93,
     "metadata": {},
     "output_type": "execute_result"
    }
   ],
   "source": [
    "df.iloc[33]"
   ]
  },
  {
   "cell_type": "code",
   "execution_count": null,
   "metadata": {},
   "outputs": [],
   "source": []
  }
 ],
 "metadata": {
  "kernelspec": {
   "display_name": "MediSure",
   "language": "python",
   "name": "python3"
  },
  "language_info": {
   "codemirror_mode": {
    "name": "ipython",
    "version": 3
   },
   "file_extension": ".py",
   "mimetype": "text/x-python",
   "name": "python",
   "nbconvert_exporter": "python",
   "pygments_lexer": "ipython3",
   "version": "3.10.6"
  }
 },
 "nbformat": 4,
 "nbformat_minor": 2
}
